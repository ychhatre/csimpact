{
 "cells": [
  {
   "cell_type": "code",
   "execution_count": 1,
   "id": "5cbdc8a1",
   "metadata": {},
   "outputs": [],
   "source": [
    "import matplotlib.pyplot as plt\n",
    "import pandas as pd\n",
    "%matplotlib inline\n",
    "import time\n",
    "import os"
   ]
  },
  {
   "cell_type": "code",
   "execution_count": 2,
   "id": "2052fd92",
   "metadata": {},
   "outputs": [],
   "source": [
    "from plotly.graph_objs import Bar, Layout\n",
    "from plotly import offline\n",
    "import plotly.express as px\n",
    "import plotly.graph_objects as go"
   ]
  },
  {
   "cell_type": "code",
   "execution_count": 3,
   "id": "82f398ef",
   "metadata": {},
   "outputs": [],
   "source": [
    "colleges = pd.read_csv('/Users/kevins/Documents/CSImpact/data/colleges.csv')"
   ]
  },
  {
   "cell_type": "code",
   "execution_count": 4,
   "id": "08191db3",
   "metadata": {},
   "outputs": [],
   "source": [
    "data = pd.read_csv('/Users/kevins/Documents/CSImpact/data/cleaned_prof_data_v4.csv')"
   ]
  },
  {
   "cell_type": "code",
   "execution_count": 27,
   "id": "635761db",
   "metadata": {},
   "outputs": [],
   "source": [
    "college_data = pd.DataFrame()\n",
    "def plot(college):\n",
    "    college_no_spaces = college.replace(' ','_').replace('/', '_')\n",
    "    i = colleges.index[colleges['college'] == f'{college}'].tolist()[0]\n",
    "    college_data = pd.read_csv(str(os.getcwd()).replace('code/old_test_code', '') + '/data/college_data/college'+str(i)+'.csv')\n",
    "    missing_id_rows = college_data.loc[(pd.isna(college_data['h-index'])) & (pd.isna(college_data['citations']))]\n",
    "    rows_to_plot = college_data.loc[(~(pd.isna(college_data['h-index'])) & ~(pd.isna(college_data['citations'])))]\n",
    "    rows = college_data.shape[0]\n",
    "    \n",
    "    \n",
    "    missing_profs = missing_id_rows['name']\n",
    "    \n",
    "    #print(missing_profs)\n",
    "    \n",
    "    missing_h_indexes = []\n",
    "    missing_citations = []\n",
    "    \n",
    "    for p in missing_profs:\n",
    "        missing_h_indexes.append(0)\n",
    "        missing_citations.append(0)\n",
    "    #print(missing_h_indexes)\n",
    "    \n",
    "    if(rows>5):\n",
    "        fig_width = rows * 20 + 100\n",
    "    else:\n",
    "        fig_width= 400\n",
    "        \n",
    "    \n",
    "    rows_to_plot = rows_to_plot.sort_values('h-index')\n",
    "    \n",
    "    desc = rows_to_plot.describe()\n",
    "    \n",
    "    \n",
    "    #h-index\n",
    "    \n",
    "    h_indx_mean = round(float(desc.iloc[1,1]),3)\n",
    "    #print(h_indx_mean)\n",
    "    \n",
    "    \n",
    "    h_indexes = rows_to_plot['h-index']\n",
    "    names = rows_to_plot['name']\n",
    "    \n",
    "#     print(names)\n",
    "#     print(h_indexes)\n",
    "    \n",
    "    \n",
    "    fig = px.scatter(x = missing_profs, y = missing_h_indexes, labels = {'x':'name', 'y':'h-index'},title = f'{college}', width = fig_width, height = 1000, range_y = [0,300], range_x = [-1,rows],color_discrete_sequence=['red'])\n",
    "    fig.update_traces(hovertemplate='NO DATA')\n",
    "\n",
    "    \n",
    "    fig.add_hline(y=h_indx_mean, line_color = 'black',annotation_text=f'Average h-index = {h_indx_mean}', annotation_position = \"top left\")\n",
    "    \n",
    "    fig.update_layout(title = go.layout.Title(text = f'{college} <br><sup>Average h-index for {rows_to_plot.shape[0]} professors: {h_indx_mean}</sup>', xref = 'paper', x = 0), font=dict(\n",
    "               family=\"Courier New, monospace\",\n",
    "               size=10,\n",
    "               color=\"#000000\"\n",
    "           )\n",
    "        )\n",
    "    \n",
    "    fig.add_trace(\n",
    "    go.Scatter(\n",
    "        x=names,\n",
    "        y= h_indexes,\n",
    "        mode ='markers', name = '',marker = dict( color = 'black'))\n",
    "    )\n",
    "    \n",
    "    \n",
    "    fig.show()\n",
    "    fig.write_html(f'/Users/kevins/Documents/CSImpact/data/college_graphs/{college_no_spaces}/{college_no_spaces}_h_index.html')\n",
    "\n",
    "    \n",
    "    #citations\n",
    "    \n",
    "    cit_mean = round(float(desc.iloc[1,0]),3)\n",
    "    #print(cit_mean)\n",
    "    \n",
    "    rows_to_plot = rows_to_plot.sort_values('citations')\n",
    "    names = rows_to_plot['name']\n",
    "    \n",
    "    citations = rows_to_plot['citations']\n",
    "\n",
    "        \n",
    "    fig = px.scatter(x = missing_profs, y = missing_citations, labels = {'x':'name', 'y':'citations'},title = f'{college}', width = fig_width, height = 1000, range_y = [0,325000], range_x = [-1,rows],color_discrete_sequence=['red'])\n",
    "    fig.update_traces(hovertemplate='NO DATA')\n",
    "\n",
    "\n",
    "    \n",
    "    fig.add_hline(y=cit_mean, line_color = 'black',annotation_text=f'Average = {cit_mean} citations', annotation_position = \"top left\")\n",
    "    \n",
    "    fig.update_layout(title = go.layout.Title(text = f'{college} <br><sup>Average citations for {rows_to_plot.shape[0]} professors: {cit_mean}</sup>', xref = 'paper', x = 0), font=dict(\n",
    "               family=\"Courier New, monospace\",\n",
    "               size=10,\n",
    "               color=\"#000000\"\n",
    "           )\n",
    "        )\n",
    "    \n",
    "    fig.add_trace(\n",
    "    go.Scatter(\n",
    "        x=names,\n",
    "        y= citations,\n",
    "        mode ='markers', name = '',marker = dict( color = 'black'))\n",
    "    )\n",
    "    \n",
    "    fig.show()\n",
    "    fig.write_html(f'/Users/kevins/Documents/CSImpact/data/college_graphs/{college_no_spaces}/{college_no_spaces}_citations.html')"
   ]
  },
  {
   "cell_type": "code",
   "execution_count": 31,
   "id": "662dd69d",
   "metadata": {
    "scrolled": false
   },
   "outputs": [
    {
     "data": {
      "application/vnd.plotly.v1+json": {
       "config": {
        "plotlyServerURL": "https://plot.ly"
       },
       "data": [
        {
         "hovertemplate": "NO DATA",
         "legendgroup": "",
         "marker": {
          "color": "red",
          "symbol": "circle"
         },
         "mode": "markers",
         "name": "",
         "orientation": "v",
         "showlegend": false,
         "type": "scatter",
         "x": [
          "Kiron K. Skinner",
          "Farnam Jahanian",
          "James D. Herbsleb",
          "Subra Suresh",
          "Greg Ganger",
          "Michael Ian Shamos",
          "Luis von Ahn",
          "Bhiksha Ramakrishnan",
          "Norman M. Sadeh",
          "Virgil D. Gligor",
          "Benjamin Moseley",
          "David Garlan",
          "Christopher J. Langmead",
          "Daniel Dominic Kaplan Sleator",
          "Yuanzhi Li",
          "Christopher G. Atkeson",
          "Stephen Brookes",
          "Lenore Blum",
          "James McCann",
          "Keenan Crane",
          "Abhinav Gupta",
          "Jessica K. Hodgins"
         ],
         "xaxis": "x",
         "y": [
          0,
          0,
          0,
          0,
          0,
          0,
          0,
          0,
          0,
          0,
          0,
          0,
          0,
          0,
          0,
          0,
          0,
          0,
          0,
          0,
          0,
          0
         ],
         "yaxis": "y"
        },
        {
         "marker": {
          "color": "black"
         },
         "mode": "markers",
         "name": "",
         "type": "scatter",
         "x": [
          "Manuel Blum",
          "Heather Miller",
          "Vincent Hellendoorn",
          "Patrick Carrington",
          "George Amvrosiadis",
          "Alexandra Ion",
          "Stephen D. Brookes",
          "David Lindlbauer",
          "Rohan Padhye",
          "Emma Strubell",
          "Andrej Risteski",
          "Ioannis Gkioulekas",
          "Henny Admoni",
          "Justine Sherry",
          "Changliu Liu",
          "Matthew O'Toole",
          "Geoff F. Kaufman",
          "Andreas R. Pfenning",
          "Chinmay Eishan Kulkarni",
          "Eunsuk Kang",
          "Jessica Hammer",
          "Virginia Smith",
          "Jan Hoffmann",
          "Katerina Fragkiadaki",
          "Amy E. Ogan",
          "Deepak Pathak",
          "Seyoung Kim",
          "Nathan Beckmann",
          "Lining Yao",
          "John C. Stamper",
          "Michael I. Shamos",
          "Shubham Tulsiani",
          "David Held",
          "K. V. Rashmi",
          "Pravesh K. Kothari",
          "Swarun Kumar",
          "Bill Scherlis",
          "Steven Rudich",
          "Aarti Singh",
          "Yonatan Bisk",
          "Michael A. Erdmann",
          "Red Whittaker",
          "Sivaraman Balakrishnan",
          "Matt Fredrikson",
          "Tai Sing Lee",
          "Karl Crary",
          "Tianqi Chen",
          "Travis D. Breaux",
          "Roy Maxion",
          "Brandon Lucia",
          "Tom M. Mitchell",
          "Bernhard Haeupler",
          "Claire Le Goues",
          "Levent Burak Kara",
          "Umut A. Acar",
          "Hartmut Geyer",
          "Carl Kingsford",
          "Doug Sicker",
          "Andrew Pavlo",
          "Nihar B. Shah",
          "Bogdan Vasilescu",
          "Jonathan Aldrich",
          "Rayid Ghani",
          "Yong-Lae Park",
          "Vipul Goyal",
          "Kemal Oflazer",
          "David J. Mostow",
          "Jun-Yan Zhu",
          "Laura A. Dabbish",
          "David R. O'Hallaron",
          "Yuvraj Agarwal",
          "Ryan Tibshirani",
          "Nancy S. Pollard",
          "Bryan Parno",
          "Priya Narasimhan",
          "David Brumley",
          "Ameet S. Talwalkar",
          "James C. Hoe",
          "Eric Nyberg",
          "Fei Fang",
          "Ryan O'Donnell",
          "Aniket Kittur",
          "Anupam Datta",
          "Alonzo Kelly",
          "André Platzer",
          "Seth Copen Goldstein",
          "Srinivasa G. Narasimhan",
          "Maria-Florina Balcan",
          "Matthew T. Mason",
          "Pradeep Kumar Ravikumar",
          "Maxim Likhachev",
          "Roger B. Dannenberg",
          "David P. Woodruff",
          "Diana Marculescu",
          "Richard M. Stern",
          "J. Zico Kolter",
          "Ronald Rosenfeld",
          "Nicolas Christin",
          "Mor Harchol-Balter",
          "Bruno Sinopoli",
          "Lujo Bauer",
          "Robert Harper",
          "Chris Harrison",
          "Illah R. Nourbakhsh",
          "Ziv Bar-Joseph",
          "John Zimmerman",
          "Todd C. Mowry",
          "Venkatesan Guruswami",
          "Randal E. Bryant",
          "Radu Marculescu",
          "Bhiksha Raj",
          "Robert F. Murphy",
          "Vyas Sekar",
          "Mary Shaw",
          "Anupam Gupta",
          "Gary K. Fedder",
          "Dabbala Rajagopal Reddy",
          "Carolyn P. Rosé",
          "Guy E. Blelloch",
          "Vincent A. W. M. M. Aleven",
          "Vincent Conitzer",
          "Gary L. Miller",
          "Graham Neubig",
          "Yiming Yang",
          "Christian Kästner",
          "Bruce H. Krogh",
          "Dave Andersen",
          "Frank Pfenning",
          "Drew Bagnell",
          "Peter Steenkiste",
          "Justine Cassell",
          "Alessandro Acquisti",
          "James P. Callan",
          "Daniel P. Siewiorek",
          "Srinivasan Seshan",
          "Howie Choset",
          "Elaine Runting Shi",
          "James H. Morris",
          "Deva Ramanan",
          "Alan W. Black",
          "Alan M. Frieze",
          "Ragunathan Raj Rajkumar",
          "Scott E. Hudson",
          "Louis-Philippe Morency",
          "Jodi Forlizzi",
          "Dana S. Scott",
          "Jason I. Hong",
          "Larry Wasserman",
          "Phillip B. Gibbons",
          "Mayank Goel",
          "M. Satyanarayanan",
          "Ken Koedinger",
          "Tuomas Sandholm",
          "Brad A. Myers",
          "Kathleen M. Carley",
          "Sara B. Kiesler",
          "Lorrie Faith Cranor",
          "Jian Ma",
          "Robert E. Kraut",
          "Martial Hebert",
          "Christos Faloutsos",
          "Takeo Kanade",
          "Geoffrey J. Gordon"
         ],
         "y": [
          9,
          10,
          10,
          11,
          11,
          12,
          13,
          14,
          14,
          14,
          16,
          17,
          17,
          17,
          18,
          18,
          18,
          19,
          19,
          19,
          21,
          21,
          21,
          21,
          21,
          22,
          22,
          22,
          22,
          23,
          23,
          23,
          23,
          24,
          24,
          24,
          25,
          25,
          26,
          26,
          26,
          28,
          28,
          28,
          29,
          29,
          29,
          30,
          30,
          30,
          30,
          32,
          32,
          32,
          32,
          33,
          33,
          33,
          33,
          34,
          35,
          36,
          37,
          37,
          38,
          38,
          38,
          38,
          39,
          39,
          40,
          40,
          40,
          40,
          41,
          42,
          42,
          43,
          44,
          44,
          44,
          44,
          44,
          44,
          45,
          45,
          47,
          48,
          50,
          50,
          50,
          51,
          52,
          52,
          52,
          52,
          53,
          53,
          53,
          54,
          54,
          54,
          54,
          55,
          56,
          56,
          57,
          57,
          57,
          58,
          58,
          58,
          58,
          58,
          59,
          59,
          60,
          60,
          61,
          61,
          61,
          63,
          64,
          64,
          65,
          65,
          65,
          65,
          66,
          66,
          67,
          68,
          68,
          69,
          69,
          70,
          71,
          71,
          72,
          72,
          72,
          73,
          74,
          75,
          77,
          78,
          78,
          79,
          84,
          85,
          87,
          88,
          91,
          91,
          96,
          103,
          103,
          109,
          116,
          117,
          144,
          166,
          179
         ]
        }
       ],
       "layout": {
        "annotations": [
         {
          "showarrow": false,
          "text": "Average h-index = 48.442",
          "x": 0,
          "xanchor": "left",
          "xref": "x domain",
          "y": 48.442,
          "yanchor": "bottom",
          "yref": "y"
         }
        ],
        "font": {
         "color": "#000000",
         "family": "Courier New, monospace",
         "size": 10
        },
        "height": 1000,
        "legend": {
         "tracegroupgap": 0
        },
        "shapes": [
         {
          "line": {
           "color": "black"
          },
          "type": "line",
          "x0": 0,
          "x1": 1,
          "xref": "x domain",
          "y0": 48.442,
          "y1": 48.442,
          "yref": "y"
         }
        ],
        "template": {
         "data": {
          "bar": [
           {
            "error_x": {
             "color": "#2a3f5f"
            },
            "error_y": {
             "color": "#2a3f5f"
            },
            "marker": {
             "line": {
              "color": "#E5ECF6",
              "width": 0.5
             },
             "pattern": {
              "fillmode": "overlay",
              "size": 10,
              "solidity": 0.2
             }
            },
            "type": "bar"
           }
          ],
          "barpolar": [
           {
            "marker": {
             "line": {
              "color": "#E5ECF6",
              "width": 0.5
             },
             "pattern": {
              "fillmode": "overlay",
              "size": 10,
              "solidity": 0.2
             }
            },
            "type": "barpolar"
           }
          ],
          "carpet": [
           {
            "aaxis": {
             "endlinecolor": "#2a3f5f",
             "gridcolor": "white",
             "linecolor": "white",
             "minorgridcolor": "white",
             "startlinecolor": "#2a3f5f"
            },
            "baxis": {
             "endlinecolor": "#2a3f5f",
             "gridcolor": "white",
             "linecolor": "white",
             "minorgridcolor": "white",
             "startlinecolor": "#2a3f5f"
            },
            "type": "carpet"
           }
          ],
          "choropleth": [
           {
            "colorbar": {
             "outlinewidth": 0,
             "ticks": ""
            },
            "type": "choropleth"
           }
          ],
          "contour": [
           {
            "colorbar": {
             "outlinewidth": 0,
             "ticks": ""
            },
            "colorscale": [
             [
              0,
              "#0d0887"
             ],
             [
              0.1111111111111111,
              "#46039f"
             ],
             [
              0.2222222222222222,
              "#7201a8"
             ],
             [
              0.3333333333333333,
              "#9c179e"
             ],
             [
              0.4444444444444444,
              "#bd3786"
             ],
             [
              0.5555555555555556,
              "#d8576b"
             ],
             [
              0.6666666666666666,
              "#ed7953"
             ],
             [
              0.7777777777777778,
              "#fb9f3a"
             ],
             [
              0.8888888888888888,
              "#fdca26"
             ],
             [
              1,
              "#f0f921"
             ]
            ],
            "type": "contour"
           }
          ],
          "contourcarpet": [
           {
            "colorbar": {
             "outlinewidth": 0,
             "ticks": ""
            },
            "type": "contourcarpet"
           }
          ],
          "heatmap": [
           {
            "colorbar": {
             "outlinewidth": 0,
             "ticks": ""
            },
            "colorscale": [
             [
              0,
              "#0d0887"
             ],
             [
              0.1111111111111111,
              "#46039f"
             ],
             [
              0.2222222222222222,
              "#7201a8"
             ],
             [
              0.3333333333333333,
              "#9c179e"
             ],
             [
              0.4444444444444444,
              "#bd3786"
             ],
             [
              0.5555555555555556,
              "#d8576b"
             ],
             [
              0.6666666666666666,
              "#ed7953"
             ],
             [
              0.7777777777777778,
              "#fb9f3a"
             ],
             [
              0.8888888888888888,
              "#fdca26"
             ],
             [
              1,
              "#f0f921"
             ]
            ],
            "type": "heatmap"
           }
          ],
          "heatmapgl": [
           {
            "colorbar": {
             "outlinewidth": 0,
             "ticks": ""
            },
            "colorscale": [
             [
              0,
              "#0d0887"
             ],
             [
              0.1111111111111111,
              "#46039f"
             ],
             [
              0.2222222222222222,
              "#7201a8"
             ],
             [
              0.3333333333333333,
              "#9c179e"
             ],
             [
              0.4444444444444444,
              "#bd3786"
             ],
             [
              0.5555555555555556,
              "#d8576b"
             ],
             [
              0.6666666666666666,
              "#ed7953"
             ],
             [
              0.7777777777777778,
              "#fb9f3a"
             ],
             [
              0.8888888888888888,
              "#fdca26"
             ],
             [
              1,
              "#f0f921"
             ]
            ],
            "type": "heatmapgl"
           }
          ],
          "histogram": [
           {
            "marker": {
             "pattern": {
              "fillmode": "overlay",
              "size": 10,
              "solidity": 0.2
             }
            },
            "type": "histogram"
           }
          ],
          "histogram2d": [
           {
            "colorbar": {
             "outlinewidth": 0,
             "ticks": ""
            },
            "colorscale": [
             [
              0,
              "#0d0887"
             ],
             [
              0.1111111111111111,
              "#46039f"
             ],
             [
              0.2222222222222222,
              "#7201a8"
             ],
             [
              0.3333333333333333,
              "#9c179e"
             ],
             [
              0.4444444444444444,
              "#bd3786"
             ],
             [
              0.5555555555555556,
              "#d8576b"
             ],
             [
              0.6666666666666666,
              "#ed7953"
             ],
             [
              0.7777777777777778,
              "#fb9f3a"
             ],
             [
              0.8888888888888888,
              "#fdca26"
             ],
             [
              1,
              "#f0f921"
             ]
            ],
            "type": "histogram2d"
           }
          ],
          "histogram2dcontour": [
           {
            "colorbar": {
             "outlinewidth": 0,
             "ticks": ""
            },
            "colorscale": [
             [
              0,
              "#0d0887"
             ],
             [
              0.1111111111111111,
              "#46039f"
             ],
             [
              0.2222222222222222,
              "#7201a8"
             ],
             [
              0.3333333333333333,
              "#9c179e"
             ],
             [
              0.4444444444444444,
              "#bd3786"
             ],
             [
              0.5555555555555556,
              "#d8576b"
             ],
             [
              0.6666666666666666,
              "#ed7953"
             ],
             [
              0.7777777777777778,
              "#fb9f3a"
             ],
             [
              0.8888888888888888,
              "#fdca26"
             ],
             [
              1,
              "#f0f921"
             ]
            ],
            "type": "histogram2dcontour"
           }
          ],
          "mesh3d": [
           {
            "colorbar": {
             "outlinewidth": 0,
             "ticks": ""
            },
            "type": "mesh3d"
           }
          ],
          "parcoords": [
           {
            "line": {
             "colorbar": {
              "outlinewidth": 0,
              "ticks": ""
             }
            },
            "type": "parcoords"
           }
          ],
          "pie": [
           {
            "automargin": true,
            "type": "pie"
           }
          ],
          "scatter": [
           {
            "fillpattern": {
             "fillmode": "overlay",
             "size": 10,
             "solidity": 0.2
            },
            "type": "scatter"
           }
          ],
          "scatter3d": [
           {
            "line": {
             "colorbar": {
              "outlinewidth": 0,
              "ticks": ""
             }
            },
            "marker": {
             "colorbar": {
              "outlinewidth": 0,
              "ticks": ""
             }
            },
            "type": "scatter3d"
           }
          ],
          "scattercarpet": [
           {
            "marker": {
             "colorbar": {
              "outlinewidth": 0,
              "ticks": ""
             }
            },
            "type": "scattercarpet"
           }
          ],
          "scattergeo": [
           {
            "marker": {
             "colorbar": {
              "outlinewidth": 0,
              "ticks": ""
             }
            },
            "type": "scattergeo"
           }
          ],
          "scattergl": [
           {
            "marker": {
             "colorbar": {
              "outlinewidth": 0,
              "ticks": ""
             }
            },
            "type": "scattergl"
           }
          ],
          "scattermapbox": [
           {
            "marker": {
             "colorbar": {
              "outlinewidth": 0,
              "ticks": ""
             }
            },
            "type": "scattermapbox"
           }
          ],
          "scatterpolar": [
           {
            "marker": {
             "colorbar": {
              "outlinewidth": 0,
              "ticks": ""
             }
            },
            "type": "scatterpolar"
           }
          ],
          "scatterpolargl": [
           {
            "marker": {
             "colorbar": {
              "outlinewidth": 0,
              "ticks": ""
             }
            },
            "type": "scatterpolargl"
           }
          ],
          "scatterternary": [
           {
            "marker": {
             "colorbar": {
              "outlinewidth": 0,
              "ticks": ""
             }
            },
            "type": "scatterternary"
           }
          ],
          "surface": [
           {
            "colorbar": {
             "outlinewidth": 0,
             "ticks": ""
            },
            "colorscale": [
             [
              0,
              "#0d0887"
             ],
             [
              0.1111111111111111,
              "#46039f"
             ],
             [
              0.2222222222222222,
              "#7201a8"
             ],
             [
              0.3333333333333333,
              "#9c179e"
             ],
             [
              0.4444444444444444,
              "#bd3786"
             ],
             [
              0.5555555555555556,
              "#d8576b"
             ],
             [
              0.6666666666666666,
              "#ed7953"
             ],
             [
              0.7777777777777778,
              "#fb9f3a"
             ],
             [
              0.8888888888888888,
              "#fdca26"
             ],
             [
              1,
              "#f0f921"
             ]
            ],
            "type": "surface"
           }
          ],
          "table": [
           {
            "cells": {
             "fill": {
              "color": "#EBF0F8"
             },
             "line": {
              "color": "white"
             }
            },
            "header": {
             "fill": {
              "color": "#C8D4E3"
             },
             "line": {
              "color": "white"
             }
            },
            "type": "table"
           }
          ]
         },
         "layout": {
          "annotationdefaults": {
           "arrowcolor": "#2a3f5f",
           "arrowhead": 0,
           "arrowwidth": 1
          },
          "autotypenumbers": "strict",
          "coloraxis": {
           "colorbar": {
            "outlinewidth": 0,
            "ticks": ""
           }
          },
          "colorscale": {
           "diverging": [
            [
             0,
             "#8e0152"
            ],
            [
             0.1,
             "#c51b7d"
            ],
            [
             0.2,
             "#de77ae"
            ],
            [
             0.3,
             "#f1b6da"
            ],
            [
             0.4,
             "#fde0ef"
            ],
            [
             0.5,
             "#f7f7f7"
            ],
            [
             0.6,
             "#e6f5d0"
            ],
            [
             0.7,
             "#b8e186"
            ],
            [
             0.8,
             "#7fbc41"
            ],
            [
             0.9,
             "#4d9221"
            ],
            [
             1,
             "#276419"
            ]
           ],
           "sequential": [
            [
             0,
             "#0d0887"
            ],
            [
             0.1111111111111111,
             "#46039f"
            ],
            [
             0.2222222222222222,
             "#7201a8"
            ],
            [
             0.3333333333333333,
             "#9c179e"
            ],
            [
             0.4444444444444444,
             "#bd3786"
            ],
            [
             0.5555555555555556,
             "#d8576b"
            ],
            [
             0.6666666666666666,
             "#ed7953"
            ],
            [
             0.7777777777777778,
             "#fb9f3a"
            ],
            [
             0.8888888888888888,
             "#fdca26"
            ],
            [
             1,
             "#f0f921"
            ]
           ],
           "sequentialminus": [
            [
             0,
             "#0d0887"
            ],
            [
             0.1111111111111111,
             "#46039f"
            ],
            [
             0.2222222222222222,
             "#7201a8"
            ],
            [
             0.3333333333333333,
             "#9c179e"
            ],
            [
             0.4444444444444444,
             "#bd3786"
            ],
            [
             0.5555555555555556,
             "#d8576b"
            ],
            [
             0.6666666666666666,
             "#ed7953"
            ],
            [
             0.7777777777777778,
             "#fb9f3a"
            ],
            [
             0.8888888888888888,
             "#fdca26"
            ],
            [
             1,
             "#f0f921"
            ]
           ]
          },
          "colorway": [
           "#636efa",
           "#EF553B",
           "#00cc96",
           "#ab63fa",
           "#FFA15A",
           "#19d3f3",
           "#FF6692",
           "#B6E880",
           "#FF97FF",
           "#FECB52"
          ],
          "font": {
           "color": "#2a3f5f"
          },
          "geo": {
           "bgcolor": "white",
           "lakecolor": "white",
           "landcolor": "#E5ECF6",
           "showlakes": true,
           "showland": true,
           "subunitcolor": "white"
          },
          "hoverlabel": {
           "align": "left"
          },
          "hovermode": "closest",
          "mapbox": {
           "style": "light"
          },
          "paper_bgcolor": "white",
          "plot_bgcolor": "#E5ECF6",
          "polar": {
           "angularaxis": {
            "gridcolor": "white",
            "linecolor": "white",
            "ticks": ""
           },
           "bgcolor": "#E5ECF6",
           "radialaxis": {
            "gridcolor": "white",
            "linecolor": "white",
            "ticks": ""
           }
          },
          "scene": {
           "xaxis": {
            "backgroundcolor": "#E5ECF6",
            "gridcolor": "white",
            "gridwidth": 2,
            "linecolor": "white",
            "showbackground": true,
            "ticks": "",
            "zerolinecolor": "white"
           },
           "yaxis": {
            "backgroundcolor": "#E5ECF6",
            "gridcolor": "white",
            "gridwidth": 2,
            "linecolor": "white",
            "showbackground": true,
            "ticks": "",
            "zerolinecolor": "white"
           },
           "zaxis": {
            "backgroundcolor": "#E5ECF6",
            "gridcolor": "white",
            "gridwidth": 2,
            "linecolor": "white",
            "showbackground": true,
            "ticks": "",
            "zerolinecolor": "white"
           }
          },
          "shapedefaults": {
           "line": {
            "color": "#2a3f5f"
           }
          },
          "ternary": {
           "aaxis": {
            "gridcolor": "white",
            "linecolor": "white",
            "ticks": ""
           },
           "baxis": {
            "gridcolor": "white",
            "linecolor": "white",
            "ticks": ""
           },
           "bgcolor": "#E5ECF6",
           "caxis": {
            "gridcolor": "white",
            "linecolor": "white",
            "ticks": ""
           }
          },
          "title": {
           "x": 0.05
          },
          "xaxis": {
           "automargin": true,
           "gridcolor": "white",
           "linecolor": "white",
           "ticks": "",
           "title": {
            "standoff": 15
           },
           "zerolinecolor": "white",
           "zerolinewidth": 2
          },
          "yaxis": {
           "automargin": true,
           "gridcolor": "white",
           "linecolor": "white",
           "ticks": "",
           "title": {
            "standoff": 15
           },
           "zerolinecolor": "white",
           "zerolinewidth": 2
          }
         }
        },
        "title": {
         "text": "Carnegie Mellon University <br><sup>Average h-index for 163 professors: 48.442</sup>",
         "x": 0,
         "xref": "paper"
        },
        "width": 3800,
        "xaxis": {
         "anchor": "y",
         "domain": [
          0,
          1
         ],
         "range": [
          -1,
          185
         ],
         "title": {
          "text": "name"
         }
        },
        "yaxis": {
         "anchor": "x",
         "domain": [
          0,
          1
         ],
         "range": [
          0,
          300
         ],
         "title": {
          "text": "h-index"
         }
        }
       }
      },
      "text/html": [
       "<div>                            <div id=\"2a5be282-5e25-4a24-8ce1-8fae03db19ee\" class=\"plotly-graph-div\" style=\"height:1000px; width:3800px;\"></div>            <script type=\"text/javascript\">                require([\"plotly\"], function(Plotly) {                    window.PLOTLYENV=window.PLOTLYENV || {};                                    if (document.getElementById(\"2a5be282-5e25-4a24-8ce1-8fae03db19ee\")) {                    Plotly.newPlot(                        \"2a5be282-5e25-4a24-8ce1-8fae03db19ee\",                        [{\"hovertemplate\":\"NO DATA\",\"legendgroup\":\"\",\"marker\":{\"color\":\"red\",\"symbol\":\"circle\"},\"mode\":\"markers\",\"name\":\"\",\"orientation\":\"v\",\"showlegend\":false,\"x\":[\"Kiron K. Skinner\",\"Farnam Jahanian\",\"James D. Herbsleb\",\"Subra Suresh\",\"Greg Ganger\",\"Michael Ian Shamos\",\"Luis von Ahn\",\"Bhiksha Ramakrishnan\",\"Norman M. Sadeh\",\"Virgil D. Gligor\",\"Benjamin Moseley\",\"David Garlan\",\"Christopher J. Langmead\",\"Daniel Dominic Kaplan Sleator\",\"Yuanzhi Li\",\"Christopher G. Atkeson\",\"Stephen Brookes\",\"Lenore Blum\",\"James McCann\",\"Keenan Crane\",\"Abhinav Gupta\",\"Jessica K. Hodgins\"],\"xaxis\":\"x\",\"y\":[0,0,0,0,0,0,0,0,0,0,0,0,0,0,0,0,0,0,0,0,0,0],\"yaxis\":\"y\",\"type\":\"scatter\"},{\"marker\":{\"color\":\"black\"},\"mode\":\"markers\",\"name\":\"\",\"x\":[\"Manuel Blum\",\"Heather Miller\",\"Vincent Hellendoorn\",\"Patrick Carrington\",\"George Amvrosiadis\",\"Alexandra Ion\",\"Stephen D. Brookes\",\"David Lindlbauer\",\"Rohan Padhye\",\"Emma Strubell\",\"Andrej Risteski\",\"Ioannis Gkioulekas\",\"Henny Admoni\",\"Justine Sherry\",\"Changliu Liu\",\"Matthew O'Toole\",\"Geoff F. Kaufman\",\"Andreas R. Pfenning\",\"Chinmay Eishan Kulkarni\",\"Eunsuk Kang\",\"Jessica Hammer\",\"Virginia Smith\",\"Jan Hoffmann\",\"Katerina Fragkiadaki\",\"Amy E. Ogan\",\"Deepak Pathak\",\"Seyoung Kim\",\"Nathan Beckmann\",\"Lining Yao\",\"John C. Stamper\",\"Michael I. Shamos\",\"Shubham Tulsiani\",\"David Held\",\"K. V. Rashmi\",\"Pravesh K. Kothari\",\"Swarun Kumar\",\"Bill Scherlis\",\"Steven Rudich\",\"Aarti Singh\",\"Yonatan Bisk\",\"Michael A. Erdmann\",\"Red Whittaker\",\"Sivaraman Balakrishnan\",\"Matt Fredrikson\",\"Tai Sing Lee\",\"Karl Crary\",\"Tianqi Chen\",\"Travis D. Breaux\",\"Roy Maxion\",\"Brandon Lucia\",\"Tom M. Mitchell\",\"Bernhard Haeupler\",\"Claire Le Goues\",\"Levent Burak Kara\",\"Umut A. Acar\",\"Hartmut Geyer\",\"Carl Kingsford\",\"Doug Sicker\",\"Andrew Pavlo\",\"Nihar B. Shah\",\"Bogdan Vasilescu\",\"Jonathan Aldrich\",\"Rayid Ghani\",\"Yong-Lae Park\",\"Vipul Goyal\",\"Kemal Oflazer\",\"David J. Mostow\",\"Jun-Yan Zhu\",\"Laura A. Dabbish\",\"David R. O'Hallaron\",\"Yuvraj Agarwal\",\"Ryan Tibshirani\",\"Nancy S. Pollard\",\"Bryan Parno\",\"Priya Narasimhan\",\"David Brumley\",\"Ameet S. Talwalkar\",\"James C. Hoe\",\"Eric Nyberg\",\"Fei Fang\",\"Ryan O'Donnell\",\"Aniket Kittur\",\"Anupam Datta\",\"Alonzo Kelly\",\"Andr\\u00e9 Platzer\",\"Seth Copen Goldstein\",\"Srinivasa G. Narasimhan\",\"Maria-Florina Balcan\",\"Matthew T. Mason\",\"Pradeep Kumar Ravikumar\",\"Maxim Likhachev\",\"Roger B. Dannenberg\",\"David P. Woodruff\",\"Diana Marculescu\",\"Richard M. Stern\",\"J. Zico Kolter\",\"Ronald Rosenfeld\",\"Nicolas Christin\",\"Mor Harchol-Balter\",\"Bruno Sinopoli\",\"Lujo Bauer\",\"Robert Harper\",\"Chris Harrison\",\"Illah R. Nourbakhsh\",\"Ziv Bar-Joseph\",\"John Zimmerman\",\"Todd C. Mowry\",\"Venkatesan Guruswami\",\"Randal E. Bryant\",\"Radu Marculescu\",\"Bhiksha Raj\",\"Robert F. Murphy\",\"Vyas Sekar\",\"Mary Shaw\",\"Anupam Gupta\",\"Gary K. Fedder\",\"Dabbala Rajagopal Reddy\",\"Carolyn P. Ros\\u00e9\",\"Guy E. Blelloch\",\"Vincent A. W. M. M. Aleven\",\"Vincent Conitzer\",\"Gary L. Miller\",\"Graham Neubig\",\"Yiming Yang\",\"Christian K\\u00e4stner\",\"Bruce H. Krogh\",\"Dave Andersen\",\"Frank Pfenning\",\"Drew Bagnell\",\"Peter Steenkiste\",\"Justine Cassell\",\"Alessandro Acquisti\",\"James P. Callan\",\"Daniel P. Siewiorek\",\"Srinivasan Seshan\",\"Howie Choset\",\"Elaine Runting Shi\",\"James H. Morris\",\"Deva Ramanan\",\"Alan W. Black\",\"Alan M. Frieze\",\"Ragunathan Raj Rajkumar\",\"Scott E. Hudson\",\"Louis-Philippe Morency\",\"Jodi Forlizzi\",\"Dana S. Scott\",\"Jason I. Hong\",\"Larry Wasserman\",\"Phillip B. Gibbons\",\"Mayank Goel\",\"M. Satyanarayanan\",\"Ken Koedinger\",\"Tuomas Sandholm\",\"Brad A. Myers\",\"Kathleen M. Carley\",\"Sara B. Kiesler\",\"Lorrie Faith Cranor\",\"Jian Ma\",\"Robert E. Kraut\",\"Martial Hebert\",\"Christos Faloutsos\",\"Takeo Kanade\",\"Geoffrey J. Gordon\"],\"y\":[9.0,10.0,10.0,11.0,11.0,12.0,13.0,14.0,14.0,14.0,16.0,17.0,17.0,17.0,18.0,18.0,18.0,19.0,19.0,19.0,21.0,21.0,21.0,21.0,21.0,22.0,22.0,22.0,22.0,23.0,23.0,23.0,23.0,24.0,24.0,24.0,25.0,25.0,26.0,26.0,26.0,28.0,28.0,28.0,29.0,29.0,29.0,30.0,30.0,30.0,30.0,32.0,32.0,32.0,32.0,33.0,33.0,33.0,33.0,34.0,35.0,36.0,37.0,37.0,38.0,38.0,38.0,38.0,39.0,39.0,40.0,40.0,40.0,40.0,41.0,42.0,42.0,43.0,44.0,44.0,44.0,44.0,44.0,44.0,45.0,45.0,47.0,48.0,50.0,50.0,50.0,51.0,52.0,52.0,52.0,52.0,53.0,53.0,53.0,54.0,54.0,54.0,54.0,55.0,56.0,56.0,57.0,57.0,57.0,58.0,58.0,58.0,58.0,58.0,59.0,59.0,60.0,60.0,61.0,61.0,61.0,63.0,64.0,64.0,65.0,65.0,65.0,65.0,66.0,66.0,67.0,68.0,68.0,69.0,69.0,70.0,71.0,71.0,72.0,72.0,72.0,73.0,74.0,75.0,77.0,78.0,78.0,79.0,84.0,85.0,87.0,88.0,91.0,91.0,96.0,103.0,103.0,109.0,116.0,117.0,144.0,166.0,179.0],\"type\":\"scatter\"}],                        {\"template\":{\"data\":{\"histogram2dcontour\":[{\"type\":\"histogram2dcontour\",\"colorbar\":{\"outlinewidth\":0,\"ticks\":\"\"},\"colorscale\":[[0.0,\"#0d0887\"],[0.1111111111111111,\"#46039f\"],[0.2222222222222222,\"#7201a8\"],[0.3333333333333333,\"#9c179e\"],[0.4444444444444444,\"#bd3786\"],[0.5555555555555556,\"#d8576b\"],[0.6666666666666666,\"#ed7953\"],[0.7777777777777778,\"#fb9f3a\"],[0.8888888888888888,\"#fdca26\"],[1.0,\"#f0f921\"]]}],\"choropleth\":[{\"type\":\"choropleth\",\"colorbar\":{\"outlinewidth\":0,\"ticks\":\"\"}}],\"histogram2d\":[{\"type\":\"histogram2d\",\"colorbar\":{\"outlinewidth\":0,\"ticks\":\"\"},\"colorscale\":[[0.0,\"#0d0887\"],[0.1111111111111111,\"#46039f\"],[0.2222222222222222,\"#7201a8\"],[0.3333333333333333,\"#9c179e\"],[0.4444444444444444,\"#bd3786\"],[0.5555555555555556,\"#d8576b\"],[0.6666666666666666,\"#ed7953\"],[0.7777777777777778,\"#fb9f3a\"],[0.8888888888888888,\"#fdca26\"],[1.0,\"#f0f921\"]]}],\"heatmap\":[{\"type\":\"heatmap\",\"colorbar\":{\"outlinewidth\":0,\"ticks\":\"\"},\"colorscale\":[[0.0,\"#0d0887\"],[0.1111111111111111,\"#46039f\"],[0.2222222222222222,\"#7201a8\"],[0.3333333333333333,\"#9c179e\"],[0.4444444444444444,\"#bd3786\"],[0.5555555555555556,\"#d8576b\"],[0.6666666666666666,\"#ed7953\"],[0.7777777777777778,\"#fb9f3a\"],[0.8888888888888888,\"#fdca26\"],[1.0,\"#f0f921\"]]}],\"heatmapgl\":[{\"type\":\"heatmapgl\",\"colorbar\":{\"outlinewidth\":0,\"ticks\":\"\"},\"colorscale\":[[0.0,\"#0d0887\"],[0.1111111111111111,\"#46039f\"],[0.2222222222222222,\"#7201a8\"],[0.3333333333333333,\"#9c179e\"],[0.4444444444444444,\"#bd3786\"],[0.5555555555555556,\"#d8576b\"],[0.6666666666666666,\"#ed7953\"],[0.7777777777777778,\"#fb9f3a\"],[0.8888888888888888,\"#fdca26\"],[1.0,\"#f0f921\"]]}],\"contourcarpet\":[{\"type\":\"contourcarpet\",\"colorbar\":{\"outlinewidth\":0,\"ticks\":\"\"}}],\"contour\":[{\"type\":\"contour\",\"colorbar\":{\"outlinewidth\":0,\"ticks\":\"\"},\"colorscale\":[[0.0,\"#0d0887\"],[0.1111111111111111,\"#46039f\"],[0.2222222222222222,\"#7201a8\"],[0.3333333333333333,\"#9c179e\"],[0.4444444444444444,\"#bd3786\"],[0.5555555555555556,\"#d8576b\"],[0.6666666666666666,\"#ed7953\"],[0.7777777777777778,\"#fb9f3a\"],[0.8888888888888888,\"#fdca26\"],[1.0,\"#f0f921\"]]}],\"surface\":[{\"type\":\"surface\",\"colorbar\":{\"outlinewidth\":0,\"ticks\":\"\"},\"colorscale\":[[0.0,\"#0d0887\"],[0.1111111111111111,\"#46039f\"],[0.2222222222222222,\"#7201a8\"],[0.3333333333333333,\"#9c179e\"],[0.4444444444444444,\"#bd3786\"],[0.5555555555555556,\"#d8576b\"],[0.6666666666666666,\"#ed7953\"],[0.7777777777777778,\"#fb9f3a\"],[0.8888888888888888,\"#fdca26\"],[1.0,\"#f0f921\"]]}],\"mesh3d\":[{\"type\":\"mesh3d\",\"colorbar\":{\"outlinewidth\":0,\"ticks\":\"\"}}],\"scatter\":[{\"fillpattern\":{\"fillmode\":\"overlay\",\"size\":10,\"solidity\":0.2},\"type\":\"scatter\"}],\"parcoords\":[{\"type\":\"parcoords\",\"line\":{\"colorbar\":{\"outlinewidth\":0,\"ticks\":\"\"}}}],\"scatterpolargl\":[{\"type\":\"scatterpolargl\",\"marker\":{\"colorbar\":{\"outlinewidth\":0,\"ticks\":\"\"}}}],\"bar\":[{\"error_x\":{\"color\":\"#2a3f5f\"},\"error_y\":{\"color\":\"#2a3f5f\"},\"marker\":{\"line\":{\"color\":\"#E5ECF6\",\"width\":0.5},\"pattern\":{\"fillmode\":\"overlay\",\"size\":10,\"solidity\":0.2}},\"type\":\"bar\"}],\"scattergeo\":[{\"type\":\"scattergeo\",\"marker\":{\"colorbar\":{\"outlinewidth\":0,\"ticks\":\"\"}}}],\"scatterpolar\":[{\"type\":\"scatterpolar\",\"marker\":{\"colorbar\":{\"outlinewidth\":0,\"ticks\":\"\"}}}],\"histogram\":[{\"marker\":{\"pattern\":{\"fillmode\":\"overlay\",\"size\":10,\"solidity\":0.2}},\"type\":\"histogram\"}],\"scattergl\":[{\"type\":\"scattergl\",\"marker\":{\"colorbar\":{\"outlinewidth\":0,\"ticks\":\"\"}}}],\"scatter3d\":[{\"type\":\"scatter3d\",\"line\":{\"colorbar\":{\"outlinewidth\":0,\"ticks\":\"\"}},\"marker\":{\"colorbar\":{\"outlinewidth\":0,\"ticks\":\"\"}}}],\"scattermapbox\":[{\"type\":\"scattermapbox\",\"marker\":{\"colorbar\":{\"outlinewidth\":0,\"ticks\":\"\"}}}],\"scatterternary\":[{\"type\":\"scatterternary\",\"marker\":{\"colorbar\":{\"outlinewidth\":0,\"ticks\":\"\"}}}],\"scattercarpet\":[{\"type\":\"scattercarpet\",\"marker\":{\"colorbar\":{\"outlinewidth\":0,\"ticks\":\"\"}}}],\"carpet\":[{\"aaxis\":{\"endlinecolor\":\"#2a3f5f\",\"gridcolor\":\"white\",\"linecolor\":\"white\",\"minorgridcolor\":\"white\",\"startlinecolor\":\"#2a3f5f\"},\"baxis\":{\"endlinecolor\":\"#2a3f5f\",\"gridcolor\":\"white\",\"linecolor\":\"white\",\"minorgridcolor\":\"white\",\"startlinecolor\":\"#2a3f5f\"},\"type\":\"carpet\"}],\"table\":[{\"cells\":{\"fill\":{\"color\":\"#EBF0F8\"},\"line\":{\"color\":\"white\"}},\"header\":{\"fill\":{\"color\":\"#C8D4E3\"},\"line\":{\"color\":\"white\"}},\"type\":\"table\"}],\"barpolar\":[{\"marker\":{\"line\":{\"color\":\"#E5ECF6\",\"width\":0.5},\"pattern\":{\"fillmode\":\"overlay\",\"size\":10,\"solidity\":0.2}},\"type\":\"barpolar\"}],\"pie\":[{\"automargin\":true,\"type\":\"pie\"}]},\"layout\":{\"autotypenumbers\":\"strict\",\"colorway\":[\"#636efa\",\"#EF553B\",\"#00cc96\",\"#ab63fa\",\"#FFA15A\",\"#19d3f3\",\"#FF6692\",\"#B6E880\",\"#FF97FF\",\"#FECB52\"],\"font\":{\"color\":\"#2a3f5f\"},\"hovermode\":\"closest\",\"hoverlabel\":{\"align\":\"left\"},\"paper_bgcolor\":\"white\",\"plot_bgcolor\":\"#E5ECF6\",\"polar\":{\"bgcolor\":\"#E5ECF6\",\"angularaxis\":{\"gridcolor\":\"white\",\"linecolor\":\"white\",\"ticks\":\"\"},\"radialaxis\":{\"gridcolor\":\"white\",\"linecolor\":\"white\",\"ticks\":\"\"}},\"ternary\":{\"bgcolor\":\"#E5ECF6\",\"aaxis\":{\"gridcolor\":\"white\",\"linecolor\":\"white\",\"ticks\":\"\"},\"baxis\":{\"gridcolor\":\"white\",\"linecolor\":\"white\",\"ticks\":\"\"},\"caxis\":{\"gridcolor\":\"white\",\"linecolor\":\"white\",\"ticks\":\"\"}},\"coloraxis\":{\"colorbar\":{\"outlinewidth\":0,\"ticks\":\"\"}},\"colorscale\":{\"sequential\":[[0.0,\"#0d0887\"],[0.1111111111111111,\"#46039f\"],[0.2222222222222222,\"#7201a8\"],[0.3333333333333333,\"#9c179e\"],[0.4444444444444444,\"#bd3786\"],[0.5555555555555556,\"#d8576b\"],[0.6666666666666666,\"#ed7953\"],[0.7777777777777778,\"#fb9f3a\"],[0.8888888888888888,\"#fdca26\"],[1.0,\"#f0f921\"]],\"sequentialminus\":[[0.0,\"#0d0887\"],[0.1111111111111111,\"#46039f\"],[0.2222222222222222,\"#7201a8\"],[0.3333333333333333,\"#9c179e\"],[0.4444444444444444,\"#bd3786\"],[0.5555555555555556,\"#d8576b\"],[0.6666666666666666,\"#ed7953\"],[0.7777777777777778,\"#fb9f3a\"],[0.8888888888888888,\"#fdca26\"],[1.0,\"#f0f921\"]],\"diverging\":[[0,\"#8e0152\"],[0.1,\"#c51b7d\"],[0.2,\"#de77ae\"],[0.3,\"#f1b6da\"],[0.4,\"#fde0ef\"],[0.5,\"#f7f7f7\"],[0.6,\"#e6f5d0\"],[0.7,\"#b8e186\"],[0.8,\"#7fbc41\"],[0.9,\"#4d9221\"],[1,\"#276419\"]]},\"xaxis\":{\"gridcolor\":\"white\",\"linecolor\":\"white\",\"ticks\":\"\",\"title\":{\"standoff\":15},\"zerolinecolor\":\"white\",\"automargin\":true,\"zerolinewidth\":2},\"yaxis\":{\"gridcolor\":\"white\",\"linecolor\":\"white\",\"ticks\":\"\",\"title\":{\"standoff\":15},\"zerolinecolor\":\"white\",\"automargin\":true,\"zerolinewidth\":2},\"scene\":{\"xaxis\":{\"backgroundcolor\":\"#E5ECF6\",\"gridcolor\":\"white\",\"linecolor\":\"white\",\"showbackground\":true,\"ticks\":\"\",\"zerolinecolor\":\"white\",\"gridwidth\":2},\"yaxis\":{\"backgroundcolor\":\"#E5ECF6\",\"gridcolor\":\"white\",\"linecolor\":\"white\",\"showbackground\":true,\"ticks\":\"\",\"zerolinecolor\":\"white\",\"gridwidth\":2},\"zaxis\":{\"backgroundcolor\":\"#E5ECF6\",\"gridcolor\":\"white\",\"linecolor\":\"white\",\"showbackground\":true,\"ticks\":\"\",\"zerolinecolor\":\"white\",\"gridwidth\":2}},\"shapedefaults\":{\"line\":{\"color\":\"#2a3f5f\"}},\"annotationdefaults\":{\"arrowcolor\":\"#2a3f5f\",\"arrowhead\":0,\"arrowwidth\":1},\"geo\":{\"bgcolor\":\"white\",\"landcolor\":\"#E5ECF6\",\"subunitcolor\":\"white\",\"showland\":true,\"showlakes\":true,\"lakecolor\":\"white\"},\"title\":{\"x\":0.05},\"mapbox\":{\"style\":\"light\"}}},\"xaxis\":{\"anchor\":\"y\",\"domain\":[0.0,1.0],\"title\":{\"text\":\"name\"},\"range\":[-1,185]},\"yaxis\":{\"anchor\":\"x\",\"domain\":[0.0,1.0],\"title\":{\"text\":\"h-index\"},\"range\":[0,300]},\"legend\":{\"tracegroupgap\":0},\"title\":{\"text\":\"Carnegie Mellon University <br><sup>Average h-index for 163 professors: 48.442</sup>\",\"x\":0,\"xref\":\"paper\"},\"height\":1000,\"width\":3800,\"shapes\":[{\"line\":{\"color\":\"black\"},\"type\":\"line\",\"x0\":0,\"x1\":1,\"xref\":\"x domain\",\"y0\":48.442,\"y1\":48.442,\"yref\":\"y\"}],\"annotations\":[{\"showarrow\":false,\"text\":\"Average h-index = 48.442\",\"x\":0,\"xanchor\":\"left\",\"xref\":\"x domain\",\"y\":48.442,\"yanchor\":\"bottom\",\"yref\":\"y\"}],\"font\":{\"family\":\"Courier New, monospace\",\"size\":10,\"color\":\"#000000\"}},                        {\"responsive\": true}                    ).then(function(){\n",
       "                            \n",
       "var gd = document.getElementById('2a5be282-5e25-4a24-8ce1-8fae03db19ee');\n",
       "var x = new MutationObserver(function (mutations, observer) {{\n",
       "        var display = window.getComputedStyle(gd).display;\n",
       "        if (!display || display === 'none') {{\n",
       "            console.log([gd, 'removed!']);\n",
       "            Plotly.purge(gd);\n",
       "            observer.disconnect();\n",
       "        }}\n",
       "}});\n",
       "\n",
       "// Listen for the removal of the full notebook cells\n",
       "var notebookContainer = gd.closest('#notebook-container');\n",
       "if (notebookContainer) {{\n",
       "    x.observe(notebookContainer, {childList: true});\n",
       "}}\n",
       "\n",
       "// Listen for the clearing of the current output cell\n",
       "var outputEl = gd.closest('.output');\n",
       "if (outputEl) {{\n",
       "    x.observe(outputEl, {childList: true});\n",
       "}}\n",
       "\n",
       "                        })                };                });            </script>        </div>"
      ]
     },
     "metadata": {},
     "output_type": "display_data"
    },
    {
     "data": {
      "application/vnd.plotly.v1+json": {
       "config": {
        "plotlyServerURL": "https://plot.ly"
       },
       "data": [
        {
         "hovertemplate": "NO DATA",
         "legendgroup": "",
         "marker": {
          "color": "red",
          "symbol": "circle"
         },
         "mode": "markers",
         "name": "",
         "orientation": "v",
         "showlegend": false,
         "type": "scatter",
         "x": [
          "Kiron K. Skinner",
          "Farnam Jahanian",
          "James D. Herbsleb",
          "Subra Suresh",
          "Greg Ganger",
          "Michael Ian Shamos",
          "Luis von Ahn",
          "Bhiksha Ramakrishnan",
          "Norman M. Sadeh",
          "Virgil D. Gligor",
          "Benjamin Moseley",
          "David Garlan",
          "Christopher J. Langmead",
          "Daniel Dominic Kaplan Sleator",
          "Yuanzhi Li",
          "Christopher G. Atkeson",
          "Stephen Brookes",
          "Lenore Blum",
          "James McCann",
          "Keenan Crane",
          "Abhinav Gupta",
          "Jessica K. Hodgins"
         ],
         "xaxis": "x",
         "y": [
          0,
          0,
          0,
          0,
          0,
          0,
          0,
          0,
          0,
          0,
          0,
          0,
          0,
          0,
          0,
          0,
          0,
          0,
          0,
          0,
          0,
          0
         ],
         "yaxis": "y"
        },
        {
         "marker": {
          "color": "black"
         },
         "mode": "markers",
         "name": "",
         "type": "scatter",
         "x": [
          "Heather Miller",
          "Patrick Carrington",
          "Stephen D. Brookes",
          "Rohan Padhye",
          "David Lindlbauer",
          "George Amvrosiadis",
          "Alexandra Ion",
          "Vincent Hellendoorn",
          "Ioannis Gkioulekas",
          "Changliu Liu",
          "Eunsuk Kang",
          "Andrej Risteski",
          "Amy E. Ogan",
          "Matthew O'Toole",
          "Lining Yao",
          "Chinmay Eishan Kulkarni",
          "Pravesh K. Kothari",
          "Manuel Blum",
          "Jan Hoffmann",
          "Nathan Beckmann",
          "Henny Admoni",
          "John C. Stamper",
          "Emma Strubell",
          "Bernhard Haeupler",
          "Justine Sherry",
          "Levent Burak Kara",
          "Geoff F. Kaufman",
          "Swarun Kumar",
          "Brandon Lucia",
          "Travis D. Breaux",
          "Sivaraman Balakrishnan",
          "Katerina Fragkiadaki",
          "Shubham Tulsiani",
          "Tom M. Mitchell",
          "Umut A. Acar",
          "Yonatan Bisk",
          "K. V. Rashmi",
          "Jessica Hammer",
          "Roy Maxion",
          "Karl Crary",
          "Bogdan Vasilescu",
          "Red Whittaker",
          "David Held",
          "Nihar B. Shah",
          "David J. Mostow",
          "Doug Sicker",
          "Aarti Singh",
          "Kemal Oflazer",
          "Jonathan Aldrich",
          "Steven Rudich",
          "Rayid Ghani",
          "Virginia Smith",
          "Priya Narasimhan",
          "Claire Le Goues",
          "Michael A. Erdmann",
          "Hartmut Geyer",
          "Yong-Lae Park",
          "David R. O'Hallaron",
          "Ryan O'Donnell",
          "André Platzer",
          "Andrew Pavlo",
          "Nancy S. Pollard",
          "Ryan Tibshirani",
          "James C. Hoe",
          "Eric Nyberg",
          "Maria-Florina Balcan",
          "Yuvraj Agarwal",
          "Anupam Datta",
          "Matt Fredrikson",
          "Alonzo Kelly",
          "Diana Marculescu",
          "Andreas R. Pfenning",
          "Roger B. Dannenberg",
          "Deepak Pathak",
          "Tai Sing Lee",
          "Richard M. Stern",
          "David P. Woodruff",
          "Lujo Bauer",
          "Chris Harrison",
          "Bill Scherlis",
          "Bryan Parno",
          "Vipul Goyal",
          "Seth Copen Goldstein",
          "Venkatesan Guruswami",
          "Todd C. Mowry",
          "Laura A. Dabbish",
          "Carl Kingsford",
          "Gary K. Fedder",
          "David Brumley",
          "Mor Harchol-Balter",
          "Vincent Conitzer",
          "Aniket Kittur",
          "Nicolas Christin",
          "Dabbala Rajagopal Reddy",
          "Maxim Likhachev",
          "Robert F. Murphy",
          "Anupam Gupta",
          "Srinivasa G. Narasimhan",
          "Gary L. Miller",
          "Carolyn P. Rosé",
          "Graham Neubig",
          "Radu Marculescu",
          "Christian Kästner",
          "James P. Callan",
          "Pradeep Kumar Ravikumar",
          "Matthew T. Mason",
          "Vincent A. W. M. M. Aleven",
          "Frank Pfenning",
          "Seyoung Kim",
          "Guy E. Blelloch",
          "Fei Fang",
          "Scott E. Hudson",
          "Vyas Sekar",
          "Bhiksha Raj",
          "Bruce H. Krogh",
          "Bruno Sinopoli",
          "Michael I. Shamos",
          "Peter Steenkiste",
          "Illah R. Nourbakhsh",
          "John Zimmerman",
          "Ameet S. Talwalkar",
          "Robert Harper",
          "Ziv Bar-Joseph",
          "J. Zico Kolter",
          "Justine Cassell",
          "Daniel P. Siewiorek",
          "Ronald Rosenfeld",
          "Mary Shaw",
          "Alan M. Frieze",
          "Dave Andersen",
          "Louis-Philippe Morency",
          "Howie Choset",
          "Jodi Forlizzi",
          "Alan W. Black",
          "Drew Bagnell",
          "Srinivasan Seshan",
          "Ragunathan Raj Rajkumar",
          "Jason I. Hong",
          "James H. Morris",
          "Elaine Runting Shi",
          "Tuomas Sandholm",
          "Phillip B. Gibbons",
          "Tianqi Chen",
          "Randal E. Bryant",
          "Alessandro Acquisti",
          "Larry Wasserman",
          "Brad A. Myers",
          "Ken Koedinger",
          "Lorrie Faith Cranor",
          "Jun-Yan Zhu",
          "M. Satyanarayanan",
          "Kathleen M. Carley",
          "Jian Ma",
          "Yiming Yang",
          "Mayank Goel",
          "Martial Hebert",
          "Robert E. Kraut",
          "Deva Ramanan",
          "Sara B. Kiesler",
          "Christos Faloutsos",
          "Dana S. Scott",
          "Takeo Kanade",
          "Geoffrey J. Gordon"
         ],
         "y": [
          457,
          468,
          553,
          626,
          660,
          702,
          966,
          985,
          1033,
          1162,
          1194,
          1314,
          1712,
          1724,
          1824,
          1883,
          2024,
          2198,
          2238,
          2309,
          2401,
          2442,
          2876,
          2920,
          2981,
          2984,
          3054,
          3287,
          3442,
          3464,
          3505,
          3566,
          3695,
          3736,
          3751,
          3790,
          3889,
          4387,
          4551,
          4630,
          4651,
          4935,
          5295,
          5393,
          5643,
          5696,
          5747,
          5782,
          5933,
          6085,
          6201,
          6300,
          6391,
          6448,
          6526,
          6562,
          6615,
          6662,
          6809,
          7297,
          7495,
          7647,
          7671,
          7723,
          7799,
          7832,
          7852,
          8070,
          8129,
          8811,
          8998,
          9167,
          9240,
          10010,
          10531,
          10665,
          10683,
          10859,
          10873,
          10932,
          11498,
          11942,
          12065,
          12072,
          12091,
          12102,
          12210,
          12232,
          12414,
          12845,
          12904,
          12907,
          12992,
          13477,
          13723,
          13784,
          13929,
          13976,
          14061,
          14153,
          14496,
          14702,
          14762,
          14786,
          15770,
          15882,
          16003,
          16102,
          16191,
          16548,
          16635,
          17279,
          17354,
          17468,
          17480,
          17580,
          18022,
          18236,
          18629,
          18683,
          18807,
          18908,
          19092,
          19345,
          20906,
          21134,
          22090,
          22156,
          22504,
          22583,
          22666,
          24289,
          25232,
          25252,
          26156,
          26637,
          26668,
          28761,
          28821,
          28871,
          29282,
          29606,
          30372,
          31088,
          32180,
          32320,
          33668,
          35512,
          39597,
          41542,
          41690,
          44244,
          46124,
          47567,
          47838,
          53970,
          60565,
          63537,
          70526,
          104924,
          105996,
          139212,
          237097
         ]
        }
       ],
       "layout": {
        "annotations": [
         {
          "showarrow": false,
          "text": "Average = 17525.528 citations",
          "x": 0,
          "xanchor": "left",
          "xref": "x domain",
          "y": 17525.528,
          "yanchor": "bottom",
          "yref": "y"
         }
        ],
        "font": {
         "color": "#000000",
         "family": "Courier New, monospace",
         "size": 10
        },
        "height": 1000,
        "legend": {
         "tracegroupgap": 0
        },
        "shapes": [
         {
          "line": {
           "color": "black"
          },
          "type": "line",
          "x0": 0,
          "x1": 1,
          "xref": "x domain",
          "y0": 17525.528,
          "y1": 17525.528,
          "yref": "y"
         }
        ],
        "template": {
         "data": {
          "bar": [
           {
            "error_x": {
             "color": "#2a3f5f"
            },
            "error_y": {
             "color": "#2a3f5f"
            },
            "marker": {
             "line": {
              "color": "#E5ECF6",
              "width": 0.5
             },
             "pattern": {
              "fillmode": "overlay",
              "size": 10,
              "solidity": 0.2
             }
            },
            "type": "bar"
           }
          ],
          "barpolar": [
           {
            "marker": {
             "line": {
              "color": "#E5ECF6",
              "width": 0.5
             },
             "pattern": {
              "fillmode": "overlay",
              "size": 10,
              "solidity": 0.2
             }
            },
            "type": "barpolar"
           }
          ],
          "carpet": [
           {
            "aaxis": {
             "endlinecolor": "#2a3f5f",
             "gridcolor": "white",
             "linecolor": "white",
             "minorgridcolor": "white",
             "startlinecolor": "#2a3f5f"
            },
            "baxis": {
             "endlinecolor": "#2a3f5f",
             "gridcolor": "white",
             "linecolor": "white",
             "minorgridcolor": "white",
             "startlinecolor": "#2a3f5f"
            },
            "type": "carpet"
           }
          ],
          "choropleth": [
           {
            "colorbar": {
             "outlinewidth": 0,
             "ticks": ""
            },
            "type": "choropleth"
           }
          ],
          "contour": [
           {
            "colorbar": {
             "outlinewidth": 0,
             "ticks": ""
            },
            "colorscale": [
             [
              0,
              "#0d0887"
             ],
             [
              0.1111111111111111,
              "#46039f"
             ],
             [
              0.2222222222222222,
              "#7201a8"
             ],
             [
              0.3333333333333333,
              "#9c179e"
             ],
             [
              0.4444444444444444,
              "#bd3786"
             ],
             [
              0.5555555555555556,
              "#d8576b"
             ],
             [
              0.6666666666666666,
              "#ed7953"
             ],
             [
              0.7777777777777778,
              "#fb9f3a"
             ],
             [
              0.8888888888888888,
              "#fdca26"
             ],
             [
              1,
              "#f0f921"
             ]
            ],
            "type": "contour"
           }
          ],
          "contourcarpet": [
           {
            "colorbar": {
             "outlinewidth": 0,
             "ticks": ""
            },
            "type": "contourcarpet"
           }
          ],
          "heatmap": [
           {
            "colorbar": {
             "outlinewidth": 0,
             "ticks": ""
            },
            "colorscale": [
             [
              0,
              "#0d0887"
             ],
             [
              0.1111111111111111,
              "#46039f"
             ],
             [
              0.2222222222222222,
              "#7201a8"
             ],
             [
              0.3333333333333333,
              "#9c179e"
             ],
             [
              0.4444444444444444,
              "#bd3786"
             ],
             [
              0.5555555555555556,
              "#d8576b"
             ],
             [
              0.6666666666666666,
              "#ed7953"
             ],
             [
              0.7777777777777778,
              "#fb9f3a"
             ],
             [
              0.8888888888888888,
              "#fdca26"
             ],
             [
              1,
              "#f0f921"
             ]
            ],
            "type": "heatmap"
           }
          ],
          "heatmapgl": [
           {
            "colorbar": {
             "outlinewidth": 0,
             "ticks": ""
            },
            "colorscale": [
             [
              0,
              "#0d0887"
             ],
             [
              0.1111111111111111,
              "#46039f"
             ],
             [
              0.2222222222222222,
              "#7201a8"
             ],
             [
              0.3333333333333333,
              "#9c179e"
             ],
             [
              0.4444444444444444,
              "#bd3786"
             ],
             [
              0.5555555555555556,
              "#d8576b"
             ],
             [
              0.6666666666666666,
              "#ed7953"
             ],
             [
              0.7777777777777778,
              "#fb9f3a"
             ],
             [
              0.8888888888888888,
              "#fdca26"
             ],
             [
              1,
              "#f0f921"
             ]
            ],
            "type": "heatmapgl"
           }
          ],
          "histogram": [
           {
            "marker": {
             "pattern": {
              "fillmode": "overlay",
              "size": 10,
              "solidity": 0.2
             }
            },
            "type": "histogram"
           }
          ],
          "histogram2d": [
           {
            "colorbar": {
             "outlinewidth": 0,
             "ticks": ""
            },
            "colorscale": [
             [
              0,
              "#0d0887"
             ],
             [
              0.1111111111111111,
              "#46039f"
             ],
             [
              0.2222222222222222,
              "#7201a8"
             ],
             [
              0.3333333333333333,
              "#9c179e"
             ],
             [
              0.4444444444444444,
              "#bd3786"
             ],
             [
              0.5555555555555556,
              "#d8576b"
             ],
             [
              0.6666666666666666,
              "#ed7953"
             ],
             [
              0.7777777777777778,
              "#fb9f3a"
             ],
             [
              0.8888888888888888,
              "#fdca26"
             ],
             [
              1,
              "#f0f921"
             ]
            ],
            "type": "histogram2d"
           }
          ],
          "histogram2dcontour": [
           {
            "colorbar": {
             "outlinewidth": 0,
             "ticks": ""
            },
            "colorscale": [
             [
              0,
              "#0d0887"
             ],
             [
              0.1111111111111111,
              "#46039f"
             ],
             [
              0.2222222222222222,
              "#7201a8"
             ],
             [
              0.3333333333333333,
              "#9c179e"
             ],
             [
              0.4444444444444444,
              "#bd3786"
             ],
             [
              0.5555555555555556,
              "#d8576b"
             ],
             [
              0.6666666666666666,
              "#ed7953"
             ],
             [
              0.7777777777777778,
              "#fb9f3a"
             ],
             [
              0.8888888888888888,
              "#fdca26"
             ],
             [
              1,
              "#f0f921"
             ]
            ],
            "type": "histogram2dcontour"
           }
          ],
          "mesh3d": [
           {
            "colorbar": {
             "outlinewidth": 0,
             "ticks": ""
            },
            "type": "mesh3d"
           }
          ],
          "parcoords": [
           {
            "line": {
             "colorbar": {
              "outlinewidth": 0,
              "ticks": ""
             }
            },
            "type": "parcoords"
           }
          ],
          "pie": [
           {
            "automargin": true,
            "type": "pie"
           }
          ],
          "scatter": [
           {
            "fillpattern": {
             "fillmode": "overlay",
             "size": 10,
             "solidity": 0.2
            },
            "type": "scatter"
           }
          ],
          "scatter3d": [
           {
            "line": {
             "colorbar": {
              "outlinewidth": 0,
              "ticks": ""
             }
            },
            "marker": {
             "colorbar": {
              "outlinewidth": 0,
              "ticks": ""
             }
            },
            "type": "scatter3d"
           }
          ],
          "scattercarpet": [
           {
            "marker": {
             "colorbar": {
              "outlinewidth": 0,
              "ticks": ""
             }
            },
            "type": "scattercarpet"
           }
          ],
          "scattergeo": [
           {
            "marker": {
             "colorbar": {
              "outlinewidth": 0,
              "ticks": ""
             }
            },
            "type": "scattergeo"
           }
          ],
          "scattergl": [
           {
            "marker": {
             "colorbar": {
              "outlinewidth": 0,
              "ticks": ""
             }
            },
            "type": "scattergl"
           }
          ],
          "scattermapbox": [
           {
            "marker": {
             "colorbar": {
              "outlinewidth": 0,
              "ticks": ""
             }
            },
            "type": "scattermapbox"
           }
          ],
          "scatterpolar": [
           {
            "marker": {
             "colorbar": {
              "outlinewidth": 0,
              "ticks": ""
             }
            },
            "type": "scatterpolar"
           }
          ],
          "scatterpolargl": [
           {
            "marker": {
             "colorbar": {
              "outlinewidth": 0,
              "ticks": ""
             }
            },
            "type": "scatterpolargl"
           }
          ],
          "scatterternary": [
           {
            "marker": {
             "colorbar": {
              "outlinewidth": 0,
              "ticks": ""
             }
            },
            "type": "scatterternary"
           }
          ],
          "surface": [
           {
            "colorbar": {
             "outlinewidth": 0,
             "ticks": ""
            },
            "colorscale": [
             [
              0,
              "#0d0887"
             ],
             [
              0.1111111111111111,
              "#46039f"
             ],
             [
              0.2222222222222222,
              "#7201a8"
             ],
             [
              0.3333333333333333,
              "#9c179e"
             ],
             [
              0.4444444444444444,
              "#bd3786"
             ],
             [
              0.5555555555555556,
              "#d8576b"
             ],
             [
              0.6666666666666666,
              "#ed7953"
             ],
             [
              0.7777777777777778,
              "#fb9f3a"
             ],
             [
              0.8888888888888888,
              "#fdca26"
             ],
             [
              1,
              "#f0f921"
             ]
            ],
            "type": "surface"
           }
          ],
          "table": [
           {
            "cells": {
             "fill": {
              "color": "#EBF0F8"
             },
             "line": {
              "color": "white"
             }
            },
            "header": {
             "fill": {
              "color": "#C8D4E3"
             },
             "line": {
              "color": "white"
             }
            },
            "type": "table"
           }
          ]
         },
         "layout": {
          "annotationdefaults": {
           "arrowcolor": "#2a3f5f",
           "arrowhead": 0,
           "arrowwidth": 1
          },
          "autotypenumbers": "strict",
          "coloraxis": {
           "colorbar": {
            "outlinewidth": 0,
            "ticks": ""
           }
          },
          "colorscale": {
           "diverging": [
            [
             0,
             "#8e0152"
            ],
            [
             0.1,
             "#c51b7d"
            ],
            [
             0.2,
             "#de77ae"
            ],
            [
             0.3,
             "#f1b6da"
            ],
            [
             0.4,
             "#fde0ef"
            ],
            [
             0.5,
             "#f7f7f7"
            ],
            [
             0.6,
             "#e6f5d0"
            ],
            [
             0.7,
             "#b8e186"
            ],
            [
             0.8,
             "#7fbc41"
            ],
            [
             0.9,
             "#4d9221"
            ],
            [
             1,
             "#276419"
            ]
           ],
           "sequential": [
            [
             0,
             "#0d0887"
            ],
            [
             0.1111111111111111,
             "#46039f"
            ],
            [
             0.2222222222222222,
             "#7201a8"
            ],
            [
             0.3333333333333333,
             "#9c179e"
            ],
            [
             0.4444444444444444,
             "#bd3786"
            ],
            [
             0.5555555555555556,
             "#d8576b"
            ],
            [
             0.6666666666666666,
             "#ed7953"
            ],
            [
             0.7777777777777778,
             "#fb9f3a"
            ],
            [
             0.8888888888888888,
             "#fdca26"
            ],
            [
             1,
             "#f0f921"
            ]
           ],
           "sequentialminus": [
            [
             0,
             "#0d0887"
            ],
            [
             0.1111111111111111,
             "#46039f"
            ],
            [
             0.2222222222222222,
             "#7201a8"
            ],
            [
             0.3333333333333333,
             "#9c179e"
            ],
            [
             0.4444444444444444,
             "#bd3786"
            ],
            [
             0.5555555555555556,
             "#d8576b"
            ],
            [
             0.6666666666666666,
             "#ed7953"
            ],
            [
             0.7777777777777778,
             "#fb9f3a"
            ],
            [
             0.8888888888888888,
             "#fdca26"
            ],
            [
             1,
             "#f0f921"
            ]
           ]
          },
          "colorway": [
           "#636efa",
           "#EF553B",
           "#00cc96",
           "#ab63fa",
           "#FFA15A",
           "#19d3f3",
           "#FF6692",
           "#B6E880",
           "#FF97FF",
           "#FECB52"
          ],
          "font": {
           "color": "#2a3f5f"
          },
          "geo": {
           "bgcolor": "white",
           "lakecolor": "white",
           "landcolor": "#E5ECF6",
           "showlakes": true,
           "showland": true,
           "subunitcolor": "white"
          },
          "hoverlabel": {
           "align": "left"
          },
          "hovermode": "closest",
          "mapbox": {
           "style": "light"
          },
          "paper_bgcolor": "white",
          "plot_bgcolor": "#E5ECF6",
          "polar": {
           "angularaxis": {
            "gridcolor": "white",
            "linecolor": "white",
            "ticks": ""
           },
           "bgcolor": "#E5ECF6",
           "radialaxis": {
            "gridcolor": "white",
            "linecolor": "white",
            "ticks": ""
           }
          },
          "scene": {
           "xaxis": {
            "backgroundcolor": "#E5ECF6",
            "gridcolor": "white",
            "gridwidth": 2,
            "linecolor": "white",
            "showbackground": true,
            "ticks": "",
            "zerolinecolor": "white"
           },
           "yaxis": {
            "backgroundcolor": "#E5ECF6",
            "gridcolor": "white",
            "gridwidth": 2,
            "linecolor": "white",
            "showbackground": true,
            "ticks": "",
            "zerolinecolor": "white"
           },
           "zaxis": {
            "backgroundcolor": "#E5ECF6",
            "gridcolor": "white",
            "gridwidth": 2,
            "linecolor": "white",
            "showbackground": true,
            "ticks": "",
            "zerolinecolor": "white"
           }
          },
          "shapedefaults": {
           "line": {
            "color": "#2a3f5f"
           }
          },
          "ternary": {
           "aaxis": {
            "gridcolor": "white",
            "linecolor": "white",
            "ticks": ""
           },
           "baxis": {
            "gridcolor": "white",
            "linecolor": "white",
            "ticks": ""
           },
           "bgcolor": "#E5ECF6",
           "caxis": {
            "gridcolor": "white",
            "linecolor": "white",
            "ticks": ""
           }
          },
          "title": {
           "x": 0.05
          },
          "xaxis": {
           "automargin": true,
           "gridcolor": "white",
           "linecolor": "white",
           "ticks": "",
           "title": {
            "standoff": 15
           },
           "zerolinecolor": "white",
           "zerolinewidth": 2
          },
          "yaxis": {
           "automargin": true,
           "gridcolor": "white",
           "linecolor": "white",
           "ticks": "",
           "title": {
            "standoff": 15
           },
           "zerolinecolor": "white",
           "zerolinewidth": 2
          }
         }
        },
        "title": {
         "text": "Carnegie Mellon University <br><sup>Average citations for 163 professors: 17525.528</sup>",
         "x": 0,
         "xref": "paper"
        },
        "width": 3800,
        "xaxis": {
         "anchor": "y",
         "domain": [
          0,
          1
         ],
         "range": [
          -1,
          185
         ],
         "title": {
          "text": "name"
         }
        },
        "yaxis": {
         "anchor": "x",
         "domain": [
          0,
          1
         ],
         "range": [
          0,
          325000
         ],
         "title": {
          "text": "citations"
         }
        }
       }
      },
      "text/html": [
       "<div>                            <div id=\"907f24df-2812-4108-ad55-4a937ebe0912\" class=\"plotly-graph-div\" style=\"height:1000px; width:3800px;\"></div>            <script type=\"text/javascript\">                require([\"plotly\"], function(Plotly) {                    window.PLOTLYENV=window.PLOTLYENV || {};                                    if (document.getElementById(\"907f24df-2812-4108-ad55-4a937ebe0912\")) {                    Plotly.newPlot(                        \"907f24df-2812-4108-ad55-4a937ebe0912\",                        [{\"hovertemplate\":\"NO DATA\",\"legendgroup\":\"\",\"marker\":{\"color\":\"red\",\"symbol\":\"circle\"},\"mode\":\"markers\",\"name\":\"\",\"orientation\":\"v\",\"showlegend\":false,\"x\":[\"Kiron K. Skinner\",\"Farnam Jahanian\",\"James D. Herbsleb\",\"Subra Suresh\",\"Greg Ganger\",\"Michael Ian Shamos\",\"Luis von Ahn\",\"Bhiksha Ramakrishnan\",\"Norman M. Sadeh\",\"Virgil D. Gligor\",\"Benjamin Moseley\",\"David Garlan\",\"Christopher J. Langmead\",\"Daniel Dominic Kaplan Sleator\",\"Yuanzhi Li\",\"Christopher G. Atkeson\",\"Stephen Brookes\",\"Lenore Blum\",\"James McCann\",\"Keenan Crane\",\"Abhinav Gupta\",\"Jessica K. Hodgins\"],\"xaxis\":\"x\",\"y\":[0,0,0,0,0,0,0,0,0,0,0,0,0,0,0,0,0,0,0,0,0,0],\"yaxis\":\"y\",\"type\":\"scatter\"},{\"marker\":{\"color\":\"black\"},\"mode\":\"markers\",\"name\":\"\",\"x\":[\"Heather Miller\",\"Patrick Carrington\",\"Stephen D. Brookes\",\"Rohan Padhye\",\"David Lindlbauer\",\"George Amvrosiadis\",\"Alexandra Ion\",\"Vincent Hellendoorn\",\"Ioannis Gkioulekas\",\"Changliu Liu\",\"Eunsuk Kang\",\"Andrej Risteski\",\"Amy E. Ogan\",\"Matthew O'Toole\",\"Lining Yao\",\"Chinmay Eishan Kulkarni\",\"Pravesh K. Kothari\",\"Manuel Blum\",\"Jan Hoffmann\",\"Nathan Beckmann\",\"Henny Admoni\",\"John C. Stamper\",\"Emma Strubell\",\"Bernhard Haeupler\",\"Justine Sherry\",\"Levent Burak Kara\",\"Geoff F. Kaufman\",\"Swarun Kumar\",\"Brandon Lucia\",\"Travis D. Breaux\",\"Sivaraman Balakrishnan\",\"Katerina Fragkiadaki\",\"Shubham Tulsiani\",\"Tom M. Mitchell\",\"Umut A. Acar\",\"Yonatan Bisk\",\"K. V. Rashmi\",\"Jessica Hammer\",\"Roy Maxion\",\"Karl Crary\",\"Bogdan Vasilescu\",\"Red Whittaker\",\"David Held\",\"Nihar B. Shah\",\"David J. Mostow\",\"Doug Sicker\",\"Aarti Singh\",\"Kemal Oflazer\",\"Jonathan Aldrich\",\"Steven Rudich\",\"Rayid Ghani\",\"Virginia Smith\",\"Priya Narasimhan\",\"Claire Le Goues\",\"Michael A. Erdmann\",\"Hartmut Geyer\",\"Yong-Lae Park\",\"David R. O'Hallaron\",\"Ryan O'Donnell\",\"Andr\\u00e9 Platzer\",\"Andrew Pavlo\",\"Nancy S. Pollard\",\"Ryan Tibshirani\",\"James C. Hoe\",\"Eric Nyberg\",\"Maria-Florina Balcan\",\"Yuvraj Agarwal\",\"Anupam Datta\",\"Matt Fredrikson\",\"Alonzo Kelly\",\"Diana Marculescu\",\"Andreas R. Pfenning\",\"Roger B. Dannenberg\",\"Deepak Pathak\",\"Tai Sing Lee\",\"Richard M. Stern\",\"David P. Woodruff\",\"Lujo Bauer\",\"Chris Harrison\",\"Bill Scherlis\",\"Bryan Parno\",\"Vipul Goyal\",\"Seth Copen Goldstein\",\"Venkatesan Guruswami\",\"Todd C. Mowry\",\"Laura A. Dabbish\",\"Carl Kingsford\",\"Gary K. Fedder\",\"David Brumley\",\"Mor Harchol-Balter\",\"Vincent Conitzer\",\"Aniket Kittur\",\"Nicolas Christin\",\"Dabbala Rajagopal Reddy\",\"Maxim Likhachev\",\"Robert F. Murphy\",\"Anupam Gupta\",\"Srinivasa G. Narasimhan\",\"Gary L. Miller\",\"Carolyn P. Ros\\u00e9\",\"Graham Neubig\",\"Radu Marculescu\",\"Christian K\\u00e4stner\",\"James P. Callan\",\"Pradeep Kumar Ravikumar\",\"Matthew T. Mason\",\"Vincent A. W. M. M. Aleven\",\"Frank Pfenning\",\"Seyoung Kim\",\"Guy E. Blelloch\",\"Fei Fang\",\"Scott E. Hudson\",\"Vyas Sekar\",\"Bhiksha Raj\",\"Bruce H. Krogh\",\"Bruno Sinopoli\",\"Michael I. Shamos\",\"Peter Steenkiste\",\"Illah R. Nourbakhsh\",\"John Zimmerman\",\"Ameet S. Talwalkar\",\"Robert Harper\",\"Ziv Bar-Joseph\",\"J. Zico Kolter\",\"Justine Cassell\",\"Daniel P. Siewiorek\",\"Ronald Rosenfeld\",\"Mary Shaw\",\"Alan M. Frieze\",\"Dave Andersen\",\"Louis-Philippe Morency\",\"Howie Choset\",\"Jodi Forlizzi\",\"Alan W. Black\",\"Drew Bagnell\",\"Srinivasan Seshan\",\"Ragunathan Raj Rajkumar\",\"Jason I. Hong\",\"James H. Morris\",\"Elaine Runting Shi\",\"Tuomas Sandholm\",\"Phillip B. Gibbons\",\"Tianqi Chen\",\"Randal E. Bryant\",\"Alessandro Acquisti\",\"Larry Wasserman\",\"Brad A. Myers\",\"Ken Koedinger\",\"Lorrie Faith Cranor\",\"Jun-Yan Zhu\",\"M. Satyanarayanan\",\"Kathleen M. Carley\",\"Jian Ma\",\"Yiming Yang\",\"Mayank Goel\",\"Martial Hebert\",\"Robert E. Kraut\",\"Deva Ramanan\",\"Sara B. Kiesler\",\"Christos Faloutsos\",\"Dana S. Scott\",\"Takeo Kanade\",\"Geoffrey J. Gordon\"],\"y\":[457.0,468.0,553.0,626.0,660.0,702.0,966.0,985.0,1033.0,1162.0,1194.0,1314.0,1712.0,1724.0,1824.0,1883.0,2024.0,2198.0,2238.0,2309.0,2401.0,2442.0,2876.0,2920.0,2981.0,2984.0,3054.0,3287.0,3442.0,3464.0,3505.0,3566.0,3695.0,3736.0,3751.0,3790.0,3889.0,4387.0,4551.0,4630.0,4651.0,4935.0,5295.0,5393.0,5643.0,5696.0,5747.0,5782.0,5933.0,6085.0,6201.0,6300.0,6391.0,6448.0,6526.0,6562.0,6615.0,6662.0,6809.0,7297.0,7495.0,7647.0,7671.0,7723.0,7799.0,7832.0,7852.0,8070.0,8129.0,8811.0,8998.0,9167.0,9240.0,10010.0,10531.0,10665.0,10683.0,10859.0,10873.0,10932.0,11498.0,11942.0,12065.0,12072.0,12091.0,12102.0,12210.0,12232.0,12414.0,12845.0,12904.0,12907.0,12992.0,13477.0,13723.0,13784.0,13929.0,13976.0,14061.0,14153.0,14496.0,14702.0,14762.0,14786.0,15770.0,15882.0,16003.0,16102.0,16191.0,16548.0,16635.0,17279.0,17354.0,17468.0,17480.0,17580.0,18022.0,18236.0,18629.0,18683.0,18807.0,18908.0,19092.0,19345.0,20906.0,21134.0,22090.0,22156.0,22504.0,22583.0,22666.0,24289.0,25232.0,25252.0,26156.0,26637.0,26668.0,28761.0,28821.0,28871.0,29282.0,29606.0,30372.0,31088.0,32180.0,32320.0,33668.0,35512.0,39597.0,41542.0,41690.0,44244.0,46124.0,47567.0,47838.0,53970.0,60565.0,63537.0,70526.0,104924.0,105996.0,139212.0,237097.0],\"type\":\"scatter\"}],                        {\"template\":{\"data\":{\"histogram2dcontour\":[{\"type\":\"histogram2dcontour\",\"colorbar\":{\"outlinewidth\":0,\"ticks\":\"\"},\"colorscale\":[[0.0,\"#0d0887\"],[0.1111111111111111,\"#46039f\"],[0.2222222222222222,\"#7201a8\"],[0.3333333333333333,\"#9c179e\"],[0.4444444444444444,\"#bd3786\"],[0.5555555555555556,\"#d8576b\"],[0.6666666666666666,\"#ed7953\"],[0.7777777777777778,\"#fb9f3a\"],[0.8888888888888888,\"#fdca26\"],[1.0,\"#f0f921\"]]}],\"choropleth\":[{\"type\":\"choropleth\",\"colorbar\":{\"outlinewidth\":0,\"ticks\":\"\"}}],\"histogram2d\":[{\"type\":\"histogram2d\",\"colorbar\":{\"outlinewidth\":0,\"ticks\":\"\"},\"colorscale\":[[0.0,\"#0d0887\"],[0.1111111111111111,\"#46039f\"],[0.2222222222222222,\"#7201a8\"],[0.3333333333333333,\"#9c179e\"],[0.4444444444444444,\"#bd3786\"],[0.5555555555555556,\"#d8576b\"],[0.6666666666666666,\"#ed7953\"],[0.7777777777777778,\"#fb9f3a\"],[0.8888888888888888,\"#fdca26\"],[1.0,\"#f0f921\"]]}],\"heatmap\":[{\"type\":\"heatmap\",\"colorbar\":{\"outlinewidth\":0,\"ticks\":\"\"},\"colorscale\":[[0.0,\"#0d0887\"],[0.1111111111111111,\"#46039f\"],[0.2222222222222222,\"#7201a8\"],[0.3333333333333333,\"#9c179e\"],[0.4444444444444444,\"#bd3786\"],[0.5555555555555556,\"#d8576b\"],[0.6666666666666666,\"#ed7953\"],[0.7777777777777778,\"#fb9f3a\"],[0.8888888888888888,\"#fdca26\"],[1.0,\"#f0f921\"]]}],\"heatmapgl\":[{\"type\":\"heatmapgl\",\"colorbar\":{\"outlinewidth\":0,\"ticks\":\"\"},\"colorscale\":[[0.0,\"#0d0887\"],[0.1111111111111111,\"#46039f\"],[0.2222222222222222,\"#7201a8\"],[0.3333333333333333,\"#9c179e\"],[0.4444444444444444,\"#bd3786\"],[0.5555555555555556,\"#d8576b\"],[0.6666666666666666,\"#ed7953\"],[0.7777777777777778,\"#fb9f3a\"],[0.8888888888888888,\"#fdca26\"],[1.0,\"#f0f921\"]]}],\"contourcarpet\":[{\"type\":\"contourcarpet\",\"colorbar\":{\"outlinewidth\":0,\"ticks\":\"\"}}],\"contour\":[{\"type\":\"contour\",\"colorbar\":{\"outlinewidth\":0,\"ticks\":\"\"},\"colorscale\":[[0.0,\"#0d0887\"],[0.1111111111111111,\"#46039f\"],[0.2222222222222222,\"#7201a8\"],[0.3333333333333333,\"#9c179e\"],[0.4444444444444444,\"#bd3786\"],[0.5555555555555556,\"#d8576b\"],[0.6666666666666666,\"#ed7953\"],[0.7777777777777778,\"#fb9f3a\"],[0.8888888888888888,\"#fdca26\"],[1.0,\"#f0f921\"]]}],\"surface\":[{\"type\":\"surface\",\"colorbar\":{\"outlinewidth\":0,\"ticks\":\"\"},\"colorscale\":[[0.0,\"#0d0887\"],[0.1111111111111111,\"#46039f\"],[0.2222222222222222,\"#7201a8\"],[0.3333333333333333,\"#9c179e\"],[0.4444444444444444,\"#bd3786\"],[0.5555555555555556,\"#d8576b\"],[0.6666666666666666,\"#ed7953\"],[0.7777777777777778,\"#fb9f3a\"],[0.8888888888888888,\"#fdca26\"],[1.0,\"#f0f921\"]]}],\"mesh3d\":[{\"type\":\"mesh3d\",\"colorbar\":{\"outlinewidth\":0,\"ticks\":\"\"}}],\"scatter\":[{\"fillpattern\":{\"fillmode\":\"overlay\",\"size\":10,\"solidity\":0.2},\"type\":\"scatter\"}],\"parcoords\":[{\"type\":\"parcoords\",\"line\":{\"colorbar\":{\"outlinewidth\":0,\"ticks\":\"\"}}}],\"scatterpolargl\":[{\"type\":\"scatterpolargl\",\"marker\":{\"colorbar\":{\"outlinewidth\":0,\"ticks\":\"\"}}}],\"bar\":[{\"error_x\":{\"color\":\"#2a3f5f\"},\"error_y\":{\"color\":\"#2a3f5f\"},\"marker\":{\"line\":{\"color\":\"#E5ECF6\",\"width\":0.5},\"pattern\":{\"fillmode\":\"overlay\",\"size\":10,\"solidity\":0.2}},\"type\":\"bar\"}],\"scattergeo\":[{\"type\":\"scattergeo\",\"marker\":{\"colorbar\":{\"outlinewidth\":0,\"ticks\":\"\"}}}],\"scatterpolar\":[{\"type\":\"scatterpolar\",\"marker\":{\"colorbar\":{\"outlinewidth\":0,\"ticks\":\"\"}}}],\"histogram\":[{\"marker\":{\"pattern\":{\"fillmode\":\"overlay\",\"size\":10,\"solidity\":0.2}},\"type\":\"histogram\"}],\"scattergl\":[{\"type\":\"scattergl\",\"marker\":{\"colorbar\":{\"outlinewidth\":0,\"ticks\":\"\"}}}],\"scatter3d\":[{\"type\":\"scatter3d\",\"line\":{\"colorbar\":{\"outlinewidth\":0,\"ticks\":\"\"}},\"marker\":{\"colorbar\":{\"outlinewidth\":0,\"ticks\":\"\"}}}],\"scattermapbox\":[{\"type\":\"scattermapbox\",\"marker\":{\"colorbar\":{\"outlinewidth\":0,\"ticks\":\"\"}}}],\"scatterternary\":[{\"type\":\"scatterternary\",\"marker\":{\"colorbar\":{\"outlinewidth\":0,\"ticks\":\"\"}}}],\"scattercarpet\":[{\"type\":\"scattercarpet\",\"marker\":{\"colorbar\":{\"outlinewidth\":0,\"ticks\":\"\"}}}],\"carpet\":[{\"aaxis\":{\"endlinecolor\":\"#2a3f5f\",\"gridcolor\":\"white\",\"linecolor\":\"white\",\"minorgridcolor\":\"white\",\"startlinecolor\":\"#2a3f5f\"},\"baxis\":{\"endlinecolor\":\"#2a3f5f\",\"gridcolor\":\"white\",\"linecolor\":\"white\",\"minorgridcolor\":\"white\",\"startlinecolor\":\"#2a3f5f\"},\"type\":\"carpet\"}],\"table\":[{\"cells\":{\"fill\":{\"color\":\"#EBF0F8\"},\"line\":{\"color\":\"white\"}},\"header\":{\"fill\":{\"color\":\"#C8D4E3\"},\"line\":{\"color\":\"white\"}},\"type\":\"table\"}],\"barpolar\":[{\"marker\":{\"line\":{\"color\":\"#E5ECF6\",\"width\":0.5},\"pattern\":{\"fillmode\":\"overlay\",\"size\":10,\"solidity\":0.2}},\"type\":\"barpolar\"}],\"pie\":[{\"automargin\":true,\"type\":\"pie\"}]},\"layout\":{\"autotypenumbers\":\"strict\",\"colorway\":[\"#636efa\",\"#EF553B\",\"#00cc96\",\"#ab63fa\",\"#FFA15A\",\"#19d3f3\",\"#FF6692\",\"#B6E880\",\"#FF97FF\",\"#FECB52\"],\"font\":{\"color\":\"#2a3f5f\"},\"hovermode\":\"closest\",\"hoverlabel\":{\"align\":\"left\"},\"paper_bgcolor\":\"white\",\"plot_bgcolor\":\"#E5ECF6\",\"polar\":{\"bgcolor\":\"#E5ECF6\",\"angularaxis\":{\"gridcolor\":\"white\",\"linecolor\":\"white\",\"ticks\":\"\"},\"radialaxis\":{\"gridcolor\":\"white\",\"linecolor\":\"white\",\"ticks\":\"\"}},\"ternary\":{\"bgcolor\":\"#E5ECF6\",\"aaxis\":{\"gridcolor\":\"white\",\"linecolor\":\"white\",\"ticks\":\"\"},\"baxis\":{\"gridcolor\":\"white\",\"linecolor\":\"white\",\"ticks\":\"\"},\"caxis\":{\"gridcolor\":\"white\",\"linecolor\":\"white\",\"ticks\":\"\"}},\"coloraxis\":{\"colorbar\":{\"outlinewidth\":0,\"ticks\":\"\"}},\"colorscale\":{\"sequential\":[[0.0,\"#0d0887\"],[0.1111111111111111,\"#46039f\"],[0.2222222222222222,\"#7201a8\"],[0.3333333333333333,\"#9c179e\"],[0.4444444444444444,\"#bd3786\"],[0.5555555555555556,\"#d8576b\"],[0.6666666666666666,\"#ed7953\"],[0.7777777777777778,\"#fb9f3a\"],[0.8888888888888888,\"#fdca26\"],[1.0,\"#f0f921\"]],\"sequentialminus\":[[0.0,\"#0d0887\"],[0.1111111111111111,\"#46039f\"],[0.2222222222222222,\"#7201a8\"],[0.3333333333333333,\"#9c179e\"],[0.4444444444444444,\"#bd3786\"],[0.5555555555555556,\"#d8576b\"],[0.6666666666666666,\"#ed7953\"],[0.7777777777777778,\"#fb9f3a\"],[0.8888888888888888,\"#fdca26\"],[1.0,\"#f0f921\"]],\"diverging\":[[0,\"#8e0152\"],[0.1,\"#c51b7d\"],[0.2,\"#de77ae\"],[0.3,\"#f1b6da\"],[0.4,\"#fde0ef\"],[0.5,\"#f7f7f7\"],[0.6,\"#e6f5d0\"],[0.7,\"#b8e186\"],[0.8,\"#7fbc41\"],[0.9,\"#4d9221\"],[1,\"#276419\"]]},\"xaxis\":{\"gridcolor\":\"white\",\"linecolor\":\"white\",\"ticks\":\"\",\"title\":{\"standoff\":15},\"zerolinecolor\":\"white\",\"automargin\":true,\"zerolinewidth\":2},\"yaxis\":{\"gridcolor\":\"white\",\"linecolor\":\"white\",\"ticks\":\"\",\"title\":{\"standoff\":15},\"zerolinecolor\":\"white\",\"automargin\":true,\"zerolinewidth\":2},\"scene\":{\"xaxis\":{\"backgroundcolor\":\"#E5ECF6\",\"gridcolor\":\"white\",\"linecolor\":\"white\",\"showbackground\":true,\"ticks\":\"\",\"zerolinecolor\":\"white\",\"gridwidth\":2},\"yaxis\":{\"backgroundcolor\":\"#E5ECF6\",\"gridcolor\":\"white\",\"linecolor\":\"white\",\"showbackground\":true,\"ticks\":\"\",\"zerolinecolor\":\"white\",\"gridwidth\":2},\"zaxis\":{\"backgroundcolor\":\"#E5ECF6\",\"gridcolor\":\"white\",\"linecolor\":\"white\",\"showbackground\":true,\"ticks\":\"\",\"zerolinecolor\":\"white\",\"gridwidth\":2}},\"shapedefaults\":{\"line\":{\"color\":\"#2a3f5f\"}},\"annotationdefaults\":{\"arrowcolor\":\"#2a3f5f\",\"arrowhead\":0,\"arrowwidth\":1},\"geo\":{\"bgcolor\":\"white\",\"landcolor\":\"#E5ECF6\",\"subunitcolor\":\"white\",\"showland\":true,\"showlakes\":true,\"lakecolor\":\"white\"},\"title\":{\"x\":0.05},\"mapbox\":{\"style\":\"light\"}}},\"xaxis\":{\"anchor\":\"y\",\"domain\":[0.0,1.0],\"title\":{\"text\":\"name\"},\"range\":[-1,185]},\"yaxis\":{\"anchor\":\"x\",\"domain\":[0.0,1.0],\"title\":{\"text\":\"citations\"},\"range\":[0,325000]},\"legend\":{\"tracegroupgap\":0},\"title\":{\"text\":\"Carnegie Mellon University <br><sup>Average citations for 163 professors: 17525.528</sup>\",\"x\":0,\"xref\":\"paper\"},\"height\":1000,\"width\":3800,\"shapes\":[{\"line\":{\"color\":\"black\"},\"type\":\"line\",\"x0\":0,\"x1\":1,\"xref\":\"x domain\",\"y0\":17525.528,\"y1\":17525.528,\"yref\":\"y\"}],\"annotations\":[{\"showarrow\":false,\"text\":\"Average = 17525.528 citations\",\"x\":0,\"xanchor\":\"left\",\"xref\":\"x domain\",\"y\":17525.528,\"yanchor\":\"bottom\",\"yref\":\"y\"}],\"font\":{\"family\":\"Courier New, monospace\",\"size\":10,\"color\":\"#000000\"}},                        {\"responsive\": true}                    ).then(function(){\n",
       "                            \n",
       "var gd = document.getElementById('907f24df-2812-4108-ad55-4a937ebe0912');\n",
       "var x = new MutationObserver(function (mutations, observer) {{\n",
       "        var display = window.getComputedStyle(gd).display;\n",
       "        if (!display || display === 'none') {{\n",
       "            console.log([gd, 'removed!']);\n",
       "            Plotly.purge(gd);\n",
       "            observer.disconnect();\n",
       "        }}\n",
       "}});\n",
       "\n",
       "// Listen for the removal of the full notebook cells\n",
       "var notebookContainer = gd.closest('#notebook-container');\n",
       "if (notebookContainer) {{\n",
       "    x.observe(notebookContainer, {childList: true});\n",
       "}}\n",
       "\n",
       "// Listen for the clearing of the current output cell\n",
       "var outputEl = gd.closest('.output');\n",
       "if (outputEl) {{\n",
       "    x.observe(outputEl, {childList: true});\n",
       "}}\n",
       "\n",
       "                        })                };                });            </script>        </div>"
      ]
     },
     "metadata": {},
     "output_type": "display_data"
    }
   ],
   "source": [
    "plot('Carnegie Mellon University')"
   ]
  },
  {
   "cell_type": "code",
   "execution_count": 103,
   "id": "6260ac92",
   "metadata": {},
   "outputs": [],
   "source": [
    "# for i in range(470,colleges.shape[0]):\n",
    "#     plot(f'{colleges.iloc[i,0]}')\n",
    "#     print(f'finished {i}')"
   ]
  },
  {
   "cell_type": "code",
   "execution_count": 119,
   "id": "8bb86a32",
   "metadata": {},
   "outputs": [],
   "source": [
    "college_data = pd.read_csv(f'/Users/kevins/Documents/CSImpact/data/college_data/college46.csv')"
   ]
  },
  {
   "cell_type": "code",
   "execution_count": 120,
   "id": "a67fc083",
   "metadata": {},
   "outputs": [
    {
     "data": {
      "text/html": [
       "<div>\n",
       "<style scoped>\n",
       "    .dataframe tbody tr th:only-of-type {\n",
       "        vertical-align: middle;\n",
       "    }\n",
       "\n",
       "    .dataframe tbody tr th {\n",
       "        vertical-align: top;\n",
       "    }\n",
       "\n",
       "    .dataframe thead th {\n",
       "        text-align: right;\n",
       "    }\n",
       "</style>\n",
       "<table border=\"1\" class=\"dataframe\">\n",
       "  <thead>\n",
       "    <tr style=\"text-align: right;\">\n",
       "      <th></th>\n",
       "      <th>citations</th>\n",
       "      <th>h-index</th>\n",
       "    </tr>\n",
       "  </thead>\n",
       "  <tbody>\n",
       "    <tr>\n",
       "      <th>count</th>\n",
       "      <td>163.000000</td>\n",
       "      <td>163.000000</td>\n",
       "    </tr>\n",
       "    <tr>\n",
       "      <th>mean</th>\n",
       "      <td>17525.527607</td>\n",
       "      <td>48.441718</td>\n",
       "    </tr>\n",
       "    <tr>\n",
       "      <th>std</th>\n",
       "      <td>25822.972547</td>\n",
       "      <td>28.289312</td>\n",
       "    </tr>\n",
       "    <tr>\n",
       "      <th>min</th>\n",
       "      <td>457.000000</td>\n",
       "      <td>9.000000</td>\n",
       "    </tr>\n",
       "    <tr>\n",
       "      <th>25%</th>\n",
       "      <td>4793.000000</td>\n",
       "      <td>27.000000</td>\n",
       "    </tr>\n",
       "    <tr>\n",
       "      <th>50%</th>\n",
       "      <td>11942.000000</td>\n",
       "      <td>44.000000</td>\n",
       "    </tr>\n",
       "    <tr>\n",
       "      <th>75%</th>\n",
       "      <td>19000.000000</td>\n",
       "      <td>63.500000</td>\n",
       "    </tr>\n",
       "    <tr>\n",
       "      <th>max</th>\n",
       "      <td>237097.000000</td>\n",
       "      <td>179.000000</td>\n",
       "    </tr>\n",
       "  </tbody>\n",
       "</table>\n",
       "</div>"
      ],
      "text/plain": [
       "           citations     h-index\n",
       "count     163.000000  163.000000\n",
       "mean    17525.527607   48.441718\n",
       "std     25822.972547   28.289312\n",
       "min       457.000000    9.000000\n",
       "25%      4793.000000   27.000000\n",
       "50%     11942.000000   44.000000\n",
       "75%     19000.000000   63.500000\n",
       "max    237097.000000  179.000000"
      ]
     },
     "execution_count": 120,
     "metadata": {},
     "output_type": "execute_result"
    }
   ],
   "source": [
    "college_data.describe()"
   ]
  },
  {
   "cell_type": "code",
   "execution_count": 55,
   "id": "484e7695",
   "metadata": {},
   "outputs": [
    {
     "data": {
      "text/html": [
       "<div>\n",
       "<style scoped>\n",
       "    .dataframe tbody tr th:only-of-type {\n",
       "        vertical-align: middle;\n",
       "    }\n",
       "\n",
       "    .dataframe tbody tr th {\n",
       "        vertical-align: top;\n",
       "    }\n",
       "\n",
       "    .dataframe thead th {\n",
       "        text-align: right;\n",
       "    }\n",
       "</style>\n",
       "<table border=\"1\" class=\"dataframe\">\n",
       "  <thead>\n",
       "    <tr style=\"text-align: right;\">\n",
       "      <th></th>\n",
       "      <th>college</th>\n",
       "    </tr>\n",
       "  </thead>\n",
       "  <tbody>\n",
       "    <tr>\n",
       "      <th>0</th>\n",
       "      <td>AUEB</td>\n",
       "    </tr>\n",
       "    <tr>\n",
       "      <th>1</th>\n",
       "      <td>Aalborg University</td>\n",
       "    </tr>\n",
       "    <tr>\n",
       "      <th>2</th>\n",
       "      <td>Aalto University</td>\n",
       "    </tr>\n",
       "    <tr>\n",
       "      <th>3</th>\n",
       "      <td>Aarhus University</td>\n",
       "    </tr>\n",
       "    <tr>\n",
       "      <th>4</th>\n",
       "      <td>Aberystwyth University</td>\n",
       "    </tr>\n",
       "    <tr>\n",
       "      <th>5</th>\n",
       "      <td>Air Force Institute of Technology</td>\n",
       "    </tr>\n",
       "    <tr>\n",
       "      <th>6</th>\n",
       "      <td>American University in Cairo</td>\n",
       "    </tr>\n",
       "    <tr>\n",
       "      <th>7</th>\n",
       "      <td>American University of Beirut</td>\n",
       "    </tr>\n",
       "    <tr>\n",
       "      <th>8</th>\n",
       "      <td>Ariel University</td>\n",
       "    </tr>\n",
       "    <tr>\n",
       "      <th>9</th>\n",
       "      <td>Arizona State University</td>\n",
       "    </tr>\n",
       "    <tr>\n",
       "      <th>10</th>\n",
       "      <td>Auburn University</td>\n",
       "    </tr>\n",
       "    <tr>\n",
       "      <th>11</th>\n",
       "      <td>Augusta University</td>\n",
       "    </tr>\n",
       "    <tr>\n",
       "      <th>12</th>\n",
       "      <td>Australian National University</td>\n",
       "    </tr>\n",
       "    <tr>\n",
       "      <th>13</th>\n",
       "      <td>BITS Pilani</td>\n",
       "    </tr>\n",
       "    <tr>\n",
       "      <th>14</th>\n",
       "      <td>BITS Pilani-Goa</td>\n",
       "    </tr>\n",
       "    <tr>\n",
       "      <th>15</th>\n",
       "      <td>BUET</td>\n",
       "    </tr>\n",
       "    <tr>\n",
       "      <th>16</th>\n",
       "      <td>BUPT</td>\n",
       "    </tr>\n",
       "    <tr>\n",
       "      <th>17</th>\n",
       "      <td>Babeș-Bolyai University</td>\n",
       "    </tr>\n",
       "    <tr>\n",
       "      <th>18</th>\n",
       "      <td>Bar-Ilan University</td>\n",
       "    </tr>\n",
       "    <tr>\n",
       "      <th>19</th>\n",
       "      <td>Bauhaus University Weimar</td>\n",
       "    </tr>\n",
       "    <tr>\n",
       "      <th>20</th>\n",
       "      <td>Beihang University</td>\n",
       "    </tr>\n",
       "    <tr>\n",
       "      <th>21</th>\n",
       "      <td>Ben-Gurion University of the Negev</td>\n",
       "    </tr>\n",
       "    <tr>\n",
       "      <th>22</th>\n",
       "      <td>Bielefeld University</td>\n",
       "    </tr>\n",
       "    <tr>\n",
       "      <th>23</th>\n",
       "      <td>Bilkent University</td>\n",
       "    </tr>\n",
       "    <tr>\n",
       "      <th>24</th>\n",
       "      <td>Binghamton University</td>\n",
       "    </tr>\n",
       "    <tr>\n",
       "      <th>25</th>\n",
       "      <td>Birkbeck University of London</td>\n",
       "    </tr>\n",
       "    <tr>\n",
       "      <th>26</th>\n",
       "      <td>Bocconi University</td>\n",
       "    </tr>\n",
       "    <tr>\n",
       "      <th>27</th>\n",
       "      <td>Boise State University</td>\n",
       "    </tr>\n",
       "    <tr>\n",
       "      <th>28</th>\n",
       "      <td>Boston College</td>\n",
       "    </tr>\n",
       "    <tr>\n",
       "      <th>29</th>\n",
       "      <td>Boston University</td>\n",
       "    </tr>\n",
       "    <tr>\n",
       "      <th>30</th>\n",
       "      <td>Boğaziçi University</td>\n",
       "    </tr>\n",
       "    <tr>\n",
       "      <th>31</th>\n",
       "      <td>Brandeis University</td>\n",
       "    </tr>\n",
       "    <tr>\n",
       "      <th>32</th>\n",
       "      <td>Brandenburg University of Technology</td>\n",
       "    </tr>\n",
       "    <tr>\n",
       "      <th>33</th>\n",
       "      <td>Brigham Young University</td>\n",
       "    </tr>\n",
       "    <tr>\n",
       "      <th>34</th>\n",
       "      <td>Brno University of Technology</td>\n",
       "    </tr>\n",
       "    <tr>\n",
       "      <th>35</th>\n",
       "      <td>Brown University</td>\n",
       "    </tr>\n",
       "    <tr>\n",
       "      <th>36</th>\n",
       "      <td>Brunel University London</td>\n",
       "    </tr>\n",
       "    <tr>\n",
       "      <th>37</th>\n",
       "      <td>Bundeswehr University Munich</td>\n",
       "    </tr>\n",
       "    <tr>\n",
       "      <th>38</th>\n",
       "      <td>CISPA Helmholtz Center</td>\n",
       "    </tr>\n",
       "    <tr>\n",
       "      <th>39</th>\n",
       "      <td>CMI</td>\n",
       "    </tr>\n",
       "    <tr>\n",
       "      <th>40</th>\n",
       "      <td>CRIStAL</td>\n",
       "    </tr>\n",
       "    <tr>\n",
       "      <th>41</th>\n",
       "      <td>CUNY</td>\n",
       "    </tr>\n",
       "    <tr>\n",
       "      <th>42</th>\n",
       "      <td>CWI</td>\n",
       "    </tr>\n",
       "    <tr>\n",
       "      <th>43</th>\n",
       "      <td>California Institute of Technology</td>\n",
       "    </tr>\n",
       "    <tr>\n",
       "      <th>44</th>\n",
       "      <td>Cardiff University</td>\n",
       "    </tr>\n",
       "    <tr>\n",
       "      <th>45</th>\n",
       "      <td>Carleton University</td>\n",
       "    </tr>\n",
       "    <tr>\n",
       "      <th>46</th>\n",
       "      <td>Carnegie Mellon University</td>\n",
       "    </tr>\n",
       "    <tr>\n",
       "      <th>47</th>\n",
       "      <td>Case Western Reserve University</td>\n",
       "    </tr>\n",
       "    <tr>\n",
       "      <th>48</th>\n",
       "      <td>Chalmers/GU</td>\n",
       "    </tr>\n",
       "    <tr>\n",
       "      <th>49</th>\n",
       "      <td>Charles University</td>\n",
       "    </tr>\n",
       "  </tbody>\n",
       "</table>\n",
       "</div>"
      ],
      "text/plain": [
       "                                 college\n",
       "0                                   AUEB\n",
       "1                     Aalborg University\n",
       "2                       Aalto University\n",
       "3                      Aarhus University\n",
       "4                 Aberystwyth University\n",
       "5      Air Force Institute of Technology\n",
       "6           American University in Cairo\n",
       "7          American University of Beirut\n",
       "8                       Ariel University\n",
       "9               Arizona State University\n",
       "10                     Auburn University\n",
       "11                    Augusta University\n",
       "12        Australian National University\n",
       "13                           BITS Pilani\n",
       "14                       BITS Pilani-Goa\n",
       "15                                  BUET\n",
       "16                                  BUPT\n",
       "17               Babeș-Bolyai University\n",
       "18                   Bar-Ilan University\n",
       "19             Bauhaus University Weimar\n",
       "20                    Beihang University\n",
       "21    Ben-Gurion University of the Negev\n",
       "22                  Bielefeld University\n",
       "23                    Bilkent University\n",
       "24                 Binghamton University\n",
       "25         Birkbeck University of London\n",
       "26                    Bocconi University\n",
       "27                Boise State University\n",
       "28                        Boston College\n",
       "29                     Boston University\n",
       "30                   Boğaziçi University\n",
       "31                   Brandeis University\n",
       "32  Brandenburg University of Technology\n",
       "33              Brigham Young University\n",
       "34         Brno University of Technology\n",
       "35                      Brown University\n",
       "36              Brunel University London\n",
       "37          Bundeswehr University Munich\n",
       "38                CISPA Helmholtz Center\n",
       "39                                   CMI\n",
       "40                               CRIStAL\n",
       "41                                  CUNY\n",
       "42                                   CWI\n",
       "43    California Institute of Technology\n",
       "44                    Cardiff University\n",
       "45                   Carleton University\n",
       "46            Carnegie Mellon University\n",
       "47       Case Western Reserve University\n",
       "48                           Chalmers/GU\n",
       "49                    Charles University"
      ]
     },
     "execution_count": 55,
     "metadata": {},
     "output_type": "execute_result"
    }
   ],
   "source": [
    "colleges.head(50)"
   ]
  },
  {
   "cell_type": "code",
   "execution_count": 30,
   "id": "8470f427",
   "metadata": {},
   "outputs": [],
   "source": [
    "for i in range(colleges.shape[0]):\n",
    "    college_no_spaces = pd.read_csv(f'/Users/kevins/Documents/CSImpact/data/colleges.csv').iloc[i,0].replace(' ','_').replace('/', '_')\n",
    "    os.mkdir(f'/Users/kevins/Documents/CSImpact/data/college_graphs/{college_no_spaces}')"
   ]
  },
  {
   "cell_type": "code",
   "execution_count": 107,
   "id": "221a4c46",
   "metadata": {},
   "outputs": [
    {
     "data": {
      "text/html": [
       "<div>\n",
       "<style scoped>\n",
       "    .dataframe tbody tr th:only-of-type {\n",
       "        vertical-align: middle;\n",
       "    }\n",
       "\n",
       "    .dataframe tbody tr th {\n",
       "        vertical-align: top;\n",
       "    }\n",
       "\n",
       "    .dataframe thead th {\n",
       "        text-align: right;\n",
       "    }\n",
       "</style>\n",
       "<table border=\"1\" class=\"dataframe\">\n",
       "  <thead>\n",
       "    <tr style=\"text-align: right;\">\n",
       "      <th></th>\n",
       "      <th>college</th>\n",
       "    </tr>\n",
       "  </thead>\n",
       "  <tbody>\n",
       "    <tr>\n",
       "      <th>340</th>\n",
       "      <td>UNSW</td>\n",
       "    </tr>\n",
       "  </tbody>\n",
       "</table>\n",
       "</div>"
      ],
      "text/plain": [
       "    college\n",
       "340    UNSW"
      ]
     },
     "execution_count": 107,
     "metadata": {},
     "output_type": "execute_result"
    }
   ],
   "source": [
    "colleges.loc[colleges['college']=='UNSW']"
   ]
  },
  {
   "cell_type": "code",
   "execution_count": 117,
   "id": "91d503db",
   "metadata": {},
   "outputs": [
    {
     "data": {
      "text/html": [
       "<div>\n",
       "<style scoped>\n",
       "    .dataframe tbody tr th:only-of-type {\n",
       "        vertical-align: middle;\n",
       "    }\n",
       "\n",
       "    .dataframe tbody tr th {\n",
       "        vertical-align: top;\n",
       "    }\n",
       "\n",
       "    .dataframe thead th {\n",
       "        text-align: right;\n",
       "    }\n",
       "</style>\n",
       "<table border=\"1\" class=\"dataframe\">\n",
       "  <thead>\n",
       "    <tr style=\"text-align: right;\">\n",
       "      <th></th>\n",
       "      <th>name</th>\n",
       "      <th>affiliation</th>\n",
       "      <th>homepage</th>\n",
       "      <th>scholar_id</th>\n",
       "      <th>citations</th>\n",
       "      <th>h-index</th>\n",
       "    </tr>\n",
       "  </thead>\n",
       "  <tbody>\n",
       "    <tr>\n",
       "      <th>1462</th>\n",
       "      <td>Jodi Forlizzi</td>\n",
       "      <td>Carnegie Mellon University</td>\n",
       "      <td>https://www.hcii.cmu.edu/people/jodi-forlizzi</td>\n",
       "      <td>Hyhp_zUAAAAJ</td>\n",
       "      <td>25232.0</td>\n",
       "      <td>77.0</td>\n",
       "    </tr>\n",
       "  </tbody>\n",
       "</table>\n",
       "</div>"
      ],
      "text/plain": [
       "               name                 affiliation  \\\n",
       "1462  Jodi Forlizzi  Carnegie Mellon University   \n",
       "\n",
       "                                           homepage    scholar_id  citations  \\\n",
       "1462  https://www.hcii.cmu.edu/people/jodi-forlizzi  Hyhp_zUAAAAJ    25232.0   \n",
       "\n",
       "      h-index  \n",
       "1462     77.0  "
      ]
     },
     "execution_count": 117,
     "metadata": {},
     "output_type": "execute_result"
    }
   ],
   "source": [
    "data.loc[data['name'] == 'Jodi Forlizzi']"
   ]
  },
  {
   "cell_type": "code",
   "execution_count": 122,
   "id": "e43a7812",
   "metadata": {},
   "outputs": [
    {
     "ename": "NameError",
     "evalue": "name 'citations' is not defined",
     "output_type": "error",
     "traceback": [
      "\u001b[0;31m---------------------------------------------------------------------------\u001b[0m",
      "\u001b[0;31mNameError\u001b[0m                                 Traceback (most recent call last)",
      "Input \u001b[0;32mIn [122]\u001b[0m, in \u001b[0;36m<cell line: 1>\u001b[0;34m()\u001b[0m\n\u001b[0;32m----> 1\u001b[0m \u001b[43mcitations\u001b[49m\n",
      "\u001b[0;31mNameError\u001b[0m: name 'citations' is not defined"
     ]
    }
   ],
   "source": [
    "citations"
   ]
  },
  {
   "cell_type": "code",
   "execution_count": 42,
   "id": "b3ebb4c5",
   "metadata": {},
   "outputs": [
    {
     "data": {
      "text/plain": [
       "74    False\n",
       "Name: citations, dtype: bool"
      ]
     },
     "execution_count": 42,
     "metadata": {},
     "output_type": "execute_result"
    }
   ],
   "source": [
    "~pd.isna(college_data.loc[college_data['name'] == 'David Garlan']['citations'])"
   ]
  },
  {
   "cell_type": "code",
   "execution_count": null,
   "id": "bad66097",
   "metadata": {},
   "outputs": [],
   "source": []
  }
 ],
 "metadata": {
  "kernelspec": {
   "display_name": "Python 3 (ipykernel)",
   "language": "python",
   "name": "python3"
  },
  "language_info": {
   "codemirror_mode": {
    "name": "ipython",
    "version": 3
   },
   "file_extension": ".py",
   "mimetype": "text/x-python",
   "name": "python",
   "nbconvert_exporter": "python",
   "pygments_lexer": "ipython3",
   "version": "3.9.12"
  }
 },
 "nbformat": 4,
 "nbformat_minor": 5
}
