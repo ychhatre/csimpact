{
 "cells": [
  {
   "cell_type": "code",
   "execution_count": 86,
   "id": "5cbdc8a1",
   "metadata": {},
   "outputs": [],
   "source": [
    "import matplotlib.pyplot as plt\n",
    "import pandas as pd\n",
    "%matplotlib inline\n"
   ]
  },
  {
   "cell_type": "code",
   "execution_count": 89,
   "id": "2052fd92",
   "metadata": {},
   "outputs": [],
   "source": [
    "from plotly.graph_objs import Bar, Layout\n",
    "from plotly import offline\n",
    "import plotly.express as px"
   ]
  },
  {
   "cell_type": "code",
   "execution_count": 10,
   "id": "82f398ef",
   "metadata": {},
   "outputs": [],
   "source": [
    "colleges = pd.read_csv('/Users/kevins/Documents/CSImpact/data/colleges.csv')"
   ]
  },
  {
   "cell_type": "code",
   "execution_count": null,
   "id": "50bbfd81",
   "metadata": {},
   "outputs": [],
   "source": []
  },
  {
   "cell_type": "code",
   "execution_count": 43,
   "id": "635761db",
   "metadata": {},
   "outputs": [],
   "source": [
    "college_data = pd.DataFrame()\n",
    "def plot(college, h_index, citations):\n",
    "    i = colleges.index[colleges['college'] == college].tolist()[0]\n",
    "    college_data = pd.read_csv(f'/Users/kevins/Documents/CSImpact/data/college_data/college{i}.csv')\n",
    "    if h_index\n",
    "    \n",
    "    "
   ]
  },
  {
   "cell_type": "code",
   "execution_count": 44,
   "id": "3d27f9ce",
   "metadata": {},
   "outputs": [],
   "source": [
    "get_data('University of Michigan')"
   ]
  },
  {
   "cell_type": "code",
   "execution_count": 46,
   "id": "3d55d5f2",
   "metadata": {},
   "outputs": [],
   "source": [
    "i = colleges.index[colleges['college'] == 'University of Michigan'].tolist()[0]\n",
    "college_data = pd.read_csv(f'/Users/kevins/Documents/CSImpact/data/college_data/college{i}.csv')"
   ]
  },
  {
   "cell_type": "code",
   "execution_count": 47,
   "id": "a64403bf",
   "metadata": {},
   "outputs": [
    {
     "data": {
      "text/html": [
       "<div>\n",
       "<style scoped>\n",
       "    .dataframe tbody tr th:only-of-type {\n",
       "        vertical-align: middle;\n",
       "    }\n",
       "\n",
       "    .dataframe tbody tr th {\n",
       "        vertical-align: top;\n",
       "    }\n",
       "\n",
       "    .dataframe thead th {\n",
       "        text-align: right;\n",
       "    }\n",
       "</style>\n",
       "<table border=\"1\" class=\"dataframe\">\n",
       "  <thead>\n",
       "    <tr style=\"text-align: right;\">\n",
       "      <th></th>\n",
       "      <th>name</th>\n",
       "      <th>homepage</th>\n",
       "      <th>scholar_id</th>\n",
       "      <th>citations</th>\n",
       "      <th>h-index</th>\n",
       "    </tr>\n",
       "  </thead>\n",
       "  <tbody>\n",
       "    <tr>\n",
       "      <th>0</th>\n",
       "      <td>Mark S. Ackerman</td>\n",
       "      <td>https://www.si.umich.edu/people/mark-ackerman</td>\n",
       "      <td>qBTbnEQAAAAJ</td>\n",
       "      <td>18013.0</td>\n",
       "      <td>58.0</td>\n",
       "    </tr>\n",
       "    <tr>\n",
       "      <th>1</th>\n",
       "      <td>Michael Nebeling</td>\n",
       "      <td>http://www.michael-nebeling.de</td>\n",
       "      <td>W2XLsXoAAAAJ</td>\n",
       "      <td>1615.0</td>\n",
       "      <td>24.0</td>\n",
       "    </tr>\n",
       "    <tr>\n",
       "      <th>2</th>\n",
       "      <td>Edmund H. Durfee</td>\n",
       "      <td>http://ai.eecs.umich.edu/people/durfee</td>\n",
       "      <td>NOSCHOLARPAGE</td>\n",
       "      <td>NaN</td>\n",
       "      <td>NaN</td>\n",
       "    </tr>\n",
       "    <tr>\n",
       "      <th>3</th>\n",
       "      <td>Thatchaphol Saranurak</td>\n",
       "      <td>https://sites.google.com/site/thsaranurak</td>\n",
       "      <td>y2A2tQgAAAAJ</td>\n",
       "      <td>1134.0</td>\n",
       "      <td>19.0</td>\n",
       "    </tr>\n",
       "    <tr>\n",
       "      <th>4</th>\n",
       "      <td>John E. Laird</td>\n",
       "      <td>http://ai.eecs.umich.edu/people/laird</td>\n",
       "      <td>ea6cjVUAAAAJ</td>\n",
       "      <td>19871.0</td>\n",
       "      <td>58.0</td>\n",
       "    </tr>\n",
       "    <tr>\n",
       "      <th>...</th>\n",
       "      <td>...</td>\n",
       "      <td>...</td>\n",
       "      <td>...</td>\n",
       "      <td>...</td>\n",
       "      <td>...</td>\n",
       "    </tr>\n",
       "    <tr>\n",
       "      <th>98</th>\n",
       "      <td>Kevyn Collins-Thompson</td>\n",
       "      <td>http://www-personal.umich.edu/~kevynct</td>\n",
       "      <td>q__pgY9AkUQJ</td>\n",
       "      <td>5129.0</td>\n",
       "      <td>38.0</td>\n",
       "    </tr>\n",
       "    <tr>\n",
       "      <th>99</th>\n",
       "      <td>Qiaozhu Mei</td>\n",
       "      <td>http://www-personal.umich.edu/~qmei</td>\n",
       "      <td>zr22WkQAAAAJ</td>\n",
       "      <td>18177.0</td>\n",
       "      <td>53.0</td>\n",
       "    </tr>\n",
       "    <tr>\n",
       "      <th>100</th>\n",
       "      <td>Jenna Wiens</td>\n",
       "      <td>http://www-personal.umich.edu/~wiensj</td>\n",
       "      <td>NOSCHOLARPAGE</td>\n",
       "      <td>NaN</td>\n",
       "      <td>NaN</td>\n",
       "    </tr>\n",
       "    <tr>\n",
       "      <th>101</th>\n",
       "      <td>Robert D. Gregg</td>\n",
       "      <td>https://gregg.engin.umich.edu</td>\n",
       "      <td>hEypYOEAAAAJ</td>\n",
       "      <td>3015.0</td>\n",
       "      <td>31.0</td>\n",
       "    </tr>\n",
       "    <tr>\n",
       "      <th>102</th>\n",
       "      <td>XuanLong Nguyen</td>\n",
       "      <td>http://dept.stat.lsa.umich.edu/~xuanlong</td>\n",
       "      <td>Az7XqxQAAAAJ</td>\n",
       "      <td>4021.0</td>\n",
       "      <td>31.0</td>\n",
       "    </tr>\n",
       "  </tbody>\n",
       "</table>\n",
       "<p>103 rows × 5 columns</p>\n",
       "</div>"
      ],
      "text/plain": [
       "                       name                                       homepage  \\\n",
       "0          Mark S. Ackerman  https://www.si.umich.edu/people/mark-ackerman   \n",
       "1          Michael Nebeling                 http://www.michael-nebeling.de   \n",
       "2          Edmund H. Durfee         http://ai.eecs.umich.edu/people/durfee   \n",
       "3     Thatchaphol Saranurak      https://sites.google.com/site/thsaranurak   \n",
       "4             John E. Laird          http://ai.eecs.umich.edu/people/laird   \n",
       "..                      ...                                            ...   \n",
       "98   Kevyn Collins-Thompson         http://www-personal.umich.edu/~kevynct   \n",
       "99              Qiaozhu Mei            http://www-personal.umich.edu/~qmei   \n",
       "100             Jenna Wiens          http://www-personal.umich.edu/~wiensj   \n",
       "101         Robert D. Gregg                  https://gregg.engin.umich.edu   \n",
       "102         XuanLong Nguyen       http://dept.stat.lsa.umich.edu/~xuanlong   \n",
       "\n",
       "        scholar_id  citations  h-index  \n",
       "0     qBTbnEQAAAAJ    18013.0     58.0  \n",
       "1     W2XLsXoAAAAJ     1615.0     24.0  \n",
       "2    NOSCHOLARPAGE        NaN      NaN  \n",
       "3     y2A2tQgAAAAJ     1134.0     19.0  \n",
       "4     ea6cjVUAAAAJ    19871.0     58.0  \n",
       "..             ...        ...      ...  \n",
       "98    q__pgY9AkUQJ     5129.0     38.0  \n",
       "99    zr22WkQAAAAJ    18177.0     53.0  \n",
       "100  NOSCHOLARPAGE        NaN      NaN  \n",
       "101   hEypYOEAAAAJ     3015.0     31.0  \n",
       "102   Az7XqxQAAAAJ     4021.0     31.0  \n",
       "\n",
       "[103 rows x 5 columns]"
      ]
     },
     "execution_count": 47,
     "metadata": {},
     "output_type": "execute_result"
    }
   ],
   "source": [
    "college_data"
   ]
  },
  {
   "cell_type": "code",
   "execution_count": 50,
   "id": "1815ab20",
   "metadata": {},
   "outputs": [],
   "source": [
    "missing_id_rows = college_data.loc[college_data['scholar_id'] == 'NOSCHOLARPAGE']\n",
    "rows_to_plot = college_data.loc[college_data['scholar_id'] != 'NOSCHOLARPAGE']"
   ]
  },
  {
   "cell_type": "code",
   "execution_count": 51,
   "id": "e91bac0f",
   "metadata": {},
   "outputs": [
    {
     "data": {
      "text/html": [
       "<div>\n",
       "<style scoped>\n",
       "    .dataframe tbody tr th:only-of-type {\n",
       "        vertical-align: middle;\n",
       "    }\n",
       "\n",
       "    .dataframe tbody tr th {\n",
       "        vertical-align: top;\n",
       "    }\n",
       "\n",
       "    .dataframe thead th {\n",
       "        text-align: right;\n",
       "    }\n",
       "</style>\n",
       "<table border=\"1\" class=\"dataframe\">\n",
       "  <thead>\n",
       "    <tr style=\"text-align: right;\">\n",
       "      <th></th>\n",
       "      <th>name</th>\n",
       "      <th>homepage</th>\n",
       "      <th>scholar_id</th>\n",
       "      <th>citations</th>\n",
       "      <th>h-index</th>\n",
       "    </tr>\n",
       "  </thead>\n",
       "  <tbody>\n",
       "    <tr>\n",
       "      <th>2</th>\n",
       "      <td>Edmund H. Durfee</td>\n",
       "      <td>http://ai.eecs.umich.edu/people/durfee</td>\n",
       "      <td>NOSCHOLARPAGE</td>\n",
       "      <td>NaN</td>\n",
       "      <td>NaN</td>\n",
       "    </tr>\n",
       "    <tr>\n",
       "      <th>9</th>\n",
       "      <td>Elliot Soloway</td>\n",
       "      <td>http://www.soe.umich.edu/people/profile/elliot...</td>\n",
       "      <td>NOSCHOLARPAGE</td>\n",
       "      <td>NaN</td>\n",
       "      <td>NaN</td>\n",
       "    </tr>\n",
       "    <tr>\n",
       "      <th>48</th>\n",
       "      <td>Demosthenis Teneketzis</td>\n",
       "      <td>http://web.eecs.umich.edu/~teneket</td>\n",
       "      <td>NOSCHOLARPAGE</td>\n",
       "      <td>NaN</td>\n",
       "      <td>NaN</td>\n",
       "    </tr>\n",
       "    <tr>\n",
       "      <th>51</th>\n",
       "      <td>Justin Johnson</td>\n",
       "      <td>https://cs.stanford.edu/people/jcjohns</td>\n",
       "      <td>NOSCHOLARPAGE</td>\n",
       "      <td>NaN</td>\n",
       "      <td>NaN</td>\n",
       "    </tr>\n",
       "    <tr>\n",
       "      <th>53</th>\n",
       "      <td>Sugih Jamin</td>\n",
       "      <td>http://web.eecs.umich.edu/~sugih</td>\n",
       "      <td>NOSCHOLARPAGE</td>\n",
       "      <td>NaN</td>\n",
       "      <td>NaN</td>\n",
       "    </tr>\n",
       "    <tr>\n",
       "      <th>64</th>\n",
       "      <td>Marios C. Papaefthymiou</td>\n",
       "      <td>http://web.eecs.umich.edu/~marios</td>\n",
       "      <td>NOSCHOLARPAGE</td>\n",
       "      <td>NaN</td>\n",
       "      <td>NaN</td>\n",
       "    </tr>\n",
       "    <tr>\n",
       "      <th>67</th>\n",
       "      <td>Kevin J. Compton</td>\n",
       "      <td>http://web.eecs.umich.edu/~kjc</td>\n",
       "      <td>NOSCHOLARPAGE</td>\n",
       "      <td>NaN</td>\n",
       "      <td>NaN</td>\n",
       "    </tr>\n",
       "    <tr>\n",
       "      <th>71</th>\n",
       "      <td>Z. Morley Mao</td>\n",
       "      <td>http://web.eecs.umich.edu/~zmao</td>\n",
       "      <td>NOSCHOLARPAGE</td>\n",
       "      <td>NaN</td>\n",
       "      <td>NaN</td>\n",
       "    </tr>\n",
       "    <tr>\n",
       "      <th>76</th>\n",
       "      <td>Gregory H. Wakefield</td>\n",
       "      <td>http://mcubed.umich.edu/users/ghw</td>\n",
       "      <td>NOSCHOLARPAGE</td>\n",
       "      <td>NaN</td>\n",
       "      <td>NaN</td>\n",
       "    </tr>\n",
       "    <tr>\n",
       "      <th>80</th>\n",
       "      <td>Al Hero</td>\n",
       "      <td>http://web.eecs.umich.edu/~hero</td>\n",
       "      <td>NOSCHOLARPAGE</td>\n",
       "      <td>NaN</td>\n",
       "      <td>NaN</td>\n",
       "    </tr>\n",
       "    <tr>\n",
       "      <th>100</th>\n",
       "      <td>Jenna Wiens</td>\n",
       "      <td>http://www-personal.umich.edu/~wiensj</td>\n",
       "      <td>NOSCHOLARPAGE</td>\n",
       "      <td>NaN</td>\n",
       "      <td>NaN</td>\n",
       "    </tr>\n",
       "  </tbody>\n",
       "</table>\n",
       "</div>"
      ],
      "text/plain": [
       "                        name  \\\n",
       "2           Edmund H. Durfee   \n",
       "9             Elliot Soloway   \n",
       "48    Demosthenis Teneketzis   \n",
       "51            Justin Johnson   \n",
       "53               Sugih Jamin   \n",
       "64   Marios C. Papaefthymiou   \n",
       "67          Kevin J. Compton   \n",
       "71             Z. Morley Mao   \n",
       "76      Gregory H. Wakefield   \n",
       "80                   Al Hero   \n",
       "100              Jenna Wiens   \n",
       "\n",
       "                                              homepage     scholar_id  \\\n",
       "2               http://ai.eecs.umich.edu/people/durfee  NOSCHOLARPAGE   \n",
       "9    http://www.soe.umich.edu/people/profile/elliot...  NOSCHOLARPAGE   \n",
       "48                  http://web.eecs.umich.edu/~teneket  NOSCHOLARPAGE   \n",
       "51              https://cs.stanford.edu/people/jcjohns  NOSCHOLARPAGE   \n",
       "53                    http://web.eecs.umich.edu/~sugih  NOSCHOLARPAGE   \n",
       "64                   http://web.eecs.umich.edu/~marios  NOSCHOLARPAGE   \n",
       "67                      http://web.eecs.umich.edu/~kjc  NOSCHOLARPAGE   \n",
       "71                     http://web.eecs.umich.edu/~zmao  NOSCHOLARPAGE   \n",
       "76                   http://mcubed.umich.edu/users/ghw  NOSCHOLARPAGE   \n",
       "80                     http://web.eecs.umich.edu/~hero  NOSCHOLARPAGE   \n",
       "100              http://www-personal.umich.edu/~wiensj  NOSCHOLARPAGE   \n",
       "\n",
       "     citations  h-index  \n",
       "2          NaN      NaN  \n",
       "9          NaN      NaN  \n",
       "48         NaN      NaN  \n",
       "51         NaN      NaN  \n",
       "53         NaN      NaN  \n",
       "64         NaN      NaN  \n",
       "67         NaN      NaN  \n",
       "71         NaN      NaN  \n",
       "76         NaN      NaN  \n",
       "80         NaN      NaN  \n",
       "100        NaN      NaN  "
      ]
     },
     "execution_count": 51,
     "metadata": {},
     "output_type": "execute_result"
    }
   ],
   "source": [
    "missing_id_rows"
   ]
  },
  {
   "cell_type": "code",
   "execution_count": 57,
   "id": "902915e9",
   "metadata": {},
   "outputs": [],
   "source": [
    "h_indexes = rows_to_plot['h-index'].sort_values()"
   ]
  },
  {
   "cell_type": "code",
   "execution_count": 53,
   "id": "a9e3a8d2",
   "metadata": {},
   "outputs": [],
   "source": [
    "citations = rows_to_plot['citations']"
   ]
  },
  {
   "cell_type": "code",
   "execution_count": 54,
   "id": "17688cf6",
   "metadata": {},
   "outputs": [],
   "source": [
    "names = rows_to_plot['name']"
   ]
  },
  {
   "cell_type": "code",
   "execution_count": 78,
   "id": "62bc8b84",
   "metadata": {},
   "outputs": [
    {
     "data": {
      "image/png": "[encoded data removed]",
      "text/plain": [
       "<Figure size 1324.8x691.2 with 1 Axes>"
      ]
     },
     "metadata": {
      "needs_background": "light"
     },
     "output_type": "display_data"
    }
   ],
   "source": [
    "#plt.scatter(names, h_indexes)\n",
    "#plt.xticks(rotation = 90)\n",
    "#plt.gcf().set_size_inches(len(names)/5,9.6)\n",
    "#plt.show()"
   ]
  },
  {
   "cell_type": "code",
   "execution_count": 92,
   "id": "3a1231a9",
   "metadata": {},
   "outputs": [
    {
     "data": {
      "application/vnd.plotly.v1+json": {
       "config": {
        "plotlyServerURL": "https://plot.ly"
       },
       "data": [
        {
         "hovertemplate": "name=%{x}<br>h-index=%{y}<extra></extra>",
         "legendgroup": "",
         "marker": {
          "color": "#636efa",
          "symbol": "circle"
         },
         "mode": "markers",
         "name": "",
         "orientation": "v",
         "showlegend": false,
         "type": "scatter",
         "x": [
          "Mark S. Ackerman",
          "Michael Nebeling",
          "Thatchaphol Saranurak",
          "John E. Laird",
          "Daniel E. Atkins",
          "David Jurgens",
          "Eric E. Gilbert",
          "David E. Kieras",
          "Tawanna Dillahunt",
          "Euiwoong Lee",
          "Nikhil Bansal",
          "Anhong Guo",
          "Satish Narayanasamy",
          "Ronald Dreslinski Jr.",
          "Cyrus Omar",
          "Ceren Budak",
          "Joyce Chai",
          "Greg Bodwin",
          "Clayton D. Scott",
          "Dmitry Berenson",
          "Michal Derezinski",
          "Jeffrey A. Fessler",
          "Todd M. Austin",
          "Laura Balzano",
          "Roya Ensafi",
          "Mosharaf Chowdhury",
          "Xinyu Wang",
          "Lu Wang",
          "Thomas F. Wenisch",
          "Yatin A. Manerkar",
          "Lingjia Tang",
          "Rada Flavia Mihalcea",
          "David Blaauw",
          "Harsha V. Madhyastha",
          "Chad Jenkins",
          "Hun-Seok Kim",
          "Westley Weimer",
          "Kevin Fu",
          "Atul Prakash",
          "David F. Fouhey",
          "Chris Peikert",
          "Nikola Banovic",
          "Xu Wang",
          "Valeria Bertacco",
          "Trevor N. Mudge",
          "Kang G. Shin",
          "Florian Schaub",
          "Reetu Das",
          "Emily Mower",
          "Scott A. Mahlke",
          "Zeeshan Syed",
          "Manos Kapritsos",
          "Jason Mars",
          "Martin J. Strauss",
          "Grant Robert Schoenebeck",
          "Quentin F. Stout",
          "Pinaki Mazumder",
          "Peter M. Chen",
          "Seth Pettie",
          "Eytan Adar",
          "Barzan Mozafari",
          "Stéphane Lafortune",
          "Mark Guzdial",
          "Satinder P. Singh",
          "Michael P. Wellman",
          "Danai Koutra",
          "Andrew Owens",
          "Stephen Oney",
          "Mark W. Newman",
          "Daniel Genkin",
          "Daniel M. Romero",
          "Igor L. Markov",
          "H. V. Jagadish",
          "Benjamin Kuipers",
          "Karem A. Sakallah",
          "Vineet R. Kamat",
          "Robert P. Dick",
          "John P. Hayes",
          "Qing Qu",
          "Viswanath Nagarajan",
          "Alanson P. Sample",
          "J. Alex Halderman",
          "Mingyan Liu",
          "Ambuj Tewari",
          "Mahdi Cheraghchi",
          "Brian D. Noble",
          "Baris Kasikci",
          "Jean-Baptiste Jeannin",
          "Kevyn Collins-Thompson",
          "Qiaozhu Mei",
          "Robert D. Gregg",
          "XuanLong Nguyen"
         ],
         "xaxis": "x",
         "y": [
          2,
          7,
          8,
          10,
          11,
          11,
          13,
          13,
          13,
          13,
          14,
          14,
          16,
          16,
          17,
          17,
          18,
          18,
          19,
          19,
          19,
          21,
          21,
          22,
          22,
          24,
          24,
          24,
          26,
          28,
          28,
          29,
          30,
          30,
          30,
          31,
          31,
          31,
          32,
          32,
          32,
          32,
          33,
          34,
          34,
          34,
          35,
          35,
          37,
          37,
          37,
          38,
          39,
          41,
          42,
          42,
          43,
          43,
          43,
          45,
          45,
          46,
          46,
          47,
          49,
          49,
          50,
          50,
          50,
          51,
          52,
          53,
          53,
          54,
          54,
          58,
          58,
          59,
          59,
          60,
          67,
          68,
          70,
          70,
          78,
          80,
          80,
          98,
          98,
          114,
          null,
          null
         ],
         "yaxis": "y"
        }
       ],
       "layout": {
        "legend": {
         "tracegroupgap": 0
        },
        "template": {
         "data": {
          "bar": [
           {
            "error_x": {
             "color": "#2a3f5f"
            },
            "error_y": {
             "color": "#2a3f5f"
            },
            "marker": {
             "line": {
              "color": "#E5ECF6",
              "width": 0.5
             },
             "pattern": {
              "fillmode": "overlay",
              "size": 10,
              "solidity": 0.2
             }
            },
            "type": "bar"
           }
          ],
          "barpolar": [
           {
            "marker": {
             "line": {
              "color": "#E5ECF6",
              "width": 0.5
             },
             "pattern": {
              "fillmode": "overlay",
              "size": 10,
              "solidity": 0.2
             }
            },
            "type": "barpolar"
           }
          ],
          "carpet": [
           {
            "aaxis": {
             "endlinecolor": "#2a3f5f",
             "gridcolor": "white",
             "linecolor": "white",
             "minorgridcolor": "white",
             "startlinecolor": "#2a3f5f"
            },
            "baxis": {
             "endlinecolor": "#2a3f5f",
             "gridcolor": "white",
             "linecolor": "white",
             "minorgridcolor": "white",
             "startlinecolor": "#2a3f5f"
            },
            "type": "carpet"
           }
          ],
          "choropleth": [
           {
            "colorbar": {
             "outlinewidth": 0,
             "ticks": ""
            },
            "type": "choropleth"
           }
          ],
          "contour": [
           {
            "colorbar": {
             "outlinewidth": 0,
             "ticks": ""
            },
            "colorscale": [
             [
              0,
              "#0d0887"
             ],
             [
              0.1111111111111111,
              "#46039f"
             ],
             [
              0.2222222222222222,
              "#7201a8"
             ],
             [
              0.3333333333333333,
              "#9c179e"
             ],
             [
              0.4444444444444444,
              "#bd3786"
             ],
             [
              0.5555555555555556,
              "#d8576b"
             ],
             [
              0.6666666666666666,
              "#ed7953"
             ],
             [
              0.7777777777777778,
              "#fb9f3a"
             ],
             [
              0.8888888888888888,
              "#fdca26"
             ],
             [
              1,
              "#f0f921"
             ]
            ],
            "type": "contour"
           }
          ],
          "contourcarpet": [
           {
            "colorbar": {
             "outlinewidth": 0,
             "ticks": ""
            },
            "type": "contourcarpet"
           }
          ],
          "heatmap": [
           {
            "colorbar": {
             "outlinewidth": 0,
             "ticks": ""
            },
            "colorscale": [
             [
              0,
              "#0d0887"
             ],
             [
              0.1111111111111111,
              "#46039f"
             ],
             [
              0.2222222222222222,
              "#7201a8"
             ],
             [
              0.3333333333333333,
              "#9c179e"
             ],
             [
              0.4444444444444444,
              "#bd3786"
             ],
             [
              0.5555555555555556,
              "#d8576b"
             ],
             [
              0.6666666666666666,
              "#ed7953"
             ],
             [
              0.7777777777777778,
              "#fb9f3a"
             ],
             [
              0.8888888888888888,
              "#fdca26"
             ],
             [
              1,
              "#f0f921"
             ]
            ],
            "type": "heatmap"
           }
          ],
          "heatmapgl": [
           {
            "colorbar": {
             "outlinewidth": 0,
             "ticks": ""
            },
            "colorscale": [
             [
              0,
              "#0d0887"
             ],
             [
              0.1111111111111111,
              "#46039f"
             ],
             [
              0.2222222222222222,
              "#7201a8"
             ],
             [
              0.3333333333333333,
              "#9c179e"
             ],
             [
              0.4444444444444444,
              "#bd3786"
             ],
             [
              0.5555555555555556,
              "#d8576b"
             ],
             [
              0.6666666666666666,
              "#ed7953"
             ],
             [
              0.7777777777777778,
              "#fb9f3a"
             ],
             [
              0.8888888888888888,
              "#fdca26"
             ],
             [
              1,
              "#f0f921"
             ]
            ],
            "type": "heatmapgl"
           }
          ],
          "histogram": [
           {
            "marker": {
             "pattern": {
              "fillmode": "overlay",
              "size": 10,
              "solidity": 0.2
             }
            },
            "type": "histogram"
           }
          ],
          "histogram2d": [
           {
            "colorbar": {
             "outlinewidth": 0,
             "ticks": ""
            },
            "colorscale": [
             [
              0,
              "#0d0887"
             ],
             [
              0.1111111111111111,
              "#46039f"
             ],
             [
              0.2222222222222222,
              "#7201a8"
             ],
             [
              0.3333333333333333,
              "#9c179e"
             ],
             [
              0.4444444444444444,
              "#bd3786"
             ],
             [
              0.5555555555555556,
              "#d8576b"
             ],
             [
              0.6666666666666666,
              "#ed7953"
             ],
             [
              0.7777777777777778,
              "#fb9f3a"
             ],
             [
              0.8888888888888888,
              "#fdca26"
             ],
             [
              1,
              "#f0f921"
             ]
            ],
            "type": "histogram2d"
           }
          ],
          "histogram2dcontour": [
           {
            "colorbar": {
             "outlinewidth": 0,
             "ticks": ""
            },
            "colorscale": [
             [
              0,
              "#0d0887"
             ],
             [
              0.1111111111111111,
              "#46039f"
             ],
             [
              0.2222222222222222,
              "#7201a8"
             ],
             [
              0.3333333333333333,
              "#9c179e"
             ],
             [
              0.4444444444444444,
              "#bd3786"
             ],
             [
              0.5555555555555556,
              "#d8576b"
             ],
             [
              0.6666666666666666,
              "#ed7953"
             ],
             [
              0.7777777777777778,
              "#fb9f3a"
             ],
             [
              0.8888888888888888,
              "#fdca26"
             ],
             [
              1,
              "#f0f921"
             ]
            ],
            "type": "histogram2dcontour"
           }
          ],
          "mesh3d": [
           {
            "colorbar": {
             "outlinewidth": 0,
             "ticks": ""
            },
            "type": "mesh3d"
           }
          ],
          "parcoords": [
           {
            "line": {
             "colorbar": {
              "outlinewidth": 0,
              "ticks": ""
             }
            },
            "type": "parcoords"
           }
          ],
          "pie": [
           {
            "automargin": true,
            "type": "pie"
           }
          ],
          "scatter": [
           {
            "fillpattern": {
             "fillmode": "overlay",
             "size": 10,
             "solidity": 0.2
            },
            "type": "scatter"
           }
          ],
          "scatter3d": [
           {
            "line": {
             "colorbar": {
              "outlinewidth": 0,
              "ticks": ""
             }
            },
            "marker": {
             "colorbar": {
              "outlinewidth": 0,
              "ticks": ""
             }
            },
            "type": "scatter3d"
           }
          ],
          "scattercarpet": [
           {
            "marker": {
             "colorbar": {
              "outlinewidth": 0,
              "ticks": ""
             }
            },
            "type": "scattercarpet"
           }
          ],
          "scattergeo": [
           {
            "marker": {
             "colorbar": {
              "outlinewidth": 0,
              "ticks": ""
             }
            },
            "type": "scattergeo"
           }
          ],
          "scattergl": [
           {
            "marker": {
             "colorbar": {
              "outlinewidth": 0,
              "ticks": ""
             }
            },
            "type": "scattergl"
           }
          ],
          "scattermapbox": [
           {
            "marker": {
             "colorbar": {
              "outlinewidth": 0,
              "ticks": ""
             }
            },
            "type": "scattermapbox"
           }
          ],
          "scatterpolar": [
           {
            "marker": {
             "colorbar": {
              "outlinewidth": 0,
              "ticks": ""
             }
            },
            "type": "scatterpolar"
           }
          ],
          "scatterpolargl": [
           {
            "marker": {
             "colorbar": {
              "outlinewidth": 0,
              "ticks": ""
             }
            },
            "type": "scatterpolargl"
           }
          ],
          "scatterternary": [
           {
            "marker": {
             "colorbar": {
              "outlinewidth": 0,
              "ticks": ""
             }
            },
            "type": "scatterternary"
           }
          ],
          "surface": [
           {
            "colorbar": {
             "outlinewidth": 0,
             "ticks": ""
            },
            "colorscale": [
             [
              0,
              "#0d0887"
             ],
             [
              0.1111111111111111,
              "#46039f"
             ],
             [
              0.2222222222222222,
              "#7201a8"
             ],
             [
              0.3333333333333333,
              "#9c179e"
             ],
             [
              0.4444444444444444,
              "#bd3786"
             ],
             [
              0.5555555555555556,
              "#d8576b"
             ],
             [
              0.6666666666666666,
              "#ed7953"
             ],
             [
              0.7777777777777778,
              "#fb9f3a"
             ],
             [
              0.8888888888888888,
              "#fdca26"
             ],
             [
              1,
              "#f0f921"
             ]
            ],
            "type": "surface"
           }
          ],
          "table": [
           {
            "cells": {
             "fill": {
              "color": "#EBF0F8"
             },
             "line": {
              "color": "white"
             }
            },
            "header": {
             "fill": {
              "color": "#C8D4E3"
             },
             "line": {
              "color": "white"
             }
            },
            "type": "table"
           }
          ]
         },
         "layout": {
          "annotationdefaults": {
           "arrowcolor": "#2a3f5f",
           "arrowhead": 0,
           "arrowwidth": 1
          },
          "autotypenumbers": "strict",
          "coloraxis": {
           "colorbar": {
            "outlinewidth": 0,
            "ticks": ""
           }
          },
          "colorscale": {
           "diverging": [
            [
             0,
             "#8e0152"
            ],
            [
             0.1,
             "#c51b7d"
            ],
            [
             0.2,
             "#de77ae"
            ],
            [
             0.3,
             "#f1b6da"
            ],
            [
             0.4,
             "#fde0ef"
            ],
            [
             0.5,
             "#f7f7f7"
            ],
            [
             0.6,
             "#e6f5d0"
            ],
            [
             0.7,
             "#b8e186"
            ],
            [
             0.8,
             "#7fbc41"
            ],
            [
             0.9,
             "#4d9221"
            ],
            [
             1,
             "#276419"
            ]
           ],
           "sequential": [
            [
             0,
             "#0d0887"
            ],
            [
             0.1111111111111111,
             "#46039f"
            ],
            [
             0.2222222222222222,
             "#7201a8"
            ],
            [
             0.3333333333333333,
             "#9c179e"
            ],
            [
             0.4444444444444444,
             "#bd3786"
            ],
            [
             0.5555555555555556,
             "#d8576b"
            ],
            [
             0.6666666666666666,
             "#ed7953"
            ],
            [
             0.7777777777777778,
             "#fb9f3a"
            ],
            [
             0.8888888888888888,
             "#fdca26"
            ],
            [
             1,
             "#f0f921"
            ]
           ],
           "sequentialminus": [
            [
             0,
             "#0d0887"
            ],
            [
             0.1111111111111111,
             "#46039f"
            ],
            [
             0.2222222222222222,
             "#7201a8"
            ],
            [
             0.3333333333333333,
             "#9c179e"
            ],
            [
             0.4444444444444444,
             "#bd3786"
            ],
            [
             0.5555555555555556,
             "#d8576b"
            ],
            [
             0.6666666666666666,
             "#ed7953"
            ],
            [
             0.7777777777777778,
             "#fb9f3a"
            ],
            [
             0.8888888888888888,
             "#fdca26"
            ],
            [
             1,
             "#f0f921"
            ]
           ]
          },
          "colorway": [
           "#636efa",
           "#EF553B",
           "#00cc96",
           "#ab63fa",
           "#FFA15A",
           "#19d3f3",
           "#FF6692",
           "#B6E880",
           "#FF97FF",
           "#FECB52"
          ],
          "font": {
           "color": "#2a3f5f"
          },
          "geo": {
           "bgcolor": "white",
           "lakecolor": "white",
           "landcolor": "#E5ECF6",
           "showlakes": true,
           "showland": true,
           "subunitcolor": "white"
          },
          "hoverlabel": {
           "align": "left"
          },
          "hovermode": "closest",
          "mapbox": {
           "style": "light"
          },
          "paper_bgcolor": "white",
          "plot_bgcolor": "#E5ECF6",
          "polar": {
           "angularaxis": {
            "gridcolor": "white",
            "linecolor": "white",
            "ticks": ""
           },
           "bgcolor": "#E5ECF6",
           "radialaxis": {
            "gridcolor": "white",
            "linecolor": "white",
            "ticks": ""
           }
          },
          "scene": {
           "xaxis": {
            "backgroundcolor": "#E5ECF6",
            "gridcolor": "white",
            "gridwidth": 2,
            "linecolor": "white",
            "showbackground": true,
            "ticks": "",
            "zerolinecolor": "white"
           },
           "yaxis": {
            "backgroundcolor": "#E5ECF6",
            "gridcolor": "white",
            "gridwidth": 2,
            "linecolor": "white",
            "showbackground": true,
            "ticks": "",
            "zerolinecolor": "white"
           },
           "zaxis": {
            "backgroundcolor": "#E5ECF6",
            "gridcolor": "white",
            "gridwidth": 2,
            "linecolor": "white",
            "showbackground": true,
            "ticks": "",
            "zerolinecolor": "white"
           }
          },
          "shapedefaults": {
           "line": {
            "color": "#2a3f5f"
           }
          },
          "ternary": {
           "aaxis": {
            "gridcolor": "white",
            "linecolor": "white",
            "ticks": ""
           },
           "baxis": {
            "gridcolor": "white",
            "linecolor": "white",
            "ticks": ""
           },
           "bgcolor": "#E5ECF6",
           "caxis": {
            "gridcolor": "white",
            "linecolor": "white",
            "ticks": ""
           }
          },
          "title": {
           "x": 0.05
          },
          "xaxis": {
           "automargin": true,
           "gridcolor": "white",
           "linecolor": "white",
           "ticks": "",
           "title": {
            "standoff": 15
           },
           "zerolinecolor": "white",
           "zerolinewidth": 2
          },
          "yaxis": {
           "automargin": true,
           "gridcolor": "white",
           "linecolor": "white",
           "ticks": "",
           "title": {
            "standoff": 15
           },
           "zerolinecolor": "white",
           "zerolinewidth": 2
          }
         }
        },
        "title": {
         "text": "h-index of CS Professors at the University of Michigan"
        },
        "xaxis": {
         "anchor": "y",
         "domain": [
          0,
          1
         ],
         "title": {
          "text": "name"
         }
        },
        "yaxis": {
         "anchor": "x",
         "domain": [
          0,
          1
         ],
         "title": {
          "text": "h-index"
         }
        }
       }
      },
      "text/html": [
       "<div>                            <div id=\"6631af2e-04ab-4246-89ce-8db38298e600\" class=\"plotly-graph-div\" style=\"height:525px; width:100%;\"></div>            <script type=\"text/javascript\">                require([\"plotly\"], function(Plotly) {                    window.PLOTLYENV=window.PLOTLYENV || {};                                    if (document.getElementById(\"6631af2e-04ab-4246-89ce-8db38298e600\")) {                    Plotly.newPlot(                        \"6631af2e-04ab-4246-89ce-8db38298e600\",                        [{\"hovertemplate\":\"name=%{x}<br>h-index=%{y}<extra></extra>\",\"legendgroup\":\"\",\"marker\":{\"color\":\"#636efa\",\"symbol\":\"circle\"},\"mode\":\"markers\",\"name\":\"\",\"orientation\":\"v\",\"showlegend\":false,\"x\":[\"Mark S. Ackerman\",\"Michael Nebeling\",\"Thatchaphol Saranurak\",\"John E. Laird\",\"Daniel E. Atkins\",\"David Jurgens\",\"Eric E. Gilbert\",\"David E. Kieras\",\"Tawanna Dillahunt\",\"Euiwoong Lee\",\"Nikhil Bansal\",\"Anhong Guo\",\"Satish Narayanasamy\",\"Ronald Dreslinski Jr.\",\"Cyrus Omar\",\"Ceren Budak\",\"Joyce Chai\",\"Greg Bodwin\",\"Clayton D. Scott\",\"Dmitry Berenson\",\"Michal Derezinski\",\"Jeffrey A. Fessler\",\"Todd M. Austin\",\"Laura Balzano\",\"Roya Ensafi\",\"Mosharaf Chowdhury\",\"Xinyu Wang\",\"Lu Wang\",\"Thomas F. Wenisch\",\"Yatin A. Manerkar\",\"Lingjia Tang\",\"Rada Flavia Mihalcea\",\"David Blaauw\",\"Harsha V. Madhyastha\",\"Chad Jenkins\",\"Hun-Seok Kim\",\"Westley Weimer\",\"Kevin Fu\",\"Atul Prakash\",\"David F. Fouhey\",\"Chris Peikert\",\"Nikola Banovic\",\"Xu Wang\",\"Valeria Bertacco\",\"Trevor N. Mudge\",\"Kang G. Shin\",\"Florian Schaub\",\"Reetu Das\",\"Emily Mower\",\"Scott A. Mahlke\",\"Zeeshan Syed\",\"Manos Kapritsos\",\"Jason Mars\",\"Martin J. Strauss\",\"Grant Robert Schoenebeck\",\"Quentin F. Stout\",\"Pinaki Mazumder\",\"Peter M. Chen\",\"Seth Pettie\",\"Eytan Adar\",\"Barzan Mozafari\",\"St\\u00e9phane Lafortune\",\"Mark Guzdial\",\"Satinder P. Singh\",\"Michael P. Wellman\",\"Danai Koutra\",\"Andrew Owens\",\"Stephen Oney\",\"Mark W. Newman\",\"Daniel Genkin\",\"Daniel M. Romero\",\"Igor L. Markov\",\"H. V. Jagadish\",\"Benjamin Kuipers\",\"Karem A. Sakallah\",\"Vineet R. Kamat\",\"Robert P. Dick\",\"John P. Hayes\",\"Qing Qu\",\"Viswanath Nagarajan\",\"Alanson P. Sample\",\"J. Alex Halderman\",\"Mingyan Liu\",\"Ambuj Tewari\",\"Mahdi Cheraghchi\",\"Brian D. Noble\",\"Baris Kasikci\",\"Jean-Baptiste Jeannin\",\"Kevyn Collins-Thompson\",\"Qiaozhu Mei\",\"Robert D. Gregg\",\"XuanLong Nguyen\"],\"xaxis\":\"x\",\"y\":[2.0,7.0,8.0,10.0,11.0,11.0,13.0,13.0,13.0,13.0,14.0,14.0,16.0,16.0,17.0,17.0,18.0,18.0,19.0,19.0,19.0,21.0,21.0,22.0,22.0,24.0,24.0,24.0,26.0,28.0,28.0,29.0,30.0,30.0,30.0,31.0,31.0,31.0,32.0,32.0,32.0,32.0,33.0,34.0,34.0,34.0,35.0,35.0,37.0,37.0,37.0,38.0,39.0,41.0,42.0,42.0,43.0,43.0,43.0,45.0,45.0,46.0,46.0,47.0,49.0,49.0,50.0,50.0,50.0,51.0,52.0,53.0,53.0,54.0,54.0,58.0,58.0,59.0,59.0,60.0,67.0,68.0,70.0,70.0,78.0,80.0,80.0,98.0,98.0,114.0,null,null],\"yaxis\":\"y\",\"type\":\"scatter\"}],                        {\"template\":{\"data\":{\"histogram2dcontour\":[{\"type\":\"histogram2dcontour\",\"colorbar\":{\"outlinewidth\":0,\"ticks\":\"\"},\"colorscale\":[[0.0,\"#0d0887\"],[0.1111111111111111,\"#46039f\"],[0.2222222222222222,\"#7201a8\"],[0.3333333333333333,\"#9c179e\"],[0.4444444444444444,\"#bd3786\"],[0.5555555555555556,\"#d8576b\"],[0.6666666666666666,\"#ed7953\"],[0.7777777777777778,\"#fb9f3a\"],[0.8888888888888888,\"#fdca26\"],[1.0,\"#f0f921\"]]}],\"choropleth\":[{\"type\":\"choropleth\",\"colorbar\":{\"outlinewidth\":0,\"ticks\":\"\"}}],\"histogram2d\":[{\"type\":\"histogram2d\",\"colorbar\":{\"outlinewidth\":0,\"ticks\":\"\"},\"colorscale\":[[0.0,\"#0d0887\"],[0.1111111111111111,\"#46039f\"],[0.2222222222222222,\"#7201a8\"],[0.3333333333333333,\"#9c179e\"],[0.4444444444444444,\"#bd3786\"],[0.5555555555555556,\"#d8576b\"],[0.6666666666666666,\"#ed7953\"],[0.7777777777777778,\"#fb9f3a\"],[0.8888888888888888,\"#fdca26\"],[1.0,\"#f0f921\"]]}],\"heatmap\":[{\"type\":\"heatmap\",\"colorbar\":{\"outlinewidth\":0,\"ticks\":\"\"},\"colorscale\":[[0.0,\"#0d0887\"],[0.1111111111111111,\"#46039f\"],[0.2222222222222222,\"#7201a8\"],[0.3333333333333333,\"#9c179e\"],[0.4444444444444444,\"#bd3786\"],[0.5555555555555556,\"#d8576b\"],[0.6666666666666666,\"#ed7953\"],[0.7777777777777778,\"#fb9f3a\"],[0.8888888888888888,\"#fdca26\"],[1.0,\"#f0f921\"]]}],\"heatmapgl\":[{\"type\":\"heatmapgl\",\"colorbar\":{\"outlinewidth\":0,\"ticks\":\"\"},\"colorscale\":[[0.0,\"#0d0887\"],[0.1111111111111111,\"#46039f\"],[0.2222222222222222,\"#7201a8\"],[0.3333333333333333,\"#9c179e\"],[0.4444444444444444,\"#bd3786\"],[0.5555555555555556,\"#d8576b\"],[0.6666666666666666,\"#ed7953\"],[0.7777777777777778,\"#fb9f3a\"],[0.8888888888888888,\"#fdca26\"],[1.0,\"#f0f921\"]]}],\"contourcarpet\":[{\"type\":\"contourcarpet\",\"colorbar\":{\"outlinewidth\":0,\"ticks\":\"\"}}],\"contour\":[{\"type\":\"contour\",\"colorbar\":{\"outlinewidth\":0,\"ticks\":\"\"},\"colorscale\":[[0.0,\"#0d0887\"],[0.1111111111111111,\"#46039f\"],[0.2222222222222222,\"#7201a8\"],[0.3333333333333333,\"#9c179e\"],[0.4444444444444444,\"#bd3786\"],[0.5555555555555556,\"#d8576b\"],[0.6666666666666666,\"#ed7953\"],[0.7777777777777778,\"#fb9f3a\"],[0.8888888888888888,\"#fdca26\"],[1.0,\"#f0f921\"]]}],\"surface\":[{\"type\":\"surface\",\"colorbar\":{\"outlinewidth\":0,\"ticks\":\"\"},\"colorscale\":[[0.0,\"#0d0887\"],[0.1111111111111111,\"#46039f\"],[0.2222222222222222,\"#7201a8\"],[0.3333333333333333,\"#9c179e\"],[0.4444444444444444,\"#bd3786\"],[0.5555555555555556,\"#d8576b\"],[0.6666666666666666,\"#ed7953\"],[0.7777777777777778,\"#fb9f3a\"],[0.8888888888888888,\"#fdca26\"],[1.0,\"#f0f921\"]]}],\"mesh3d\":[{\"type\":\"mesh3d\",\"colorbar\":{\"outlinewidth\":0,\"ticks\":\"\"}}],\"scatter\":[{\"fillpattern\":{\"fillmode\":\"overlay\",\"size\":10,\"solidity\":0.2},\"type\":\"scatter\"}],\"parcoords\":[{\"type\":\"parcoords\",\"line\":{\"colorbar\":{\"outlinewidth\":0,\"ticks\":\"\"}}}],\"scatterpolargl\":[{\"type\":\"scatterpolargl\",\"marker\":{\"colorbar\":{\"outlinewidth\":0,\"ticks\":\"\"}}}],\"bar\":[{\"error_x\":{\"color\":\"#2a3f5f\"},\"error_y\":{\"color\":\"#2a3f5f\"},\"marker\":{\"line\":{\"color\":\"#E5ECF6\",\"width\":0.5},\"pattern\":{\"fillmode\":\"overlay\",\"size\":10,\"solidity\":0.2}},\"type\":\"bar\"}],\"scattergeo\":[{\"type\":\"scattergeo\",\"marker\":{\"colorbar\":{\"outlinewidth\":0,\"ticks\":\"\"}}}],\"scatterpolar\":[{\"type\":\"scatterpolar\",\"marker\":{\"colorbar\":{\"outlinewidth\":0,\"ticks\":\"\"}}}],\"histogram\":[{\"marker\":{\"pattern\":{\"fillmode\":\"overlay\",\"size\":10,\"solidity\":0.2}},\"type\":\"histogram\"}],\"scattergl\":[{\"type\":\"scattergl\",\"marker\":{\"colorbar\":{\"outlinewidth\":0,\"ticks\":\"\"}}}],\"scatter3d\":[{\"type\":\"scatter3d\",\"line\":{\"colorbar\":{\"outlinewidth\":0,\"ticks\":\"\"}},\"marker\":{\"colorbar\":{\"outlinewidth\":0,\"ticks\":\"\"}}}],\"scattermapbox\":[{\"type\":\"scattermapbox\",\"marker\":{\"colorbar\":{\"outlinewidth\":0,\"ticks\":\"\"}}}],\"scatterternary\":[{\"type\":\"scatterternary\",\"marker\":{\"colorbar\":{\"outlinewidth\":0,\"ticks\":\"\"}}}],\"scattercarpet\":[{\"type\":\"scattercarpet\",\"marker\":{\"colorbar\":{\"outlinewidth\":0,\"ticks\":\"\"}}}],\"carpet\":[{\"aaxis\":{\"endlinecolor\":\"#2a3f5f\",\"gridcolor\":\"white\",\"linecolor\":\"white\",\"minorgridcolor\":\"white\",\"startlinecolor\":\"#2a3f5f\"},\"baxis\":{\"endlinecolor\":\"#2a3f5f\",\"gridcolor\":\"white\",\"linecolor\":\"white\",\"minorgridcolor\":\"white\",\"startlinecolor\":\"#2a3f5f\"},\"type\":\"carpet\"}],\"table\":[{\"cells\":{\"fill\":{\"color\":\"#EBF0F8\"},\"line\":{\"color\":\"white\"}},\"header\":{\"fill\":{\"color\":\"#C8D4E3\"},\"line\":{\"color\":\"white\"}},\"type\":\"table\"}],\"barpolar\":[{\"marker\":{\"line\":{\"color\":\"#E5ECF6\",\"width\":0.5},\"pattern\":{\"fillmode\":\"overlay\",\"size\":10,\"solidity\":0.2}},\"type\":\"barpolar\"}],\"pie\":[{\"automargin\":true,\"type\":\"pie\"}]},\"layout\":{\"autotypenumbers\":\"strict\",\"colorway\":[\"#636efa\",\"#EF553B\",\"#00cc96\",\"#ab63fa\",\"#FFA15A\",\"#19d3f3\",\"#FF6692\",\"#B6E880\",\"#FF97FF\",\"#FECB52\"],\"font\":{\"color\":\"#2a3f5f\"},\"hovermode\":\"closest\",\"hoverlabel\":{\"align\":\"left\"},\"paper_bgcolor\":\"white\",\"plot_bgcolor\":\"#E5ECF6\",\"polar\":{\"bgcolor\":\"#E5ECF6\",\"angularaxis\":{\"gridcolor\":\"white\",\"linecolor\":\"white\",\"ticks\":\"\"},\"radialaxis\":{\"gridcolor\":\"white\",\"linecolor\":\"white\",\"ticks\":\"\"}},\"ternary\":{\"bgcolor\":\"#E5ECF6\",\"aaxis\":{\"gridcolor\":\"white\",\"linecolor\":\"white\",\"ticks\":\"\"},\"baxis\":{\"gridcolor\":\"white\",\"linecolor\":\"white\",\"ticks\":\"\"},\"caxis\":{\"gridcolor\":\"white\",\"linecolor\":\"white\",\"ticks\":\"\"}},\"coloraxis\":{\"colorbar\":{\"outlinewidth\":0,\"ticks\":\"\"}},\"colorscale\":{\"sequential\":[[0.0,\"#0d0887\"],[0.1111111111111111,\"#46039f\"],[0.2222222222222222,\"#7201a8\"],[0.3333333333333333,\"#9c179e\"],[0.4444444444444444,\"#bd3786\"],[0.5555555555555556,\"#d8576b\"],[0.6666666666666666,\"#ed7953\"],[0.7777777777777778,\"#fb9f3a\"],[0.8888888888888888,\"#fdca26\"],[1.0,\"#f0f921\"]],\"sequentialminus\":[[0.0,\"#0d0887\"],[0.1111111111111111,\"#46039f\"],[0.2222222222222222,\"#7201a8\"],[0.3333333333333333,\"#9c179e\"],[0.4444444444444444,\"#bd3786\"],[0.5555555555555556,\"#d8576b\"],[0.6666666666666666,\"#ed7953\"],[0.7777777777777778,\"#fb9f3a\"],[0.8888888888888888,\"#fdca26\"],[1.0,\"#f0f921\"]],\"diverging\":[[0,\"#8e0152\"],[0.1,\"#c51b7d\"],[0.2,\"#de77ae\"],[0.3,\"#f1b6da\"],[0.4,\"#fde0ef\"],[0.5,\"#f7f7f7\"],[0.6,\"#e6f5d0\"],[0.7,\"#b8e186\"],[0.8,\"#7fbc41\"],[0.9,\"#4d9221\"],[1,\"#276419\"]]},\"xaxis\":{\"gridcolor\":\"white\",\"linecolor\":\"white\",\"ticks\":\"\",\"title\":{\"standoff\":15},\"zerolinecolor\":\"white\",\"automargin\":true,\"zerolinewidth\":2},\"yaxis\":{\"gridcolor\":\"white\",\"linecolor\":\"white\",\"ticks\":\"\",\"title\":{\"standoff\":15},\"zerolinecolor\":\"white\",\"automargin\":true,\"zerolinewidth\":2},\"scene\":{\"xaxis\":{\"backgroundcolor\":\"#E5ECF6\",\"gridcolor\":\"white\",\"linecolor\":\"white\",\"showbackground\":true,\"ticks\":\"\",\"zerolinecolor\":\"white\",\"gridwidth\":2},\"yaxis\":{\"backgroundcolor\":\"#E5ECF6\",\"gridcolor\":\"white\",\"linecolor\":\"white\",\"showbackground\":true,\"ticks\":\"\",\"zerolinecolor\":\"white\",\"gridwidth\":2},\"zaxis\":{\"backgroundcolor\":\"#E5ECF6\",\"gridcolor\":\"white\",\"linecolor\":\"white\",\"showbackground\":true,\"ticks\":\"\",\"zerolinecolor\":\"white\",\"gridwidth\":2}},\"shapedefaults\":{\"line\":{\"color\":\"#2a3f5f\"}},\"annotationdefaults\":{\"arrowcolor\":\"#2a3f5f\",\"arrowhead\":0,\"arrowwidth\":1},\"geo\":{\"bgcolor\":\"white\",\"landcolor\":\"#E5ECF6\",\"subunitcolor\":\"white\",\"showland\":true,\"showlakes\":true,\"lakecolor\":\"white\"},\"title\":{\"x\":0.05},\"mapbox\":{\"style\":\"light\"}}},\"xaxis\":{\"anchor\":\"y\",\"domain\":[0.0,1.0],\"title\":{\"text\":\"name\"}},\"yaxis\":{\"anchor\":\"x\",\"domain\":[0.0,1.0],\"title\":{\"text\":\"h-index\"}},\"legend\":{\"tracegroupgap\":0},\"title\":{\"text\":\"h-index of CS Professors at the University of Michigan\"}},                        {\"responsive\": true}                    ).then(function(){\n",
       "                            \n",
       "var gd = document.getElementById('6631af2e-04ab-4246-89ce-8db38298e600');\n",
       "var x = new MutationObserver(function (mutations, observer) {{\n",
       "        var display = window.getComputedStyle(gd).display;\n",
       "        if (!display || display === 'none') {{\n",
       "            console.log([gd, 'removed!']);\n",
       "            Plotly.purge(gd);\n",
       "            observer.disconnect();\n",
       "        }}\n",
       "}});\n",
       "\n",
       "// Listen for the removal of the full notebook cells\n",
       "var notebookContainer = gd.closest('#notebook-container');\n",
       "if (notebookContainer) {{\n",
       "    x.observe(notebookContainer, {childList: true});\n",
       "}}\n",
       "\n",
       "// Listen for the clearing of the current output cell\n",
       "var outputEl = gd.closest('.output');\n",
       "if (outputEl) {{\n",
       "    x.observe(outputEl, {childList: true});\n",
       "}}\n",
       "\n",
       "                        })                };                });            </script>        </div>"
      ]
     },
     "metadata": {},
     "output_type": "display_data"
    }
   ],
   "source": [
    "fig = px.scatter(x = names, y = h_indexes, labels = {'x':'name', 'y':'h-index'}, title = 'h-index of CS Professors at the University of Michigan')\n",
    "fig.show()"
   ]
  },
  {
   "cell_type": "code",
   "execution_count": null,
   "id": "157e83fc",
   "metadata": {},
   "outputs": [],
   "source": []
  }
 ],
 "metadata": {
  "kernelspec": {
   "display_name": "Python 3 (ipykernel)",
   "language": "python",
   "name": "python3"
  },
  "language_info": {
   "codemirror_mode": {
    "name": "ipython",
    "version": 3
   },
   "file_extension": ".py",
   "mimetype": "text/x-python",
   "name": "python",
   "nbconvert_exporter": "python",
   "pygments_lexer": "ipython3",
   "version": "3.9.12"
  }
 },
 "nbformat": 4,
 "nbformat_minor": 5
}
