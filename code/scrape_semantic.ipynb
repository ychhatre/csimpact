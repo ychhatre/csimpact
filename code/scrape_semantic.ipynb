{
 "cells": [
  {
   "cell_type": "code",
   "execution_count": null,
   "id": "577ea4ae",
   "metadata": {},
   "outputs": [],
   "source": [
    "from cmath import isnan\n",
    "import os\n",
    "from random import random\n",
    "import time\n",
    "from typing import Any\n",
    "import pandas as pd\n",
    "from selenium import webdriver\n",
    "from webdriver_manager.chrome import ChromeDriverManager\n",
    "from selenium.webdriver.common.keys import Keys\n",
    "from selenium.webdriver.common.by import By\n",
    "from selenium.common.exceptions import NoSuchElementException\n",
    "from csv import writer\n",
    "\n",
    "# read the data from a file\n",
    "data = pd.read_csv(os.getcwd().replace('code/old_test_code','') + \"/data/cleaned_prof_data_v4.csv\")\n",
    "\n",
    "# initialize web driver for selenium\n",
    "options = webdriver.ChromeOptions()\n",
    "options.add_argument('--disable-blink-features=AutomationControlled')\n",
    "driver = webdriver.Chrome(ChromeDriverManager().install(), options=options)\n",
    "driver.implicitly_wait(random() * 10)\n",
    "\n",
    "\n",
    "def findMaxCitations(web_elements: list):\n",
    "    indOfMax = 0\n",
    "    maxVal = 0\n",
    "    for i in range(len(web_elements)):\n",
    "        val = int(web_elements[i].text.split(\" - \")[2].split(\" \")[2])\n",
    "        if val > maxVal:\n",
    "            maxVal = val\n",
    "            indOfMax = i\n",
    "        else:\n",
    "            continue\n",
    "    return web_elements[indOfMax]\n",
    "\n",
    "\n",
    "# loop through and find all professors with wrong / no google scholar ID\n",
    "professors = []\n",
    "professorExists = True\n",
    "\n",
    "for i in range(14263, data.shape[0]):\n",
    "\n",
    "    # initialize values\n",
    "    scholar_id = data.iat[i, 3],\n",
    "    citations = data.iat[i, 4],\n",
    "    h_index = data.iat[i, 5]\n",
    "\n",
    "    if(data.iat[i, 3] == \"NOSCHOLARPAGE\" or data.iat[i, 3] == \"#NAME?\" or isnan(data.iat[i, 4]) or isnan(data.iat[i, 5])):\n",
    "        print(\"Name: \" + data.iat[i, 0] + \" | \" + \"University: \" +\n",
    "              data.iat[i, 1] + \" | \" + \"id: \" + data.iat[i, 3])\n",
    "\n",
    "        # launch URL\n",
    "        driver.get(\"https://dblp.org\")\n",
    "\n",
    "        # identify search box\n",
    "        box = driver.find_element(By.NAME, \"q\")\n",
    "\n",
    "        # enter search text\n",
    "        box.send_keys(data.iat[i, 0] + \" \" + data.iat[i, 1])\n",
    "\n",
    "        # make search\n",
    "        box.send_keys(Keys.ENTER)\n",
    "\n",
    "        # in the case that the author pops up as a recommended option\n",
    "        \n",
    "        # otherwise loop through all the divs and find the correct professor\n",
    "        elements_list = driver.find_element(\n",
    "        By.XPATH, \"//*[@id='gs_res_ccl_mid']/div[1]\").find_element(By.CLASS_NAME, \"gs_a\").find_elements(By.TAG_NAME, \"a\")\n",
    "        print(elements_list)\n",
    "        if elements_list: \n",
    "            for element in elements_list:  # looping through the number of professors in the link\n",
    "                try:\n",
    "                    element.find_element(By.TAG_NAME, \"b\")\n",
    "                    element.click()\n",
    "                    professorExists = True\n",
    "                    break\n",
    "                except NoSuchElementException:\n",
    "                    professorExists = False\n",
    "                    continue  # in the case that the element is not found\n",
    "            # give time for html / css / js to load\n",
    "            time.sleep(random() * 5)\n",
    "        else: \n",
    "            professorExists = False \n",
    "\n",
    "        # retrieve citation, h-index, and scholar_id for that prof\n",
    "        if professorExists:\n",
    "            scholar_id = driver.current_url.split(\"=\")[1].split(\"&\")[0]\n",
    "            citation = driver.find_element(\n",
    "                By.XPATH, \"//*[@id='gsc_rsb_st']/tbody/tr[1]/td[2]\").text\n",
    "            h_index = driver.find_element(\n",
    "                By.XPATH, \"//*[@id='gsc_rsb_st']/tbody/tr[2]/td[2]\").text\n",
    "            time.sleep(random() * 5)\n",
    "        else:\n",
    "            scholar_id = None\n",
    "            citation = None\n",
    "            h_index = None\n",
    "        print(\"scholar_id: \" + str(scholar_id) + \" h-index: \" +\n",
    "              str(h_index) + \" citations: \" + str(citation))\n",
    "        professors.append({\n",
    "            \"Name\": data.iat[i, 0],\n",
    "            \"affiliation\": data.iat[i, 1],\n",
    "            \"homepage\": data.iat[i, 2],\n",
    "            \"scholar-id\": scholar_id,\n",
    "            \"citations\": citation,\n",
    "            \"h-index\": h_index\n",
    "        })\n",
    "    else:\n",
    "        continue\n",
    "\n",
    "\n",
    "print(len(professors))\n",
    "df = pd.DataFrame(professors)\n",
    "df.to_csv(\"cleaned_prof_data_v5_35.csv\")"
   ]
  },
  {
   "cell_type": "code",
   "execution_count": 3,
   "id": "4f3c7ffa",
   "metadata": {},
   "outputs": [
    {
     "name": "stdout",
     "output_type": "stream",
     "text": [
      "\n"
     ]
    },
    {
     "name": "stderr",
     "output_type": "stream",
     "text": [
      "[WDM] - ====== WebDriver manager ======\n"
     ]
    },
    {
     "name": "stdout",
     "output_type": "stream",
     "text": [
      "2022-07-22 09:26:42,398 INFO ====== WebDriver manager ======\n"
     ]
    },
    {
     "name": "stderr",
     "output_type": "stream",
     "text": [
      "[WDM] - Current google-chrome version is 103.0.5060\n"
     ]
    },
    {
     "name": "stdout",
     "output_type": "stream",
     "text": [
      "2022-07-22 09:26:42,505 INFO Current google-chrome version is 103.0.5060\n"
     ]
    },
    {
     "name": "stderr",
     "output_type": "stream",
     "text": [
      "[WDM] - Get LATEST chromedriver version for 103.0.5060 google-chrome\n"
     ]
    },
    {
     "name": "stdout",
     "output_type": "stream",
     "text": [
      "2022-07-22 09:26:42,507 INFO Get LATEST chromedriver version for 103.0.5060 google-chrome\n"
     ]
    },
    {
     "name": "stderr",
     "output_type": "stream",
     "text": [
      "[WDM] - Driver [/Users/kevins/.wdm/drivers/chromedriver/mac64/103.0.5060.134/chromedriver] found in cache\n"
     ]
    },
    {
     "name": "stdout",
     "output_type": "stream",
     "text": [
      "2022-07-22 09:26:42,678 INFO Driver [/Users/kevins/.wdm/drivers/chromedriver/mac64/103.0.5060.134/chromedriver] found in cache\n"
     ]
    },
    {
     "name": "stderr",
     "output_type": "stream",
     "text": [
      "/var/folders/sw/rc481v691q5883ld6bm6jzq80000gn/T/ipykernel_5191/804084447.py:20: DeprecationWarning: executable_path has been deprecated, please pass in a Service object\n",
      "  driver = webdriver.Chrome(ChromeDriverManager().install(), options=options)\n"
     ]
    }
   ],
   "source": [
    "from cmath import isnan\n",
    "import os\n",
    "from random import random\n",
    "import time\n",
    "from typing import Any\n",
    "import pandas as pd\n",
    "from selenium import webdriver\n",
    "from webdriver_manager.chrome import ChromeDriverManager\n",
    "from selenium.webdriver.common.keys import Keys\n",
    "from selenium.webdriver.common.by import By\n",
    "from selenium.common.exceptions import NoSuchElementException\n",
    "from csv import writer\n",
    "\n",
    "# read the data from a file\n",
    "data = pd.read_csv(os.getcwd().replace('code','') + \"/data/cleaned_prof_data_v4.csv\")\n",
    "\n",
    "# initialize web driver for selenium\n",
    "options = webdriver.ChromeOptions()\n",
    "options.add_argument('--disable-blink-features=AutomationControlled')\n",
    "driver = webdriver.Chrome(ChromeDriverManager().install(), options=options)\n",
    "driver.implicitly_wait(random() * 10)\n",
    "\n"
   ]
  },
  {
   "cell_type": "code",
   "execution_count": 17,
   "id": "d83bad05",
   "metadata": {},
   "outputs": [],
   "source": [
    "driver.get(\"https://semanticscholar.org\")\n",
    "\n"
   ]
  },
  {
   "cell_type": "code",
   "execution_count": 18,
   "id": "854aaeec",
   "metadata": {},
   "outputs": [],
   "source": [
    "\n",
    "# identify search box\n",
    "box = driver.find_element(By.NAME, \"q\")\n",
    "\n",
    "# enter search text\n",
    "box.send_keys(\"Remzi H. Arpaci-Dusseau\")\n",
    "\n"
   ]
  },
  {
   "cell_type": "code",
   "execution_count": 19,
   "id": "3d078f63",
   "metadata": {},
   "outputs": [],
   "source": [
    "box.send_keys(Keys.ENTER)"
   ]
  },
  {
   "cell_type": "code",
   "execution_count": 20,
   "id": "cc0ee69b",
   "metadata": {},
   "outputs": [],
   "source": [
    "elements_list = driver.find_element(\n",
    "        By.XPATH, \"//*[@id='app']/div[1]/div[2]/div[1]/div[2]/div[1]/div[1]/ul[1]/li[1]\").find_elements(By.TAG_NAME, \"a\")\n",
    "(elements_list[0]).click()"
   ]
  },
  {
   "cell_type": "code",
   "execution_count": null,
   "id": "5199b4e4",
   "metadata": {},
   "outputs": [],
   "source": []
  }
 ],
 "metadata": {
  "kernelspec": {
   "display_name": "Python 3 (ipykernel)",
   "language": "python",
   "name": "python3"
  },
  "language_info": {
   "codemirror_mode": {
    "name": "ipython",
    "version": 3
   },
   "file_extension": ".py",
   "mimetype": "text/x-python",
   "name": "python",
   "nbconvert_exporter": "python",
   "pygments_lexer": "ipython3",
   "version": "3.9.12"
  }
 },
 "nbformat": 4,
 "nbformat_minor": 5
}
