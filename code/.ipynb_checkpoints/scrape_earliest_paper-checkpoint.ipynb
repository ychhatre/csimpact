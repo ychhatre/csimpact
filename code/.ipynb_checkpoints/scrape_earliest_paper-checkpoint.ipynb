{
 "cells": [
  {
   "cell_type": "code",
   "execution_count": 1,
   "id": "e429d781",
   "metadata": {},
   "outputs": [],
   "source": [
    "from selenium import webdriver\n",
    "import webbrowser\n",
    "from selenium.common.exceptions import ElementNotInteractableException\n",
    "from selenium.common.exceptions import NoSuchElementException\n",
    "from selenium.common.exceptions import StaleElementReferenceException\n",
    "from selenium.webdriver.common.by import By\n",
    "from selenium.webdriver.support.ui import WebDriverWait\n",
    "from selenium.webdriver.support import expected_conditions\n",
    "import time\n",
    "\n",
    "import pandas as pd\n",
    "from bs4 import BeautifulSoup\n",
    "import requests"
   ]
  },
  {
   "cell_type": "code",
   "execution_count": 2,
   "id": "325d194e",
   "metadata": {},
   "outputs": [],
   "source": [
    "#replace path\n",
    "data = pd.read_csv('/Users/kevins/Documents/CSImpact/data/cleaned_prof_data_v4.csv')\n",
    "\n",
    "\n",
    "#clean up data\n",
    "data = data.sort_values('name')\n",
    "data = data.reset_index(drop = True)\n",
    "data= data.drop(['Unnamed: 0'], axis = 1)"
   ]
  },
  {
   "cell_type": "code",
   "execution_count": null,
   "id": "69649f1d",
   "metadata": {},
   "outputs": [],
   "source": [
    "# Make sure you allow remote automation in \"develop\" tab\n",
    "#will create a new window, if not done running and popup comes up press \"continue\"\n",
    "driver = webdriver.Safari()"
   ]
  },
  {
   "cell_type": "code",
   "execution_count": null,
   "id": "9d8c3c3b",
   "metadata": {},
   "outputs": [],
   "source": [
    "earliest_paper_years = []\n",
    "total_rows = data.shape[0]\n",
    "#test_data = data.head(100)\n",
    "#total_test_rows = test_data.shape[0]\n",
    "\n",
    "for i in range(total_rows):\n",
    "    s_id = data.iloc[i,3]\n",
    "    if not pd.isna(data.iloc[i,4]):\n",
    "        html_text = requests.get(f'https://scholar.google.com/citations?hl=en&user={s_id}&view_op=list_works&sortby=pubdate').text\n",
    "        soup = BeautifulSoup(html_text, 'lxml')\n",
    "        values = soup.find_all('button', id = 'gsc_bpf_more')\n",
    "\n",
    "        driver.get(f'https://scholar.google.com/citations?hl=en&user={s_id}&view_op=list_works&sortby=pubdate')\n",
    "        text1 = driver.page_source\n",
    "        while True:\n",
    "            try:\n",
    "                button = driver.find_element_by_id('gsc_bpf_more')\n",
    "                time.sleep(0.75)\n",
    "                button.click()\n",
    "            except ElementNotInteractableException:\n",
    "                final_text = driver.page_source\n",
    "                break\n",
    "            except NoSuchElementException:\n",
    "                driver.get(f'https://scholar.google.com/citations?hl=en&user={s_id}&view_op=list_works&sortby=pubdate')\n",
    "                break\n",
    "            text2=driver.page_source\n",
    "            if text1 == text2:\n",
    "                final_text = text2\n",
    "                break\n",
    "            else:\n",
    "                text1 = text2\n",
    "\n",
    "        final_soup = BeautifulSoup(final_text, 'lxml')\n",
    "        years = final_soup.find_all('td', class_ = 'gsc_a_y')\n",
    "        years_text = []\n",
    "        for year in years:\n",
    "            years_text.append(year.text)\n",
    "\n",
    "        clean_years = [year_text for year_text in years_text if year_text != '']\n",
    "\n",
    "        min_y = int(clean_years[0])\n",
    "        for clean_y in clean_years:\n",
    "            if int(clean_y) < min_y:\n",
    "                min_y = int(clean_y)\n",
    "        earliest_paper_years.append(str(min_y))\n",
    "\n",
    "    else:\n",
    "        earliest_paper_years.append('')"
   ]
  },
  {
   "cell_type": "code",
   "execution_count": null,
   "id": "ecfe727d",
   "metadata": {},
   "outputs": [],
   "source": [
    "data['earliest_paper_year'] = earliest_paper_years\n",
    "data.to_csv('cleaned_prof_data_v5', index = False)"
   ]
  }
 ],
 "metadata": {
  "kernelspec": {
   "display_name": "Python 3 (ipykernel)",
   "language": "python",
   "name": "python3"
  },
  "language_info": {
   "codemirror_mode": {
    "name": "ipython",
    "version": 3
   },
   "file_extension": ".py",
   "mimetype": "text/x-python",
   "name": "python",
   "nbconvert_exporter": "python",
   "pygments_lexer": "ipython3",
   "version": "3.9.12"
  }
 },
 "nbformat": 4,
 "nbformat_minor": 5
}
