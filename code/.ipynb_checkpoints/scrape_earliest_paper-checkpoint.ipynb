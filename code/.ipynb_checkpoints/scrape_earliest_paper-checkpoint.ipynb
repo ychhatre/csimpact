{
 "cells": [
  {
   "cell_type": "code",
   "execution_count": 34,
   "id": "e429d781",
   "metadata": {},
   "outputs": [
    {
     "name": "stdout",
     "output_type": "stream",
     "text": [
      "\n"
     ]
    },
    {
     "name": "stderr",
     "output_type": "stream",
     "text": [
      "[WDM] - ====== WebDriver manager ======\n"
     ]
    },
    {
     "name": "stdout",
     "output_type": "stream",
     "text": [
      "2022-07-22 08:43:39,574 INFO ====== WebDriver manager ======\n"
     ]
    },
    {
     "name": "stderr",
     "output_type": "stream",
     "text": [
      "[WDM] - Current google-chrome version is 103.0.5060\n"
     ]
    },
    {
     "name": "stdout",
     "output_type": "stream",
     "text": [
      "2022-07-22 08:43:39,670 INFO Current google-chrome version is 103.0.5060\n"
     ]
    },
    {
     "name": "stderr",
     "output_type": "stream",
     "text": [
      "[WDM] - Get LATEST chromedriver version for 103.0.5060 google-chrome\n"
     ]
    },
    {
     "name": "stdout",
     "output_type": "stream",
     "text": [
      "2022-07-22 08:43:39,672 INFO Get LATEST chromedriver version for 103.0.5060 google-chrome\n"
     ]
    },
    {
     "name": "stderr",
     "output_type": "stream",
     "text": [
      "[WDM] - Driver [/Users/kevins/.wdm/drivers/chromedriver/mac64/103.0.5060.134/chromedriver] found in cache\n"
     ]
    },
    {
     "name": "stdout",
     "output_type": "stream",
     "text": [
      "2022-07-22 08:43:39,768 INFO Driver [/Users/kevins/.wdm/drivers/chromedriver/mac64/103.0.5060.134/chromedriver] found in cache\n"
     ]
    },
    {
     "name": "stderr",
     "output_type": "stream",
     "text": [
      "/var/folders/sw/rc481v691q5883ld6bm6jzq80000gn/T/ipykernel_1897/1031329116.py:36: DeprecationWarning: executable_path has been deprecated, please pass in a Service object\n",
      "  driver = webdriver.Chrome(ChromeDriverManager().install(), options=options)\n"
     ]
    },
    {
     "name": "stdout",
     "output_type": "stream",
     "text": [
      "9.20365363021599\n"
     ]
    }
   ],
   "source": [
    "from selenium import webdriver\n",
    "import webbrowser\n",
    "from selenium.common.exceptions import ElementNotInteractableException\n",
    "from selenium.common.exceptions import NoSuchElementException\n",
    "from selenium.common.exceptions import StaleElementReferenceException\n",
    "from selenium.webdriver.common.by import By\n",
    "from selenium.webdriver.support.ui import WebDriverWait\n",
    "from selenium.webdriver.support import expected_conditions\n",
    "from selenium import webdriver\n",
    "from selenium.webdriver.chrome.options import Options\n",
    "from fake_useragent import UserAgent\n",
    "import time\n",
    "\n",
    "import os\n",
    "\n",
    "import pandas as pd\n",
    "from bs4 import BeautifulSoup\n",
    "import requests\n",
    "\n",
    "from webdriver_manager.chrome import ChromeDriverManager\n",
    "\n",
    "from cmath import isnan\n",
    "import os\n",
    "from random import random\n",
    "import time\n",
    "from typing import Any\n",
    "import pandas as pd\n",
    "from selenium import webdriver\n",
    "from webdriver_manager.chrome import ChromeDriverManager\n",
    "from selenium.webdriver.common.keys import Keys\n",
    "from selenium.webdriver.common.by import By\n",
    "from selenium.common.exceptions import NoSuchElementException\n",
    "from csv import writer\n"
   ]
  },
  {
   "cell_type": "code",
   "execution_count": 3,
   "id": "17609a01",
   "metadata": {},
   "outputs": [],
   "source": [
    "import pandas as pd\n",
    "from bs4 import BeautifulSoup\n",
    "import requests\n",
    "import os"
   ]
  },
  {
   "cell_type": "code",
   "execution_count": 27,
   "id": "325d194e",
   "metadata": {},
   "outputs": [
    {
     "data": {
      "text/html": [
       "<div>\n",
       "<style scoped>\n",
       "    .dataframe tbody tr th:only-of-type {\n",
       "        vertical-align: middle;\n",
       "    }\n",
       "\n",
       "    .dataframe tbody tr th {\n",
       "        vertical-align: top;\n",
       "    }\n",
       "\n",
       "    .dataframe thead th {\n",
       "        text-align: right;\n",
       "    }\n",
       "</style>\n",
       "<table border=\"1\" class=\"dataframe\">\n",
       "  <thead>\n",
       "    <tr style=\"text-align: right;\">\n",
       "      <th></th>\n",
       "      <th>name</th>\n",
       "      <th>affiliation</th>\n",
       "      <th>homepage</th>\n",
       "      <th>scholar_id</th>\n",
       "      <th>citations</th>\n",
       "      <th>h-index</th>\n",
       "    </tr>\n",
       "  </thead>\n",
       "  <tbody>\n",
       "    <tr>\n",
       "      <th>0</th>\n",
       "      <td>P. Vassalos</td>\n",
       "      <td>AUEB</td>\n",
       "      <td>http://pubs.dbs.uni-leipzig.de/aa/aff/Greece/A...</td>\n",
       "      <td>NOSCHOLARPAGE</td>\n",
       "      <td>NaN</td>\n",
       "      <td>NaN</td>\n",
       "    </tr>\n",
       "    <tr>\n",
       "      <th>1</th>\n",
       "      <td>Dimitris Gritzalis</td>\n",
       "      <td>AUEB</td>\n",
       "      <td>https://www-1.aueb.gr/en/faculty/gritzalis-dim...</td>\n",
       "      <td>5hIalXgAAAAJ</td>\n",
       "      <td>16310.0</td>\n",
       "      <td>57.0</td>\n",
       "    </tr>\n",
       "    <tr>\n",
       "      <th>2</th>\n",
       "      <td>P. Katerinis</td>\n",
       "      <td>AUEB</td>\n",
       "      <td>http://www.aueb.gr/pages_en/graduate/masters.php</td>\n",
       "      <td>NOSCHOLARPAGE</td>\n",
       "      <td>NaN</td>\n",
       "      <td>NaN</td>\n",
       "    </tr>\n",
       "    <tr>\n",
       "      <th>3</th>\n",
       "      <td>George Xylomenos</td>\n",
       "      <td>AUEB</td>\n",
       "      <td>http://pages.cs.aueb.gr/~xgeorge</td>\n",
       "      <td>f7tP8gcAAAAJ</td>\n",
       "      <td>4807.0</td>\n",
       "      <td>24.0</td>\n",
       "    </tr>\n",
       "    <tr>\n",
       "      <th>4</th>\n",
       "      <td>George D. Stamoulis</td>\n",
       "      <td>AUEB</td>\n",
       "      <td>http://nes.aueb.gr/users/gs.html</td>\n",
       "      <td>5uRFCLsAAAAJ</td>\n",
       "      <td>1685.0</td>\n",
       "      <td>19.0</td>\n",
       "    </tr>\n",
       "    <tr>\n",
       "      <th>...</th>\n",
       "      <td>...</td>\n",
       "      <td>...</td>\n",
       "      <td>...</td>\n",
       "      <td>...</td>\n",
       "      <td>...</td>\n",
       "      <td>...</td>\n",
       "    </tr>\n",
       "    <tr>\n",
       "      <th>20644</th>\n",
       "      <td>Reyhan Aydogan</td>\n",
       "      <td>Özyeğin University</td>\n",
       "      <td>https://faculty.ozyegin.edu.tr/reyhanaydogan</td>\n",
       "      <td>sHL3j0kAAAAJ</td>\n",
       "      <td>859.0</td>\n",
       "      <td>17.0</td>\n",
       "    </tr>\n",
       "    <tr>\n",
       "      <th>20645</th>\n",
       "      <td>Kübra Kalkan</td>\n",
       "      <td>Özyeğin University</td>\n",
       "      <td>https://faculty.ozyegin.edu.tr/kubrakalkan</td>\n",
       "      <td>xE0INEMAAAAJ</td>\n",
       "      <td>748.0</td>\n",
       "      <td>11.0</td>\n",
       "    </tr>\n",
       "    <tr>\n",
       "      <th>20646</th>\n",
       "      <td>Hasan Sözer</td>\n",
       "      <td>Özyeğin University</td>\n",
       "      <td>https://faculty.ozyegin.edu.tr/hsozer</td>\n",
       "      <td>L3FuUX0AAAAJ</td>\n",
       "      <td>847.0</td>\n",
       "      <td>16.0</td>\n",
       "    </tr>\n",
       "    <tr>\n",
       "      <th>20647</th>\n",
       "      <td>Ismail Ari</td>\n",
       "      <td>Özyeğin University</td>\n",
       "      <td>https://faculty.ozyegin.edu.tr/ismailari</td>\n",
       "      <td>00tvX_4AAAAJ</td>\n",
       "      <td>1532.0</td>\n",
       "      <td>20.0</td>\n",
       "    </tr>\n",
       "    <tr>\n",
       "      <th>20648</th>\n",
       "      <td>Emre Sefer</td>\n",
       "      <td>Özyeğin University</td>\n",
       "      <td>http://www.emresefer.com</td>\n",
       "      <td>W5qWthcAAAAJ</td>\n",
       "      <td>253.0</td>\n",
       "      <td>10.0</td>\n",
       "    </tr>\n",
       "  </tbody>\n",
       "</table>\n",
       "<p>20649 rows × 6 columns</p>\n",
       "</div>"
      ],
      "text/plain": [
       "                      name         affiliation  \\\n",
       "0              P. Vassalos                AUEB   \n",
       "1       Dimitris Gritzalis                AUEB   \n",
       "2             P. Katerinis                AUEB   \n",
       "3         George Xylomenos                AUEB   \n",
       "4      George D. Stamoulis                AUEB   \n",
       "...                    ...                 ...   \n",
       "20644       Reyhan Aydogan  Özyeğin University   \n",
       "20645         Kübra Kalkan  Özyeğin University   \n",
       "20646          Hasan Sözer  Özyeğin University   \n",
       "20647           Ismail Ari  Özyeğin University   \n",
       "20648           Emre Sefer  Özyeğin University   \n",
       "\n",
       "                                                homepage     scholar_id  \\\n",
       "0      http://pubs.dbs.uni-leipzig.de/aa/aff/Greece/A...  NOSCHOLARPAGE   \n",
       "1      https://www-1.aueb.gr/en/faculty/gritzalis-dim...   5hIalXgAAAAJ   \n",
       "2       http://www.aueb.gr/pages_en/graduate/masters.php  NOSCHOLARPAGE   \n",
       "3                       http://pages.cs.aueb.gr/~xgeorge   f7tP8gcAAAAJ   \n",
       "4                       http://nes.aueb.gr/users/gs.html   5uRFCLsAAAAJ   \n",
       "...                                                  ...            ...   \n",
       "20644       https://faculty.ozyegin.edu.tr/reyhanaydogan   sHL3j0kAAAAJ   \n",
       "20645         https://faculty.ozyegin.edu.tr/kubrakalkan   xE0INEMAAAAJ   \n",
       "20646              https://faculty.ozyegin.edu.tr/hsozer   L3FuUX0AAAAJ   \n",
       "20647           https://faculty.ozyegin.edu.tr/ismailari   00tvX_4AAAAJ   \n",
       "20648                           http://www.emresefer.com   W5qWthcAAAAJ   \n",
       "\n",
       "       citations  h-index  \n",
       "0            NaN      NaN  \n",
       "1        16310.0     57.0  \n",
       "2            NaN      NaN  \n",
       "3         4807.0     24.0  \n",
       "4         1685.0     19.0  \n",
       "...          ...      ...  \n",
       "20644      859.0     17.0  \n",
       "20645      748.0     11.0  \n",
       "20646      847.0     16.0  \n",
       "20647     1532.0     20.0  \n",
       "20648      253.0     10.0  \n",
       "\n",
       "[20649 rows x 6 columns]"
      ]
     },
     "execution_count": 27,
     "metadata": {},
     "output_type": "execute_result"
    }
   ],
   "source": [
    "#replace path\n",
    "data = pd.read_csv(str(os.getcwd()).replace('code', '')+'/data/cleaned_prof_data_v4.csv')\n",
    "\n",
    "\n",
    "#clean up data\n",
    "data = data.sort_values('affiliation')\n",
    "data = data.reset_index(drop = True)\n",
    "data"
   ]
  },
  {
   "cell_type": "code",
   "execution_count": 39,
   "id": "a600c65c",
   "metadata": {},
   "outputs": [
    {
     "data": {
      "text/html": [
       "<div>\n",
       "<style scoped>\n",
       "    .dataframe tbody tr th:only-of-type {\n",
       "        vertical-align: middle;\n",
       "    }\n",
       "\n",
       "    .dataframe tbody tr th {\n",
       "        vertical-align: top;\n",
       "    }\n",
       "\n",
       "    .dataframe thead th {\n",
       "        text-align: right;\n",
       "    }\n",
       "</style>\n",
       "<table border=\"1\" class=\"dataframe\">\n",
       "  <thead>\n",
       "    <tr style=\"text-align: right;\">\n",
       "      <th></th>\n",
       "      <th>name</th>\n",
       "      <th>affiliation</th>\n",
       "      <th>homepage</th>\n",
       "      <th>scholar_id</th>\n",
       "      <th>citations</th>\n",
       "      <th>h-index</th>\n",
       "    </tr>\n",
       "  </thead>\n",
       "  <tbody>\n",
       "    <tr>\n",
       "      <th>0</th>\n",
       "      <td>P. Vassalos</td>\n",
       "      <td>AUEB</td>\n",
       "      <td>http://pubs.dbs.uni-leipzig.de/aa/aff/Greece/A...</td>\n",
       "      <td>NOSCHOLARPAGE</td>\n",
       "      <td>NaN</td>\n",
       "      <td>NaN</td>\n",
       "    </tr>\n",
       "    <tr>\n",
       "      <th>1</th>\n",
       "      <td>Dimitris Gritzalis</td>\n",
       "      <td>AUEB</td>\n",
       "      <td>https://www-1.aueb.gr/en/faculty/gritzalis-dim...</td>\n",
       "      <td>5hIalXgAAAAJ</td>\n",
       "      <td>16310.0</td>\n",
       "      <td>57.0</td>\n",
       "    </tr>\n",
       "    <tr>\n",
       "      <th>2</th>\n",
       "      <td>P. Katerinis</td>\n",
       "      <td>AUEB</td>\n",
       "      <td>http://www.aueb.gr/pages_en/graduate/masters.php</td>\n",
       "      <td>NOSCHOLARPAGE</td>\n",
       "      <td>NaN</td>\n",
       "      <td>NaN</td>\n",
       "    </tr>\n",
       "    <tr>\n",
       "      <th>3</th>\n",
       "      <td>George Xylomenos</td>\n",
       "      <td>AUEB</td>\n",
       "      <td>http://pages.cs.aueb.gr/~xgeorge</td>\n",
       "      <td>f7tP8gcAAAAJ</td>\n",
       "      <td>4807.0</td>\n",
       "      <td>24.0</td>\n",
       "    </tr>\n",
       "    <tr>\n",
       "      <th>4</th>\n",
       "      <td>George D. Stamoulis</td>\n",
       "      <td>AUEB</td>\n",
       "      <td>http://nes.aueb.gr/users/gs.html</td>\n",
       "      <td>5uRFCLsAAAAJ</td>\n",
       "      <td>1685.0</td>\n",
       "      <td>19.0</td>\n",
       "    </tr>\n",
       "    <tr>\n",
       "      <th>5</th>\n",
       "      <td>Giannis F. Marias</td>\n",
       "      <td>AUEB</td>\n",
       "      <td>http://www.scirp.org/journal/DetailedInforOfEd...</td>\n",
       "      <td>EO_hUg4AAAAJ</td>\n",
       "      <td>1218.0</td>\n",
       "      <td>21.0</td>\n",
       "    </tr>\n",
       "    <tr>\n",
       "      <th>6</th>\n",
       "      <td>George C. Polyzos</td>\n",
       "      <td>AUEB</td>\n",
       "      <td>http://niovi.aueb.gr/~gcp</td>\n",
       "      <td>y-Mxxa0AAAAJ</td>\n",
       "      <td>11622.0</td>\n",
       "      <td>46.0</td>\n",
       "    </tr>\n",
       "    <tr>\n",
       "      <th>7</th>\n",
       "      <td>Vana Kalogeraki</td>\n",
       "      <td>AUEB</td>\n",
       "      <td>http://www2.cs.aueb.gr/~vana</td>\n",
       "      <td>2lpWTDYAAAAJ</td>\n",
       "      <td>7739.0</td>\n",
       "      <td>38.0</td>\n",
       "    </tr>\n",
       "    <tr>\n",
       "      <th>8</th>\n",
       "      <td>Iordanis Koutsopoulos</td>\n",
       "      <td>AUEB</td>\n",
       "      <td>http://www.cs.aueb.gr/~jordan</td>\n",
       "      <td>Bq_GqyIAAAAJ</td>\n",
       "      <td>5338.0</td>\n",
       "      <td>32.0</td>\n",
       "    </tr>\n",
       "    <tr>\n",
       "      <th>9</th>\n",
       "      <td>T. Z. Kalamboukis</td>\n",
       "      <td>AUEB</td>\n",
       "      <td>https://uregister-ldap.aueb.gr/en/faculty/kala...</td>\n",
       "      <td>NOSCHOLARPAGE</td>\n",
       "      <td>NaN</td>\n",
       "      <td>NaN</td>\n",
       "    </tr>\n",
       "    <tr>\n",
       "      <th>10</th>\n",
       "      <td>Michalis Vazirgiannis</td>\n",
       "      <td>AUEB</td>\n",
       "      <td>http://www.db-net.aueb.gr/michalis</td>\n",
       "      <td>aWGJYcMAAAAJ</td>\n",
       "      <td>18477.0</td>\n",
       "      <td>54.0</td>\n",
       "    </tr>\n",
       "    <tr>\n",
       "      <th>11</th>\n",
       "      <td>Theodore K. Apostolopoulos</td>\n",
       "      <td>AUEB</td>\n",
       "      <td>http://ieeexplore.ieee.org/document/4114886</td>\n",
       "      <td>WTg8mXoAAAAJ</td>\n",
       "      <td>1091.0</td>\n",
       "      <td>16.0</td>\n",
       "    </tr>\n",
       "    <tr>\n",
       "      <th>12</th>\n",
       "      <td>Emmanouel A. Giakoumakis</td>\n",
       "      <td>AUEB</td>\n",
       "      <td>https://www-1.aueb.gr/en/content/new-rector-at...</td>\n",
       "      <td>NOSCHOLARPAGE</td>\n",
       "      <td>NaN</td>\n",
       "      <td>NaN</td>\n",
       "    </tr>\n",
       "  </tbody>\n",
       "</table>\n",
       "</div>"
      ],
      "text/plain": [
       "                          name affiliation  \\\n",
       "0                  P. Vassalos        AUEB   \n",
       "1           Dimitris Gritzalis        AUEB   \n",
       "2                 P. Katerinis        AUEB   \n",
       "3             George Xylomenos        AUEB   \n",
       "4          George D. Stamoulis        AUEB   \n",
       "5            Giannis F. Marias        AUEB   \n",
       "6            George C. Polyzos        AUEB   \n",
       "7              Vana Kalogeraki        AUEB   \n",
       "8        Iordanis Koutsopoulos        AUEB   \n",
       "9            T. Z. Kalamboukis        AUEB   \n",
       "10       Michalis Vazirgiannis        AUEB   \n",
       "11  Theodore K. Apostolopoulos        AUEB   \n",
       "12    Emmanouel A. Giakoumakis        AUEB   \n",
       "\n",
       "                                             homepage     scholar_id  \\\n",
       "0   http://pubs.dbs.uni-leipzig.de/aa/aff/Greece/A...  NOSCHOLARPAGE   \n",
       "1   https://www-1.aueb.gr/en/faculty/gritzalis-dim...   5hIalXgAAAAJ   \n",
       "2    http://www.aueb.gr/pages_en/graduate/masters.php  NOSCHOLARPAGE   \n",
       "3                    http://pages.cs.aueb.gr/~xgeorge   f7tP8gcAAAAJ   \n",
       "4                    http://nes.aueb.gr/users/gs.html   5uRFCLsAAAAJ   \n",
       "5   http://www.scirp.org/journal/DetailedInforOfEd...   EO_hUg4AAAAJ   \n",
       "6                           http://niovi.aueb.gr/~gcp   y-Mxxa0AAAAJ   \n",
       "7                        http://www2.cs.aueb.gr/~vana   2lpWTDYAAAAJ   \n",
       "8                       http://www.cs.aueb.gr/~jordan   Bq_GqyIAAAAJ   \n",
       "9   https://uregister-ldap.aueb.gr/en/faculty/kala...  NOSCHOLARPAGE   \n",
       "10                 http://www.db-net.aueb.gr/michalis   aWGJYcMAAAAJ   \n",
       "11        http://ieeexplore.ieee.org/document/4114886   WTg8mXoAAAAJ   \n",
       "12  https://www-1.aueb.gr/en/content/new-rector-at...  NOSCHOLARPAGE   \n",
       "\n",
       "    citations  h-index  \n",
       "0         NaN      NaN  \n",
       "1     16310.0     57.0  \n",
       "2         NaN      NaN  \n",
       "3      4807.0     24.0  \n",
       "4      1685.0     19.0  \n",
       "5      1218.0     21.0  \n",
       "6     11622.0     46.0  \n",
       "7      7739.0     38.0  \n",
       "8      5338.0     32.0  \n",
       "9         NaN      NaN  \n",
       "10    18477.0     54.0  \n",
       "11     1091.0     16.0  \n",
       "12        NaN      NaN  "
      ]
     },
     "execution_count": 39,
     "metadata": {},
     "output_type": "execute_result"
    }
   ],
   "source": [
    "data.head(13)"
   ]
  },
  {
   "cell_type": "code",
   "execution_count": 18,
   "id": "69649f1d",
   "metadata": {
    "scrolled": true
   },
   "outputs": [
    {
     "name": "stderr",
     "output_type": "stream",
     "text": [
      "/var/folders/sw/rc481v691q5883ld6bm6jzq80000gn/T/ipykernel_3827/1616792208.py:3: DeprecationWarning: executable_path has been deprecated, please pass in a Service object\n",
      "  driver = webdriver.Chrome('/Users/kevins/Documents/CSImpact/code/chromedriver')\n"
     ]
    }
   ],
   "source": [
    "# Make sure you allow remote automation in \"develop\" tab\n",
    "#will create a new window, if not done running and popup comes up press \"continue\"\n",
    "driver = webdriver.Chrome('/Users/kevins/Documents/CSImpact/code/chromedriver')\n"
   ]
  },
  {
   "cell_type": "code",
   "execution_count": 38,
   "id": "9d8c3c3b",
   "metadata": {},
   "outputs": [
    {
     "name": "stdout",
     "output_type": "stream",
     "text": [
      "\n"
     ]
    },
    {
     "name": "stderr",
     "output_type": "stream",
     "text": [
      "[WDM] - ====== WebDriver manager ======\n"
     ]
    },
    {
     "name": "stdout",
     "output_type": "stream",
     "text": [
      "2022-07-22 08:45:10,799 INFO ====== WebDriver manager ======\n"
     ]
    },
    {
     "name": "stderr",
     "output_type": "stream",
     "text": [
      "[WDM] - Current google-chrome version is 103.0.5060\n"
     ]
    },
    {
     "name": "stdout",
     "output_type": "stream",
     "text": [
      "2022-07-22 08:45:10,888 INFO Current google-chrome version is 103.0.5060\n"
     ]
    },
    {
     "name": "stderr",
     "output_type": "stream",
     "text": [
      "[WDM] - Get LATEST chromedriver version for 103.0.5060 google-chrome\n"
     ]
    },
    {
     "name": "stdout",
     "output_type": "stream",
     "text": [
      "2022-07-22 08:45:10,892 INFO Get LATEST chromedriver version for 103.0.5060 google-chrome\n"
     ]
    },
    {
     "name": "stderr",
     "output_type": "stream",
     "text": [
      "[WDM] - Driver [/Users/kevins/.wdm/drivers/chromedriver/mac64/103.0.5060.134/chromedriver] found in cache\n"
     ]
    },
    {
     "name": "stdout",
     "output_type": "stream",
     "text": [
      "2022-07-22 08:45:10,987 INFO Driver [/Users/kevins/.wdm/drivers/chromedriver/mac64/103.0.5060.134/chromedriver] found in cache\n"
     ]
    },
    {
     "name": "stderr",
     "output_type": "stream",
     "text": [
      "/var/folders/sw/rc481v691q5883ld6bm6jzq80000gn/T/ipykernel_1897/2165085008.py:3: DeprecationWarning: executable_path has been deprecated, please pass in a Service object\n",
      "  driver = webdriver.Chrome(ChromeDriverManager().install(), options=options)\n"
     ]
    },
    {
     "name": "stdout",
     "output_type": "stream",
     "text": [
      "4.2741764048123985\n"
     ]
    },
    {
     "name": "stderr",
     "output_type": "stream",
     "text": [
      "/var/folders/sw/rc481v691q5883ld6bm6jzq80000gn/T/ipykernel_1897/2165085008.py:30: DeprecationWarning: find_element_by_* commands are deprecated. Please use find_element() instead\n",
      "  button = driver.find_element_by_id('gsc_bpf_more')\n"
     ]
    },
    {
     "name": "stdout",
     "output_type": "stream",
     "text": [
      "[2022, 2022, 2021, 2021, 2021, 2021, 2021, 2021, 2021, 2021, 2020, 2020, 2020, 2020, 2020, 2020, 2020, 2020, 2020, 2019, 2019, 2019, 2019, 2019, 2019, 2019, 2019, 2019, 2019, 2018, 2018, 2018, 2018, 2018, 2018, 2018, 2018, 2018, 2018, 2017, 2017, 2017, 2017, 2017, 2017, 2017, 2017, 2017, 2017, 2017, 2017, 2017, 2016, 2016, 2016, 2016, 2016, 2016, 2016, 2016, 2016, 2016, 2015, 2015, 2015, 2015, 2015, 2015, 2015, 2015, 2015, 2015, 2015, 2015, 2015, 2015, 2014, 2014, 2014, 2014, 2014, 2014, 2014, 2014, 2014, 2014, 2014, 2014, 2014, 2014, 2014, 2014, 2014, 2013, 2013, 2013, 2013, 2013, 2013, 2013, 2013, 2013, 2013, 2013, 2013, 2013, 2013, 2013, 2013, 2013, 2013, 2013, 2013, 2013, 2013, 2013, 2013, 2012, 2012, 2012, 2012, 2012, 2012, 2012, 2012, 2012, 2012, 2012, 2011, 2011, 2011, 2011, 2011, 2011, 2011, 2011, 2010, 2010, 2010, 2010, 2010, 2010, 2010, 2010, 2009, 2009, 2009, 2009, 2009, 2009, 2009, 2009, 2009, 2008, 2008, 2008, 2008, 2008, 2007, 2007, 2007, 2007, 2007, 2007, 2007, 2007, 2006, 2006, 2006, 2006, 2006, 2006, 2005, 2005, 2005, 2004, 2004, 2004, 2004, 2004, 2004, 2004, 2003, 2003, 2003, 2003, 2003, 2003, 2003, 2003, 2003, 2003, 2002, 2002, 2002, 2002, 2002, 2002, 2002, 2002, 2002, 2002, 2002, 2001, 2001, 2001, 2001, 2001, 2001, 2001, 2001, 2001, 2001, 2001, 2001, 2000, 2000, 2000, 2000, 2000, 2000, 1999, 1999, 1999, 1999, 1998, 1997, 1997, 1997, 1997, 1997, 1997, 1996, 1996, 1996, 1996, 1996, 1996, 1995, 1995, 1995, 1995, 1995, 1995, 1995, 1995, 1994, 1994, 1994, 1994, 1994, 1993, 1993, 1992, 1992, 1992, 1991, 1991, 1991, 1990]\n",
      "1990\n",
      "[2022, 2021, 2021, 2021, 2021, 2021, 2020, 2020, 2020, 2020, 2020, 2019, 2019, 2019, 2019, 2019, 2019, 2018, 2018, 2017, 2017, 2017, 2016, 2016, 2016, 2016, 2016, 2015, 2015, 2015, 2015, 2015, 2015, 2015, 2015, 2015, 2015, 2014, 2014, 2014, 2014, 2014, 2014, 2014, 2014, 2013, 2013, 2013, 2013, 2013, 2013, 2013, 2013, 2013, 2013, 2012, 2012, 2012, 2012, 2012, 2012, 2011, 2011, 2011, 2011, 2011, 2011, 2011, 2011, 2011, 2010, 2010, 2010, 2010, 2010, 2010, 2010, 2009, 2009, 2009, 2009, 2009, 2009, 2009, 2009, 2009, 2008, 2008, 2008, 2008, 2008, 2007, 2007, 2007, 2006, 2006, 2006, 2006, 2006, 2006, 2006, 2005, 2005, 2004, 2004, 2003, 2003, 2002, 2001, 2001, 2001, 2001, 2001, 1999, 1999, 1999, 1999, 1999, 1998, 1998, 1998, 1998, 1998, 1998, 1997, 1997, 1996, 1996, 1996]\n",
      "1996\n",
      "[2022, 2022, 2022, 2022, 2022, 2022, 2022, 2022, 2022, 2022, 2021, 2021, 2021, 2021, 2021, 2021, 2021, 2021, 2021, 2021, 2021, 2021, 2020, 2020, 2020, 2020, 2020, 2020, 2020, 2020, 2020, 2020, 2020, 2020, 2020, 2020, 2020, 2020, 2020, 2020, 2020, 2020, 2020, 2020, 2020, 2020, 2020, 2020, 2020, 2020, 2019, 2019, 2019, 2019, 2019, 2019, 2019, 2019, 2019, 2019, 2019, 2019, 2019, 2019, 2019, 2019, 2019, 2019, 2019, 2019, 2018, 2018, 2018, 2018, 2018, 2018, 2018, 2018, 2018, 2018, 2018, 2018, 2018, 2018, 2018, 2018, 2018, 2018, 2018, 2018, 2018, 2018, 2018, 2018, 2018, 2017, 2017, 2017, 2017, 2017, 2017, 2017, 2017, 2017, 2017, 2017, 2017, 2017, 2017, 2017, 2017, 2017, 2017, 2017, 2017, 2017, 2017, 2016, 2016, 2016, 2016, 2016, 2016, 2016, 2016, 2016, 2016, 2016, 2015, 2015, 2015, 2015, 2015, 2015, 2014, 2014, 2014, 2014, 2013, 2013, 2013, 2013, 2013, 2012, 2012, 2012, 2012, 2012, 2012, 2012, 2012, 2012, 2012, 2012, 2012, 2012, 2011, 2011, 2011, 2011, 2011, 2011, 2011, 2011, 2011, 2011, 2011, 2010, 2010, 2010, 2010, 2010, 2010, 2009, 2009, 2009, 2008, 2008, 2007, 2007, 2007, 2007, 2007, 2006, 2006, 2006, 2006, 2006, 2006, 2006, 2005, 2005, 2005, 2005, 2004, 2004, 2002, 2001, 2001, 2001, 2000, 2000, 2000, 1999, 1999, 1998, 1998, 1998, 1998, 1998, 1998, 1997, 1996, 1994, 1994, 1994, 1994, 1994, 1994, 1993, 1993, 1993, 1993, 1991, 1991]\n",
      "1991\n",
      "[2018, 2018, 2016, 2014, 2014, 2014, 2014, 2013, 2013, 2013, 2012, 2012, 2012, 2012, 2012, 2012, 2012, 2011, 2011, 2011, 2011, 2011, 2011, 2011, 2010, 2010, 2010, 2010, 2010, 2010, 2010, 2008, 2008, 2008, 2008, 2007, 2007, 2007, 2007, 2007, 2007, 2007, 2007, 2007, 2006, 2006, 2006, 2006, 2006, 2006, 2006, 2006, 2006, 2006, 2006, 2006, 2006, 2006, 2005, 2005, 2005, 2005, 2005, 2005, 2005, 2005, 2005, 2005, 2005, 2005, 2005, 2005, 2004, 2004, 2004, 2003, 2003, 2003, 2003, 2001, 2001, 2001, 2000, 2000, 1999, 1999, 1999, 1996]\n",
      "1996\n",
      "[2022, 2022, 2022, 2022, 2022, 2021, 2021, 2021, 2021, 2021, 2021, 2021, 2021, 2021, 2020, 2020, 2020, 2020, 2020, 2020, 2020, 2020, 2020, 2020, 2020, 2020, 2020, 2019, 2019, 2019, 2019, 2019, 2019, 2019, 2019, 2019, 2019, 2019, 2019, 2019, 2018, 2018, 2018, 2018, 2018, 2018, 2018, 2018, 2018, 2018, 2018, 2018, 2018, 2017, 2017, 2017, 2017, 2017, 2017, 2016, 2016, 2016, 2016, 2016, 2016, 2016, 2016, 2016, 2016, 2016, 2015, 2015, 2015, 2015, 2015, 2015, 2015, 2015, 2015, 2015, 2015, 2015, 2015, 2014, 2014, 2014, 2014, 2014, 2014, 2014, 2014, 2014, 2014, 2014, 2014, 2014, 2014, 2014, 2014, 2014, 2014, 2013, 2013, 2013, 2013, 2013, 2013, 2013, 2013, 2013, 2012, 2012, 2012, 2012, 2012, 2012, 2012, 2012, 2012, 2012, 2012, 2012, 2012, 2012, 2012, 2012, 2011, 2011, 2011, 2011, 2011, 2011, 2011, 2011, 2011, 2011, 2011, 2011, 2011, 2011, 2010, 2010, 2010, 2010, 2010, 2010, 2010, 2010, 2010, 2010, 2010, 2010, 2010, 2010, 2010, 2009, 2009, 2009, 2009, 2009, 2009, 2009, 2009, 2009, 2009, 2009, 2009, 2009, 2009, 2009, 2008, 2008, 2008, 2008, 2008, 2008, 2008, 2008, 2008, 2008, 2008, 2008, 2008, 2007, 2007, 2007, 2007, 2007, 2007, 2007, 2006, 2006, 2006, 2006, 2006, 2006, 2006, 2006, 2006, 2006, 2006, 2006, 2006, 2006, 2005, 2005, 2005, 2005, 2005, 2005, 2005, 2005, 2005, 2005, 2004, 2004, 2004, 2004, 2003, 2003, 2003, 2003, 2003, 2003, 2003, 2003, 2003, 2003, 2003, 2003, 2003, 2002, 2002, 2002, 2002, 2002, 2002, 2001, 2001, 2001, 2001, 2001, 2001, 2001, 2001, 2001, 2001, 2001, 2001, 2001, 2000, 2000, 2000, 2000, 1999, 1999, 1999, 1999, 1999, 1999, 1999, 1998, 1998, 1998, 1998, 1998, 1998, 1998, 1998, 1998, 1997, 1997, 1997, 1997, 1996, 1996, 1996, 1995, 1995, 1995, 1995, 1995, 1995, 1995, 1995, 1994, 1994, 1994, 1994, 1994, 1994, 1994, 1994, 1994, 1993, 1993, 1993, 1993, 1993, 1993, 1993, 1993, 1993, 1993, 1993, 1993, 1993, 1993, 1993, 1993, 1993, 1993, 1993, 1993, 1993, 1992, 1992, 1992, 1992, 1992, 1992, 1992, 1991, 1991, 1991, 1990, 1989, 1987, 1987, 1987]\n",
      "1987\n",
      "[2022, 2022, 2022, 2021, 2021, 2021, 2021, 2021, 2021, 2021, 2020, 2020, 2020, 2020, 2020, 2020, 2020, 2019, 2019, 2019, 2019, 2019, 2018, 2018, 2018, 2018, 2018, 2018, 2018, 2018, 2018, 2018, 2018, 2018, 2018, 2018, 2018, 2018, 2018, 2017, 2017, 2017, 2017, 2017, 2017, 2017, 2017, 2017, 2017, 2017, 2017, 2017, 2017, 2017, 2017, 2017, 2016, 2016, 2016, 2016, 2016, 2016, 2016, 2016, 2016, 2016, 2016, 2016, 2016, 2016, 2016, 2016, 2016, 2016, 2016, 2016, 2016, 2015, 2015, 2015, 2015, 2015, 2015, 2015, 2015, 2015, 2014, 2014, 2014, 2014, 2014, 2014, 2014, 2014, 2014, 2014, 2014, 2014, 2014, 2014, 2013, 2013, 2013, 2013, 2013, 2013, 2013, 2013, 2013, 2013, 2013, 2013, 2013, 2013, 2012, 2012, 2012, 2012, 2012, 2012, 2012, 2012, 2012, 2012, 2011, 2011, 2011, 2011, 2011, 2011, 2010, 2010, 2010, 2010, 2010, 2009, 2009, 2009, 2009, 2009, 2009, 2009, 2008, 2008, 2008, 2008, 2008, 2008, 2008, 2008, 2008, 2008, 2008, 2007, 2007, 2007, 2007, 2007, 2007, 2007, 2007, 2007, 2007, 2007, 2006, 2006, 2006, 2006, 2006, 2006, 2006, 2006, 2006, 2006, 2006, 2006, 2006, 2006, 2006, 2006, 2005, 2005, 2005, 2005, 2005, 2005, 2005, 2005, 2005, 2005, 2005, 2005, 2005, 2005, 2005, 2005, 2005, 2005, 2005, 2005, 2005, 2005, 2005, 2005, 2005, 2005, 2005, 2004, 2004, 2004, 2004, 2004, 2004, 2004, 2004, 2004, 2003, 2003, 2003, 2003, 2003, 2002, 2002, 2002, 2002, 2002, 2002, 2002, 2002, 2002, 2002, 2002, 2001, 2001, 2001, 2001, 2000, 2000, 2000, 2000, 2000, 2000, 2000, 1999, 1999, 1999, 1999, 1999, 1999, 1998, 1998, 1995]\n",
      "1995\n",
      "[2022, 2022, 2022, 2021, 2021, 2021, 2021, 2021, 2021, 2021, 2020, 2020, 2020, 2020, 2020, 2020, 2020, 2020, 2020, 2019, 2019, 2019, 2019, 2019, 2019, 2019, 2019, 2018, 2018, 2018, 2018, 2018, 2018, 2018, 2018, 2018, 2018, 2018, 2018, 2018, 2017, 2017, 2017, 2017, 2017, 2017, 2017, 2016, 2016, 2016, 2016, 2016, 2016, 2016, 2016, 2016, 2016, 2016, 2016, 2016, 2016, 2016, 2015, 2015, 2015, 2015, 2015, 2015, 2015, 2015, 2015, 2015, 2014, 2014, 2014, 2014, 2014, 2014, 2014, 2014, 2014, 2014, 2014, 2014, 2014, 2014, 2014, 2014, 2014, 2014, 2014, 2014, 2014, 2013, 2013, 2013, 2013, 2013, 2013, 2013, 2013, 2013, 2013, 2013, 2012, 2012, 2012, 2012, 2012, 2012, 2012, 2012, 2012, 2012, 2012, 2012, 2012, 2012, 2012, 2012, 2012, 2012, 2012, 2012, 2011, 2011, 2011, 2011, 2011, 2011, 2011, 2011, 2011, 2011, 2011, 2011, 2011, 2011, 2011, 2011, 2010, 2010, 2010, 2010, 2010, 2010, 2010, 2010, 2009, 2009, 2009, 2009, 2009, 2009, 2009, 2009, 2009, 2009, 2008, 2008, 2008, 2008, 2008, 2008, 2007, 2007, 2006, 2006, 2006, 2006, 2006, 2006, 2006, 2005, 2005, 2005, 2004, 2004, 2004, 2003, 2003, 2002, 2002, 2002, 2002, 2002, 2002, 2002, 2001, 2001, 2001, 2001, 2000, 2000, 2000, 1999, 1999, 1999, 1999, 1998]\n",
      "1998\n"
     ]
    },
    {
     "name": "stdout",
     "output_type": "stream",
     "text": [
      "[2022, 2022, 2022, 2022, 2022, 2022, 2022, 2022, 2022, 2022, 2021, 2021, 2021, 2021, 2021, 2021, 2021, 2021, 2021, 2021, 2021, 2021, 2021, 2021, 2021, 2021, 2021, 2021, 2021, 2021, 2021, 2021, 2021, 2021, 2020, 2020, 2020, 2020, 2020, 2020, 2020, 2020, 2020, 2020, 2020, 2020, 2020, 2020, 2020, 2020, 2020, 2020, 2020, 2020, 2020, 2020, 2020, 2019, 2019, 2019, 2019, 2019, 2019, 2019, 2019, 2019, 2019, 2019, 2019, 2019, 2019, 2019, 2019, 2019, 2019, 2019, 2019, 2019, 2019, 2019, 2018, 2018, 2018, 2018, 2018, 2018, 2018, 2018, 2018, 2018, 2018, 2018, 2018, 2018, 2018, 2018, 2018, 2018, 2017, 2017, 2017, 2017, 2017, 2017, 2017, 2017, 2017, 2017, 2017, 2017, 2016, 2016, 2016, 2016, 2016, 2016, 2016, 2016, 2016, 2016, 2016, 2015, 2015, 2015, 2015, 2015, 2015, 2015, 2015, 2015, 2015, 2015, 2015, 2015, 2014, 2014, 2014, 2014, 2014, 2014, 2013, 2013, 2013, 2013, 2013, 2013, 2013, 2013, 2013, 2013, 2013, 2013, 2013, 2013, 2012, 2012, 2012, 2012, 2012, 2012, 2012, 2012, 2012, 2012, 2012, 2012, 2012, 2012, 2012, 2012, 2011, 2011, 2011, 2011, 2011, 2011, 2011, 2011, 2011, 2011, 2011, 2010, 2010, 2010, 2010, 2010, 2010, 2010, 2010, 2010, 2010, 2009, 2009, 2009, 2009, 2009, 2009, 2009, 2009, 2009, 2008, 2008, 2008, 2008, 2008, 2008, 2008, 2008, 2008, 2008, 2008, 2008, 2008, 2007, 2007, 2007, 2007, 2007, 2007, 2007, 2007, 2007, 2007, 2007, 2007, 2007, 2007, 2006, 2006, 2006, 2006, 2006, 2006, 2006, 2006, 2006, 2006, 2006, 2006, 2006, 2005, 2005, 2005, 2005, 2005, 2005, 2005, 2005, 2005, 2005, 2005, 2005, 2005, 2004, 2004, 2004, 2004, 2004, 2004, 2004, 2004, 2004, 2004, 2003, 2003, 2003, 2003, 2003, 2003, 2003, 2003, 2003, 2003, 2003, 2003, 2002, 2002, 2002, 2002, 2002, 2002, 2002, 2001, 2001, 2001, 2001, 2001, 2001, 2001, 2001, 2001, 2001, 2001, 2001, 2001, 2001, 2000, 2000, 2000, 2000, 2000, 2000, 2000, 2000, 2000, 2000, 1999, 1999, 1999, 1999, 1999, 1998, 1998, 1998, 1998, 1998, 1998, 1998, 1997, 1997, 1996, 1996, 1996, 1996, 1996, 1996, 1996, 1995, 1993, 1993, 1993, 1993, 1993, 1990]\n",
      "1990\n",
      "[2020, 2019, 2019, 2018, 2018, 2018, 2018, 2016, 2016, 2016, 2016, 2016, 2015, 2014, 2014, 2014, 2013, 2013, 2011, 2009, 2009, 2009, 2008, 2008, 2008, 2008, 2008, 2008, 2008, 2007, 2007, 2007, 2007, 2007, 2006, 2006, 2005, 2004, 2004, 2004, 2003, 2003, 2003, 2000, 2000, 2000, 2000, 1999, 1999, 1998, 1998, 1998, 1998, 1998, 1997, 1997, 1997, 1997, 1997, 1997, 1997, 1997, 1996, 1996, 1995, 1995, 1995, 1992, 1992, 1992, 1991, 1991, 1990, 1989, 1987, 1986, 1985, 1985, 1985, 1982]\n",
      "1982\n",
      "[2020, 2017, 2016, 2016, 2016, 2015, 2014, 2014, 2014, 2014, 2014, 2013, 2013, 2013, 2013, 2013, 2012, 2012, 2012, 2012, 2012, 2012, 2012, 2012, 2011, 2010, 2010, 2010, 2010, 2010, 2009, 2009, 2009, 2008, 2008, 2008, 2008, 2007, 2007, 2007, 2007, 2007, 2006, 2006, 2005, 2005, 2005, 2002, 2001, 2000, 2000, 2000, 2000, 2000, 1999, 1999, 1999, 1999, 1998, 1996, 1995, 1995, 1994, 1994, 1993, 1989]\n",
      "1989\n",
      "[2022, 2022, 2022, 2022, 2021, 2021, 2021, 2021, 2021, 2021, 2021, 2021, 2021, 2021, 2021, 2021, 2021, 2021, 2020, 2020, 2020, 2020, 2020, 2020, 2020, 2020, 2020, 2019, 2019, 2018, 2018, 2018, 2018, 2018, 2018, 2018, 2017, 2017, 2017, 2017, 2016, 2016, 2016, 2015, 2015, 2015, 2014, 2013, 2013, 2013, 2013, 2013, 2012, 2012, 2012, 2012, 2012, 2012, 2012, 2011, 2011, 2010, 2010, 2010, 2010, 2010, 2010, 2010, 2010, 2009, 2009, 2009, 2009, 2009, 2009, 2008, 2008, 2008, 2008, 2008, 2008, 2008, 2008, 2008, 2008, 2007, 2007, 2007, 2007, 2007, 2007, 2006, 2006, 2006, 2006, 2006, 2006, 2005, 2005, 2005, 2005, 2005, 2005, 2005, 2004, 2004, 2004, 2004, 2004, 2003, 2003, 2003, 2003, 2003, 2003, 2003, 2002, 2002, 2002, 2002, 2002, 2002, 2001, 2001, 2001, 2001, 2001, 2001, 2000, 2000, 2000, 2000, 2000, 1999, 1999, 1999, 1999, 1999, 1999, 1998, 1998, 1998, 1998, 1998, 1998, 1998, 1998, 1997, 1997, 1997, 1997, 1997, 1997, 1997, 1996, 1996, 1996, 1996, 1996, 1996, 1994]\n",
      "1994\n"
     ]
    },
    {
     "ename": "KeyboardInterrupt",
     "evalue": "",
     "output_type": "error",
     "traceback": [
      "\u001b[0;31m---------------------------------------------------------------------------\u001b[0m",
      "\u001b[0;31mKeyboardInterrupt\u001b[0m                         Traceback (most recent call last)",
      "Input \u001b[0;32mIn [38]\u001b[0m, in \u001b[0;36m<cell line: 17>\u001b[0;34m()\u001b[0m\n\u001b[1;32m     30\u001b[0m     button \u001b[38;5;241m=\u001b[39m driver\u001b[38;5;241m.\u001b[39mfind_element_by_id(\u001b[38;5;124m'\u001b[39m\u001b[38;5;124mgsc_bpf_more\u001b[39m\u001b[38;5;124m'\u001b[39m)\n\u001b[1;32m     31\u001b[0m     button\u001b[38;5;241m.\u001b[39mclick()\n\u001b[0;32m---> 32\u001b[0m     \u001b[43mtime\u001b[49m\u001b[38;5;241;43m.\u001b[39;49m\u001b[43msleep\u001b[49m\u001b[43m(\u001b[49m\u001b[38;5;241;43m0.5\u001b[39;49m\u001b[43m)\u001b[49m\n\u001b[1;32m     33\u001b[0m \u001b[38;5;28;01mexcept\u001b[39;00m ElementNotInteractableException:\n\u001b[1;32m     34\u001b[0m     final_text \u001b[38;5;241m=\u001b[39m driver\u001b[38;5;241m.\u001b[39mpage_source\n",
      "\u001b[0;31mKeyboardInterrupt\u001b[0m: "
     ]
    }
   ],
   "source": [
    "options = webdriver.ChromeOptions()\n",
    "options.add_argument('--disable-blink-features=AutomationControlled')\n",
    "driver = webdriver.Chrome(ChromeDriverManager().install(), options=options)\n",
    "driver.implicitly_wait(random() * 10)\n",
    "print(random()*10)\n",
    "\n",
    "earliest_paper_years = []\n",
    "total_rows = data.shape[0]\n",
    "#test_data = data.head(100)\n",
    "#total_test_rows = test_data.shape[0]\n",
    "\n",
    "s_id = data.iloc[0,3]\n",
    "driver.get(f'https://scholar.google.com/citations?hl=en&user={s_id}&view_op=list_works&sortby=pubdate')\n",
    "time.sleep(20)\n",
    "\n",
    "\n",
    "for i in range(total_rows):\n",
    "    s_id = data.iloc[i,3]\n",
    "    if not pd.isna(data.iloc[i,4]):\n",
    "        html_text = requests.get(f'https://scholar.google.com/citations?hl=en&user={s_id}&view_op=list_works&sortby=pubdate').text\n",
    "        soup = BeautifulSoup(html_text, 'lxml')\n",
    "        values = soup.find_all('button', id = 'gsc_bpf_more')\n",
    "        \n",
    "        \n",
    "        \n",
    "        driver.get(f'https://scholar.google.com/citations?hl=en&user={s_id}&view_op=list_works&sortby=pubdate')\n",
    "        text1 = driver.page_source\n",
    "        while True:\n",
    "            try:\n",
    "                button = driver.find_element_by_id('gsc_bpf_more')\n",
    "                button.click()\n",
    "                time.sleep(0.5)\n",
    "            except ElementNotInteractableException:\n",
    "                final_text = driver.page_source\n",
    "                break\n",
    "            except NoSuchElementException:\n",
    "                driver.get(f'https://scholar.google.com/citations?hl=en&user={s_id}&view_op=list_works&sortby=pubdate')\n",
    "                break\n",
    "            text2=driver.page_source\n",
    "            if text1 == text2:\n",
    "                final_text = text2\n",
    "                break\n",
    "            else:\n",
    "                text1 = text2\n",
    "\n",
    "        final_soup = BeautifulSoup(final_text, 'lxml')\n",
    "        years = final_soup.find_all('td',class_ = 'gsc_a_y')\n",
    "        years_text = []\n",
    "        for year in years:\n",
    "            years_text.append(year.text)\n",
    "        clean_years = [int(year_text) for year_text in years_text if year_text != '']\n",
    "        min_y = min(clean_years)\n",
    "        earliest_paper_years.append(min_y)\n",
    "        print(clean_years)\n",
    "        print(min_y)\n",
    "\n",
    "    else:\n",
    "        earliest_paper_years.append('')"
   ]
  },
  {
   "cell_type": "code",
   "execution_count": 40,
   "id": "7a2e1720",
   "metadata": {},
   "outputs": [
    {
     "data": {
      "text/plain": [
       "['',\n",
       " 1990,\n",
       " '',\n",
       " 1996,\n",
       " 1991,\n",
       " 1996,\n",
       " 1987,\n",
       " 1995,\n",
       " 1998,\n",
       " '',\n",
       " 1990,\n",
       " 1982,\n",
       " '',\n",
       " 1989,\n",
       " 1994,\n",
       " '']"
      ]
     },
     "execution_count": 40,
     "metadata": {},
     "output_type": "execute_result"
    }
   ],
   "source": [
    "earliest_paper_years"
   ]
  },
  {
   "cell_type": "code",
   "execution_count": 81,
   "id": "b27dbc03",
   "metadata": {},
   "outputs": [
    {
     "data": {
      "text/plain": [
       "219.0"
      ]
     },
     "execution_count": 81,
     "metadata": {},
     "output_type": "execute_result"
    }
   ],
   "source": [
    "data['h-index'].max()"
   ]
  },
  {
   "cell_type": "code",
   "execution_count": 82,
   "id": "fb937136",
   "metadata": {},
   "outputs": [
    {
     "data": {
      "text/plain": [
       "532373.0"
      ]
     },
     "execution_count": 82,
     "metadata": {},
     "output_type": "execute_result"
    }
   ],
   "source": [
    "data['citations'].max()"
   ]
  },
  {
   "cell_type": "code",
   "execution_count": 10,
   "id": "467f8755",
   "metadata": {},
   "outputs": [
    {
     "data": {
      "text/plain": [
       "76"
      ]
     },
     "execution_count": 10,
     "metadata": {},
     "output_type": "execute_result"
    }
   ],
   "source": [
    "len(earliest_paper_years)"
   ]
  },
  {
   "cell_type": "code",
   "execution_count": 7,
   "id": "4245ab43",
   "metadata": {},
   "outputs": [
    {
     "data": {
      "text/html": [
       "<div>\n",
       "<style scoped>\n",
       "    .dataframe tbody tr th:only-of-type {\n",
       "        vertical-align: middle;\n",
       "    }\n",
       "\n",
       "    .dataframe tbody tr th {\n",
       "        vertical-align: top;\n",
       "    }\n",
       "\n",
       "    .dataframe thead th {\n",
       "        text-align: right;\n",
       "    }\n",
       "</style>\n",
       "<table border=\"1\" class=\"dataframe\">\n",
       "  <thead>\n",
       "    <tr style=\"text-align: right;\">\n",
       "      <th></th>\n",
       "      <th>name</th>\n",
       "      <th>affiliation</th>\n",
       "      <th>homepage</th>\n",
       "      <th>scholar_id</th>\n",
       "      <th>citations</th>\n",
       "      <th>h-index</th>\n",
       "    </tr>\n",
       "  </thead>\n",
       "  <tbody>\n",
       "    <tr>\n",
       "      <th>0</th>\n",
       "      <td>A Min Tjoa</td>\n",
       "      <td>TU Wien</td>\n",
       "      <td>http://www.ifs.tuwien.ac.at/tjoa</td>\n",
       "      <td>x8qCMhcAAAAJ</td>\n",
       "      <td>6069.0</td>\n",
       "      <td>40.0</td>\n",
       "    </tr>\n",
       "    <tr>\n",
       "      <th>1</th>\n",
       "      <td>A. Akbari Azirani</td>\n",
       "      <td>IUST</td>\n",
       "      <td>http://ce.iust.ac.ir/page.php?slct_pg_id=6537&amp;...</td>\n",
       "      <td>pCil4_cAAAAJ</td>\n",
       "      <td>1326.0</td>\n",
       "      <td>18.0</td>\n",
       "    </tr>\n",
       "    <tr>\n",
       "      <th>2</th>\n",
       "      <td>A. Aldo Faisal</td>\n",
       "      <td>Imperial College London</td>\n",
       "      <td>https://www.imperial.ac.uk/people/a.faisal</td>\n",
       "      <td>WjHjbrwAAAAJ</td>\n",
       "      <td>6780.0</td>\n",
       "      <td>31.0</td>\n",
       "    </tr>\n",
       "    <tr>\n",
       "      <th>3</th>\n",
       "      <td>A. Antony Franklin</td>\n",
       "      <td>IIT Hyderabad</td>\n",
       "      <td>http://www.iith.ac.in/~antony/index.html</td>\n",
       "      <td>LVfqLuoAAAAJ</td>\n",
       "      <td>NaN</td>\n",
       "      <td>NaN</td>\n",
       "    </tr>\n",
       "    <tr>\n",
       "      <th>4</th>\n",
       "      <td>A. B. M. Alim Al Islam</td>\n",
       "      <td>BUET</td>\n",
       "      <td>https://sites.google.com/site/abmalimalislam</td>\n",
       "      <td>K-AIPzQAAAAJ</td>\n",
       "      <td>562.0</td>\n",
       "      <td>11.0</td>\n",
       "    </tr>\n",
       "    <tr>\n",
       "      <th>...</th>\n",
       "      <td>...</td>\n",
       "      <td>...</td>\n",
       "      <td>...</td>\n",
       "      <td>...</td>\n",
       "      <td>...</td>\n",
       "      <td>...</td>\n",
       "    </tr>\n",
       "    <tr>\n",
       "      <th>20644</th>\n",
       "      <td>Ítalo Cunha</td>\n",
       "      <td>UFMG</td>\n",
       "      <td>https://www.dcc.ufmg.br/~cunha</td>\n",
       "      <td>bTAky1EAAAAJ</td>\n",
       "      <td>2036.0</td>\n",
       "      <td>23.0</td>\n",
       "    </tr>\n",
       "    <tr>\n",
       "      <th>20645</th>\n",
       "      <td>Óscar Cánovas</td>\n",
       "      <td>University of Murcia</td>\n",
       "      <td>http://webs.um.es/ocanovas/miwiki/doku.php</td>\n",
       "      <td>iAPkCb8AAAAJ</td>\n",
       "      <td>625.0</td>\n",
       "      <td>13.0</td>\n",
       "    </tr>\n",
       "    <tr>\n",
       "      <th>20646</th>\n",
       "      <td>Özgür Erkent</td>\n",
       "      <td>Hacettepe University</td>\n",
       "      <td>https://web.cs.hacettepe.edu.tr/~ozgurerkent</td>\n",
       "      <td>5QMAbisAAAAJ</td>\n",
       "      <td>348.0</td>\n",
       "      <td>11.0</td>\n",
       "    </tr>\n",
       "    <tr>\n",
       "      <th>20647</th>\n",
       "      <td>Özgür Ulusoy</td>\n",
       "      <td>Bilkent University</td>\n",
       "      <td>http://www.cs.bilkent.edu.tr/~oulusoy</td>\n",
       "      <td>M_vU9pQAAAAJ</td>\n",
       "      <td>4716.0</td>\n",
       "      <td>37.0</td>\n",
       "    </tr>\n",
       "    <tr>\n",
       "      <th>20648</th>\n",
       "      <td>Ümit V. Çatalyürek</td>\n",
       "      <td>Georgia Institute of Technology</td>\n",
       "      <td>https://www.cc.gatech.edu/~umit</td>\n",
       "      <td>OLDMURQAAAAJ</td>\n",
       "      <td>11595.0</td>\n",
       "      <td>58.0</td>\n",
       "    </tr>\n",
       "  </tbody>\n",
       "</table>\n",
       "<p>20649 rows × 6 columns</p>\n",
       "</div>"
      ],
      "text/plain": [
       "                         name                      affiliation  \\\n",
       "0                  A Min Tjoa                          TU Wien   \n",
       "1           A. Akbari Azirani                             IUST   \n",
       "2              A. Aldo Faisal          Imperial College London   \n",
       "3          A. Antony Franklin                    IIT Hyderabad   \n",
       "4      A. B. M. Alim Al Islam                             BUET   \n",
       "...                       ...                              ...   \n",
       "20644             Ítalo Cunha                             UFMG   \n",
       "20645           Óscar Cánovas             University of Murcia   \n",
       "20646            Özgür Erkent             Hacettepe University   \n",
       "20647            Özgür Ulusoy               Bilkent University   \n",
       "20648      Ümit V. Çatalyürek  Georgia Institute of Technology   \n",
       "\n",
       "                                                homepage    scholar_id  \\\n",
       "0                       http://www.ifs.tuwien.ac.at/tjoa  x8qCMhcAAAAJ   \n",
       "1      http://ce.iust.ac.ir/page.php?slct_pg_id=6537&...  pCil4_cAAAAJ   \n",
       "2             https://www.imperial.ac.uk/people/a.faisal  WjHjbrwAAAAJ   \n",
       "3               http://www.iith.ac.in/~antony/index.html  LVfqLuoAAAAJ   \n",
       "4           https://sites.google.com/site/abmalimalislam  K-AIPzQAAAAJ   \n",
       "...                                                  ...           ...   \n",
       "20644                     https://www.dcc.ufmg.br/~cunha  bTAky1EAAAAJ   \n",
       "20645         http://webs.um.es/ocanovas/miwiki/doku.php  iAPkCb8AAAAJ   \n",
       "20646       https://web.cs.hacettepe.edu.tr/~ozgurerkent  5QMAbisAAAAJ   \n",
       "20647              http://www.cs.bilkent.edu.tr/~oulusoy  M_vU9pQAAAAJ   \n",
       "20648                    https://www.cc.gatech.edu/~umit  OLDMURQAAAAJ   \n",
       "\n",
       "       citations  h-index  \n",
       "0         6069.0     40.0  \n",
       "1         1326.0     18.0  \n",
       "2         6780.0     31.0  \n",
       "3            NaN      NaN  \n",
       "4          562.0     11.0  \n",
       "...          ...      ...  \n",
       "20644     2036.0     23.0  \n",
       "20645      625.0     13.0  \n",
       "20646      348.0     11.0  \n",
       "20647     4716.0     37.0  \n",
       "20648    11595.0     58.0  \n",
       "\n",
       "[20649 rows x 6 columns]"
      ]
     },
     "execution_count": 7,
     "metadata": {},
     "output_type": "execute_result"
    }
   ],
   "source": [
    "data"
   ]
  },
  {
   "cell_type": "code",
   "execution_count": 36,
   "id": "b9889120",
   "metadata": {},
   "outputs": [
    {
     "data": {
      "text/plain": [
       "['', ' ', '', ' ', ' ', ' ', ' ']"
      ]
     },
     "execution_count": 36,
     "metadata": {},
     "output_type": "execute_result"
    }
   ],
   "source": [
    "earliest_paper_years"
   ]
  },
  {
   "cell_type": "code",
   "execution_count": 11,
   "id": "db34e55a",
   "metadata": {},
   "outputs": [
    {
     "name": "stdout",
     "output_type": "stream",
     "text": [
      "[]\n"
     ]
    }
   ],
   "source": [
    "html_text = requests.get(f'https://scholar.google.com/citations?user=WNrQSakAAAAJ&hl=en&oi=ao').text\n",
    "soup = BeautifulSoup(html_text, 'lxml')\n",
    "years = soup.find_all('td',class_ = 'gsc_a_y')\n",
    "print(years)"
   ]
  },
  {
   "cell_type": "code",
   "execution_count": 28,
   "id": "9dbe18f7",
   "metadata": {},
   "outputs": [
    {
     "data": {
      "text/html": [
       "<div>\n",
       "<style scoped>\n",
       "    .dataframe tbody tr th:only-of-type {\n",
       "        vertical-align: middle;\n",
       "    }\n",
       "\n",
       "    .dataframe tbody tr th {\n",
       "        vertical-align: top;\n",
       "    }\n",
       "\n",
       "    .dataframe thead th {\n",
       "        text-align: right;\n",
       "    }\n",
       "</style>\n",
       "<table border=\"1\" class=\"dataframe\">\n",
       "  <thead>\n",
       "    <tr style=\"text-align: right;\">\n",
       "      <th></th>\n",
       "      <th>name</th>\n",
       "      <th>affiliation</th>\n",
       "      <th>homepage</th>\n",
       "      <th>scholar_id</th>\n",
       "      <th>citations</th>\n",
       "      <th>h-index</th>\n",
       "    </tr>\n",
       "  </thead>\n",
       "  <tbody>\n",
       "    <tr>\n",
       "      <th>13426</th>\n",
       "      <td>Peter Slater</td>\n",
       "      <td>University of Alabama - Huntsville</td>\n",
       "      <td>https://www.uah.edu/science/departments/math/f...</td>\n",
       "      <td>c2Zg-x8AAAAJ</td>\n",
       "      <td>NaN</td>\n",
       "      <td>NaN</td>\n",
       "    </tr>\n",
       "  </tbody>\n",
       "</table>\n",
       "</div>"
      ],
      "text/plain": [
       "               name                         affiliation  \\\n",
       "13426  Peter Slater  University of Alabama - Huntsville   \n",
       "\n",
       "                                                homepage    scholar_id  \\\n",
       "13426  https://www.uah.edu/science/departments/math/f...  c2Zg-x8AAAAJ   \n",
       "\n",
       "       citations  h-index  \n",
       "13426        NaN      NaN  "
      ]
     },
     "execution_count": 28,
     "metadata": {},
     "output_type": "execute_result"
    }
   ],
   "source": [
    "data.loc[data['name']== 'Peter Slater']"
   ]
  },
  {
   "cell_type": "code",
   "execution_count": 30,
   "id": "55e4c095",
   "metadata": {},
   "outputs": [
    {
     "data": {
      "text/html": [
       "<div>\n",
       "<style scoped>\n",
       "    .dataframe tbody tr th:only-of-type {\n",
       "        vertical-align: middle;\n",
       "    }\n",
       "\n",
       "    .dataframe tbody tr th {\n",
       "        vertical-align: top;\n",
       "    }\n",
       "\n",
       "    .dataframe thead th {\n",
       "        text-align: right;\n",
       "    }\n",
       "</style>\n",
       "<table border=\"1\" class=\"dataframe\">\n",
       "  <thead>\n",
       "    <tr style=\"text-align: right;\">\n",
       "      <th></th>\n",
       "      <th>name</th>\n",
       "      <th>affiliation</th>\n",
       "      <th>homepage</th>\n",
       "      <th>scholar_id</th>\n",
       "      <th>citations</th>\n",
       "      <th>h-index</th>\n",
       "    </tr>\n",
       "  </thead>\n",
       "  <tbody>\n",
       "    <tr>\n",
       "      <th>14248</th>\n",
       "      <td>Yiming Hu</td>\n",
       "      <td>University of Cincinnati</td>\n",
       "      <td>http://www.ece.uc.edu/~yhu</td>\n",
       "      <td>NOSCHOLARPAGE</td>\n",
       "      <td>NaN</td>\n",
       "      <td>NaN</td>\n",
       "    </tr>\n",
       "  </tbody>\n",
       "</table>\n",
       "</div>"
      ],
      "text/plain": [
       "            name               affiliation                    homepage  \\\n",
       "14248  Yiming Hu  University of Cincinnati  http://www.ece.uc.edu/~yhu   \n",
       "\n",
       "          scholar_id  citations  h-index  \n",
       "14248  NOSCHOLARPAGE        NaN      NaN  "
      ]
     },
     "execution_count": 30,
     "metadata": {},
     "output_type": "execute_result"
    }
   ],
   "source": [
    "data.loc[data['name']== 'Yiming Hu']"
   ]
  },
  {
   "cell_type": "code",
   "execution_count": null,
   "id": "c4bdec78",
   "metadata": {},
   "outputs": [],
   "source": []
  }
 ],
 "metadata": {
  "kernelspec": {
   "display_name": "Python 3 (ipykernel)",
   "language": "python",
   "name": "python3"
  },
  "language_info": {
   "codemirror_mode": {
    "name": "ipython",
    "version": 3
   },
   "file_extension": ".py",
   "mimetype": "text/x-python",
   "name": "python",
   "nbconvert_exporter": "python",
   "pygments_lexer": "ipython3",
   "version": "3.9.12"
  }
 },
 "nbformat": 4,
 "nbformat_minor": 5
}
