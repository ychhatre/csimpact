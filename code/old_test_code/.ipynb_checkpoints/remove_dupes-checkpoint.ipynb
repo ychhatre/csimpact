{
 "cells": [
  {
   "cell_type": "code",
   "execution_count": 1,
   "id": "08001450",
   "metadata": {},
   "outputs": [],
   "source": [
    "import pandas as pd\n"
   ]
  },
  {
   "cell_type": "code",
   "execution_count": 5,
   "id": "d51aff20",
   "metadata": {},
   "outputs": [],
   "source": [
    "data = pd.read_csv('/Users/kevins/Documents/CSImpact/output-professors-data.csv')"
   ]
  },
  {
   "cell_type": "code",
   "execution_count": 6,
   "id": "81608053",
   "metadata": {},
   "outputs": [],
   "source": [
    "data_1 = data.drop(['name','affiliation'], axis = 1)\n",
    "#delete columns so we can remove duplicates"
   ]
  },
  {
   "cell_type": "code",
   "execution_count": 14,
   "id": "bbd9aae0",
   "metadata": {},
   "outputs": [],
   "source": [
    "data_1=data_1.drop(['Unnamed: 0'], axis = 1)"
   ]
  },
  {
   "cell_type": "code",
   "execution_count": 16,
   "id": "bf2fd374",
   "metadata": {},
   "outputs": [],
   "source": [
    "data_5= data.groupby(['homepage', 'scholar_id']).count()\n",
    "#group rows with same homepage and scholar id together"
   ]
  },
  {
   "cell_type": "code",
   "execution_count": 19,
   "id": "e77639c3",
   "metadata": {},
   "outputs": [],
   "source": [
    "data_6=data_5.merge(data, how='left', on=['homepage', 'scholar_id'])\n",
    "#left merge data table on homepage and scholar id"
   ]
  },
  {
   "cell_type": "code",
   "execution_count": 21,
   "id": "e6b52de8",
   "metadata": {},
   "outputs": [],
   "source": [
    "data_7 = data_6.groupby(['homepage', 'scholar_id'])['name_y'].first().reset_index()\n",
    "#we only need one of the duplicate rows"
   ]
  },
  {
   "cell_type": "code",
   "execution_count": 39,
   "id": "8a152240",
   "metadata": {},
   "outputs": [],
   "source": [
    "data_7 =data_7.rename(columns ={'name_y': 'name'})\n",
    "#rename"
   ]
  },
  {
   "cell_type": "code",
   "execution_count": 40,
   "id": "b1b72105",
   "metadata": {},
   "outputs": [],
   "source": [
    "data_7 = data_7[['name','homepage','scholar_id']]\n",
    "#reorder columns"
   ]
  },
  {
   "cell_type": "code",
   "execution_count": 73,
   "id": "6a19df16",
   "metadata": {},
   "outputs": [],
   "source": [
    "data_8=data_7.merge(data, how='left', on=['name'])\n",
    "#left merge the data with original dataset to get h index and citations"
   ]
  },
  {
   "cell_type": "code",
   "execution_count": 75,
   "id": "bdd8fb94",
   "metadata": {},
   "outputs": [],
   "source": [
    "data_8 = data_8.sort_values(by = 'name')\n",
    "#sort by name"
   ]
  },
  {
   "cell_type": "code",
   "execution_count": 77,
   "id": "434e1841",
   "metadata": {},
   "outputs": [],
   "source": [
    "data_8 = data_8.reset_index(drop = True)\n",
    "#reset indexes"
   ]
  },
  {
   "cell_type": "code",
   "execution_count": 78,
   "id": "534ce96a",
   "metadata": {},
   "outputs": [],
   "source": [
    "data_8 = data_8.rename(columns ={'homepage_x' : 'homepage', 'scholar_id_x' : 'scholar_id'})\n",
    "#rename"
   ]
  },
  {
   "cell_type": "code",
   "execution_count": 80,
   "id": "a761b3d0",
   "metadata": {},
   "outputs": [],
   "source": [
    "data_8 =data_8.drop(['Unnamed: 0', 'homepage_y', 'scholar_id_y'], axis = 1)\n",
    "#delete unwanted columns"
   ]
  },
  {
   "cell_type": "code",
   "execution_count": 96,
   "id": "e284d5e8",
   "metadata": {},
   "outputs": [],
   "source": [
    "#clean up the names by removing zeros from the end (for example A. P. Vinod 0001)\n",
    "for i in range(data_8.shape[0]):\n",
    "    temp = ''\n",
    "    if '0' in data_8.iloc[i,0]:\n",
    "        temp = data_8.iloc[i,0]\n",
    "        temp = temp.split()\n",
    "        temp.remove(temp[-1])\n",
    "        data_8.iloc[i,0] = ' '.join(str(x) for x in temp)"
   ]
  },
  {
   "cell_type": "code",
   "execution_count": 98,
   "id": "38a2aab5",
   "metadata": {},
   "outputs": [],
   "source": [
    "data_8.to_csv('cleaned_prof_data_v2.csv')\n",
    "#save cleaned data table"
   ]
  },
  {
   "cell_type": "code",
   "execution_count": null,
   "id": "4395aa47",
   "metadata": {},
   "outputs": [],
   "source": []
  }
 ],
 "metadata": {
  "kernelspec": {
   "display_name": "Python 3 (ipykernel)",
   "language": "python",
   "name": "python3"
  },
  "language_info": {
   "codemirror_mode": {
    "name": "ipython",
    "version": 3
   },
   "file_extension": ".py",
   "mimetype": "text/x-python",
   "name": "python",
   "nbconvert_exporter": "python",
   "pygments_lexer": "ipython3",
   "version": "3.9.12"
  }
 },
 "nbformat": 4,
 "nbformat_minor": 5
}
