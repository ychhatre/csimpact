{
 "cells": [
  {
   "cell_type": "code",
   "execution_count": 1,
   "id": "4bc08f26",
   "metadata": {},
   "outputs": [],
   "source": [
    "import pandas as pd\n",
    "from bs4 import BeautifulSoup\n",
    "import requests"
   ]
  },
  {
   "cell_type": "code",
   "execution_count": 2,
   "id": "fa52e90a",
   "metadata": {},
   "outputs": [],
   "source": [
    "data = pd.read_csv('/Users/kevins/Documents/CSImpact/data/cleaned_prof_data_v4.csv')"
   ]
  },
  {
   "cell_type": "code",
   "execution_count": 3,
   "id": "e1071bf1",
   "metadata": {},
   "outputs": [
    {
     "data": {
      "text/html": [
       "<div>\n",
       "<style scoped>\n",
       "    .dataframe tbody tr th:only-of-type {\n",
       "        vertical-align: middle;\n",
       "    }\n",
       "\n",
       "    .dataframe tbody tr th {\n",
       "        vertical-align: top;\n",
       "    }\n",
       "\n",
       "    .dataframe thead th {\n",
       "        text-align: right;\n",
       "    }\n",
       "</style>\n",
       "<table border=\"1\" class=\"dataframe\">\n",
       "  <thead>\n",
       "    <tr style=\"text-align: right;\">\n",
       "      <th></th>\n",
       "      <th>name</th>\n",
       "      <th>affiliation</th>\n",
       "      <th>homepage</th>\n",
       "      <th>scholar_id</th>\n",
       "      <th>citations</th>\n",
       "      <th>h-index</th>\n",
       "    </tr>\n",
       "  </thead>\n",
       "  <tbody>\n",
       "    <tr>\n",
       "      <th>0</th>\n",
       "      <td>P. Vassalos</td>\n",
       "      <td>AUEB</td>\n",
       "      <td>http://pubs.dbs.uni-leipzig.de/aa/aff/Greece/A...</td>\n",
       "      <td>NOSCHOLARPAGE</td>\n",
       "      <td>NaN</td>\n",
       "      <td>NaN</td>\n",
       "    </tr>\n",
       "    <tr>\n",
       "      <th>1</th>\n",
       "      <td>Stavros Toumpis</td>\n",
       "      <td>AUEB</td>\n",
       "      <td>https://195.251.255.130/en/faculty/toumpis-sta...</td>\n",
       "      <td>LyiVPKEAAAAJ</td>\n",
       "      <td>2804.0</td>\n",
       "      <td>21.0</td>\n",
       "    </tr>\n",
       "    <tr>\n",
       "      <th>2</th>\n",
       "      <td>Ion Androutsopoulos</td>\n",
       "      <td>AUEB</td>\n",
       "      <td>http://www.aueb.gr/users/ion</td>\n",
       "      <td>4UJm5EQAAAAJ</td>\n",
       "      <td>11918.0</td>\n",
       "      <td>42.0</td>\n",
       "    </tr>\n",
       "    <tr>\n",
       "      <th>3</th>\n",
       "      <td>Michalis K. Titsias</td>\n",
       "      <td>AUEB</td>\n",
       "      <td>http://www.aueb.gr/users/mtitsias</td>\n",
       "      <td>B-SbkAwAAAAJ</td>\n",
       "      <td>5255.0</td>\n",
       "      <td>30.0</td>\n",
       "    </tr>\n",
       "    <tr>\n",
       "      <th>4</th>\n",
       "      <td>Vasilios A. Siris</td>\n",
       "      <td>AUEB</td>\n",
       "      <td>http://www.aueb.gr/users/vsiris</td>\n",
       "      <td>Vj3O0cEAAAAJ</td>\n",
       "      <td>5967.0</td>\n",
       "      <td>31.0</td>\n",
       "    </tr>\n",
       "    <tr>\n",
       "      <th>...</th>\n",
       "      <td>...</td>\n",
       "      <td>...</td>\n",
       "      <td>...</td>\n",
       "      <td>...</td>\n",
       "      <td>...</td>\n",
       "      <td>...</td>\n",
       "    </tr>\n",
       "    <tr>\n",
       "      <th>20644</th>\n",
       "      <td>Ali C. Begen</td>\n",
       "      <td>Özyeğin University</td>\n",
       "      <td>https://ali.begen.net</td>\n",
       "      <td>ZIZWsXoAAAAJ</td>\n",
       "      <td>5964.0</td>\n",
       "      <td>34.0</td>\n",
       "    </tr>\n",
       "    <tr>\n",
       "      <th>20645</th>\n",
       "      <td>Erhan Öztop</td>\n",
       "      <td>Özyeğin University</td>\n",
       "      <td>https://robotics.ozyegin.edu.tr/members/erhan-...</td>\n",
       "      <td>A8YEQMMAAAAJ</td>\n",
       "      <td>3702.0</td>\n",
       "      <td>28.0</td>\n",
       "    </tr>\n",
       "    <tr>\n",
       "      <th>20646</th>\n",
       "      <td>Yasar Safkan</td>\n",
       "      <td>Özyeğin University</td>\n",
       "      <td>https://cs.ozyegin.edu.tr/en/faculty/yasarsafkan</td>\n",
       "      <td>NOSCHOLARPAGE</td>\n",
       "      <td>NaN</td>\n",
       "      <td>NaN</td>\n",
       "    </tr>\n",
       "    <tr>\n",
       "      <th>20647</th>\n",
       "      <td>Hasan Sözer</td>\n",
       "      <td>Özyeğin University</td>\n",
       "      <td>https://faculty.ozyegin.edu.tr/hsozer</td>\n",
       "      <td>L3FuUX0AAAAJ</td>\n",
       "      <td>847.0</td>\n",
       "      <td>16.0</td>\n",
       "    </tr>\n",
       "    <tr>\n",
       "      <th>20648</th>\n",
       "      <td>Emre Sefer</td>\n",
       "      <td>Özyeğin University</td>\n",
       "      <td>http://www.emresefer.com</td>\n",
       "      <td>W5qWthcAAAAJ</td>\n",
       "      <td>253.0</td>\n",
       "      <td>10.0</td>\n",
       "    </tr>\n",
       "  </tbody>\n",
       "</table>\n",
       "<p>20649 rows × 6 columns</p>\n",
       "</div>"
      ],
      "text/plain": [
       "                      name         affiliation  \\\n",
       "0              P. Vassalos                AUEB   \n",
       "1          Stavros Toumpis                AUEB   \n",
       "2      Ion Androutsopoulos                AUEB   \n",
       "3      Michalis K. Titsias                AUEB   \n",
       "4        Vasilios A. Siris                AUEB   \n",
       "...                    ...                 ...   \n",
       "20644         Ali C. Begen  Özyeğin University   \n",
       "20645          Erhan Öztop  Özyeğin University   \n",
       "20646         Yasar Safkan  Özyeğin University   \n",
       "20647          Hasan Sözer  Özyeğin University   \n",
       "20648           Emre Sefer  Özyeğin University   \n",
       "\n",
       "                                                homepage     scholar_id  \\\n",
       "0      http://pubs.dbs.uni-leipzig.de/aa/aff/Greece/A...  NOSCHOLARPAGE   \n",
       "1      https://195.251.255.130/en/faculty/toumpis-sta...   LyiVPKEAAAAJ   \n",
       "2                           http://www.aueb.gr/users/ion   4UJm5EQAAAAJ   \n",
       "3                      http://www.aueb.gr/users/mtitsias   B-SbkAwAAAAJ   \n",
       "4                        http://www.aueb.gr/users/vsiris   Vj3O0cEAAAAJ   \n",
       "...                                                  ...            ...   \n",
       "20644                              https://ali.begen.net   ZIZWsXoAAAAJ   \n",
       "20645  https://robotics.ozyegin.edu.tr/members/erhan-...   A8YEQMMAAAAJ   \n",
       "20646   https://cs.ozyegin.edu.tr/en/faculty/yasarsafkan  NOSCHOLARPAGE   \n",
       "20647              https://faculty.ozyegin.edu.tr/hsozer   L3FuUX0AAAAJ   \n",
       "20648                           http://www.emresefer.com   W5qWthcAAAAJ   \n",
       "\n",
       "       citations  h-index  \n",
       "0            NaN      NaN  \n",
       "1         2804.0     21.0  \n",
       "2        11918.0     42.0  \n",
       "3         5255.0     30.0  \n",
       "4         5967.0     31.0  \n",
       "...          ...      ...  \n",
       "20644     5964.0     34.0  \n",
       "20645     3702.0     28.0  \n",
       "20646        NaN      NaN  \n",
       "20647      847.0     16.0  \n",
       "20648      253.0     10.0  \n",
       "\n",
       "[20649 rows x 6 columns]"
      ]
     },
     "execution_count": 3,
     "metadata": {},
     "output_type": "execute_result"
    }
   ],
   "source": [
    "data"
   ]
  },
  {
   "cell_type": "code",
   "execution_count": null,
   "id": "e90830b2",
   "metadata": {},
   "outputs": [],
   "source": []
  },
  {
   "cell_type": "code",
   "execution_count": 4,
   "id": "750ae1f0",
   "metadata": {},
   "outputs": [],
   "source": [
    "data = data.sort_values('name')"
   ]
  },
  {
   "cell_type": "code",
   "execution_count": 5,
   "id": "be5bfa15",
   "metadata": {},
   "outputs": [],
   "source": [
    "data = data.reset_index(drop = True)"
   ]
  },
  {
   "cell_type": "code",
   "execution_count": 15,
   "id": "91f82e21",
   "metadata": {},
   "outputs": [],
   "source": [
    "#data= data.drop(['Unnamed: 0'], axis = 1)"
   ]
  },
  {
   "cell_type": "code",
   "execution_count": 6,
   "id": "c359a31e",
   "metadata": {},
   "outputs": [
    {
     "data": {
      "text/html": [
       "<div>\n",
       "<style scoped>\n",
       "    .dataframe tbody tr th:only-of-type {\n",
       "        vertical-align: middle;\n",
       "    }\n",
       "\n",
       "    .dataframe tbody tr th {\n",
       "        vertical-align: top;\n",
       "    }\n",
       "\n",
       "    .dataframe thead th {\n",
       "        text-align: right;\n",
       "    }\n",
       "</style>\n",
       "<table border=\"1\" class=\"dataframe\">\n",
       "  <thead>\n",
       "    <tr style=\"text-align: right;\">\n",
       "      <th></th>\n",
       "      <th>name</th>\n",
       "      <th>affiliation</th>\n",
       "      <th>homepage</th>\n",
       "      <th>scholar_id</th>\n",
       "      <th>citations</th>\n",
       "      <th>h-index</th>\n",
       "    </tr>\n",
       "  </thead>\n",
       "  <tbody>\n",
       "    <tr>\n",
       "      <th>0</th>\n",
       "      <td>A Min Tjoa</td>\n",
       "      <td>TU Wien</td>\n",
       "      <td>http://www.ifs.tuwien.ac.at/tjoa</td>\n",
       "      <td>x8qCMhcAAAAJ</td>\n",
       "      <td>6069.0</td>\n",
       "      <td>40.0</td>\n",
       "    </tr>\n",
       "    <tr>\n",
       "      <th>1</th>\n",
       "      <td>A. Akbari Azirani</td>\n",
       "      <td>IUST</td>\n",
       "      <td>http://ce.iust.ac.ir/page.php?slct_pg_id=6537&amp;...</td>\n",
       "      <td>pCil4_cAAAAJ</td>\n",
       "      <td>1326.0</td>\n",
       "      <td>18.0</td>\n",
       "    </tr>\n",
       "    <tr>\n",
       "      <th>2</th>\n",
       "      <td>A. Aldo Faisal</td>\n",
       "      <td>Imperial College London</td>\n",
       "      <td>https://www.imperial.ac.uk/people/a.faisal</td>\n",
       "      <td>WjHjbrwAAAAJ</td>\n",
       "      <td>6780.0</td>\n",
       "      <td>31.0</td>\n",
       "    </tr>\n",
       "    <tr>\n",
       "      <th>3</th>\n",
       "      <td>A. Antony Franklin</td>\n",
       "      <td>IIT Hyderabad</td>\n",
       "      <td>http://www.iith.ac.in/~antony/index.html</td>\n",
       "      <td>LVfqLuoAAAAJ</td>\n",
       "      <td>NaN</td>\n",
       "      <td>NaN</td>\n",
       "    </tr>\n",
       "    <tr>\n",
       "      <th>4</th>\n",
       "      <td>A. B. M. Alim Al Islam</td>\n",
       "      <td>BUET</td>\n",
       "      <td>https://sites.google.com/site/abmalimalislam</td>\n",
       "      <td>K-AIPzQAAAAJ</td>\n",
       "      <td>562.0</td>\n",
       "      <td>11.0</td>\n",
       "    </tr>\n",
       "    <tr>\n",
       "      <th>...</th>\n",
       "      <td>...</td>\n",
       "      <td>...</td>\n",
       "      <td>...</td>\n",
       "      <td>...</td>\n",
       "      <td>...</td>\n",
       "      <td>...</td>\n",
       "    </tr>\n",
       "    <tr>\n",
       "      <th>20644</th>\n",
       "      <td>Ítalo Cunha</td>\n",
       "      <td>UFMG</td>\n",
       "      <td>https://www.dcc.ufmg.br/~cunha</td>\n",
       "      <td>bTAky1EAAAAJ</td>\n",
       "      <td>2036.0</td>\n",
       "      <td>23.0</td>\n",
       "    </tr>\n",
       "    <tr>\n",
       "      <th>20645</th>\n",
       "      <td>Óscar Cánovas</td>\n",
       "      <td>University of Murcia</td>\n",
       "      <td>http://webs.um.es/ocanovas/miwiki/doku.php</td>\n",
       "      <td>iAPkCb8AAAAJ</td>\n",
       "      <td>625.0</td>\n",
       "      <td>13.0</td>\n",
       "    </tr>\n",
       "    <tr>\n",
       "      <th>20646</th>\n",
       "      <td>Özgür Erkent</td>\n",
       "      <td>Hacettepe University</td>\n",
       "      <td>https://web.cs.hacettepe.edu.tr/~ozgurerkent</td>\n",
       "      <td>5QMAbisAAAAJ</td>\n",
       "      <td>348.0</td>\n",
       "      <td>11.0</td>\n",
       "    </tr>\n",
       "    <tr>\n",
       "      <th>20647</th>\n",
       "      <td>Özgür Ulusoy</td>\n",
       "      <td>Bilkent University</td>\n",
       "      <td>http://www.cs.bilkent.edu.tr/~oulusoy</td>\n",
       "      <td>M_vU9pQAAAAJ</td>\n",
       "      <td>4716.0</td>\n",
       "      <td>37.0</td>\n",
       "    </tr>\n",
       "    <tr>\n",
       "      <th>20648</th>\n",
       "      <td>Ümit V. Çatalyürek</td>\n",
       "      <td>Georgia Institute of Technology</td>\n",
       "      <td>https://www.cc.gatech.edu/~umit</td>\n",
       "      <td>OLDMURQAAAAJ</td>\n",
       "      <td>11595.0</td>\n",
       "      <td>58.0</td>\n",
       "    </tr>\n",
       "  </tbody>\n",
       "</table>\n",
       "<p>20649 rows × 6 columns</p>\n",
       "</div>"
      ],
      "text/plain": [
       "                         name                      affiliation  \\\n",
       "0                  A Min Tjoa                          TU Wien   \n",
       "1           A. Akbari Azirani                             IUST   \n",
       "2              A. Aldo Faisal          Imperial College London   \n",
       "3          A. Antony Franklin                    IIT Hyderabad   \n",
       "4      A. B. M. Alim Al Islam                             BUET   \n",
       "...                       ...                              ...   \n",
       "20644             Ítalo Cunha                             UFMG   \n",
       "20645           Óscar Cánovas             University of Murcia   \n",
       "20646            Özgür Erkent             Hacettepe University   \n",
       "20647            Özgür Ulusoy               Bilkent University   \n",
       "20648      Ümit V. Çatalyürek  Georgia Institute of Technology   \n",
       "\n",
       "                                                homepage    scholar_id  \\\n",
       "0                       http://www.ifs.tuwien.ac.at/tjoa  x8qCMhcAAAAJ   \n",
       "1      http://ce.iust.ac.ir/page.php?slct_pg_id=6537&...  pCil4_cAAAAJ   \n",
       "2             https://www.imperial.ac.uk/people/a.faisal  WjHjbrwAAAAJ   \n",
       "3               http://www.iith.ac.in/~antony/index.html  LVfqLuoAAAAJ   \n",
       "4           https://sites.google.com/site/abmalimalislam  K-AIPzQAAAAJ   \n",
       "...                                                  ...           ...   \n",
       "20644                     https://www.dcc.ufmg.br/~cunha  bTAky1EAAAAJ   \n",
       "20645         http://webs.um.es/ocanovas/miwiki/doku.php  iAPkCb8AAAAJ   \n",
       "20646       https://web.cs.hacettepe.edu.tr/~ozgurerkent  5QMAbisAAAAJ   \n",
       "20647              http://www.cs.bilkent.edu.tr/~oulusoy  M_vU9pQAAAAJ   \n",
       "20648                    https://www.cc.gatech.edu/~umit  OLDMURQAAAAJ   \n",
       "\n",
       "       citations  h-index  \n",
       "0         6069.0     40.0  \n",
       "1         1326.0     18.0  \n",
       "2         6780.0     31.0  \n",
       "3            NaN      NaN  \n",
       "4          562.0     11.0  \n",
       "...          ...      ...  \n",
       "20644     2036.0     23.0  \n",
       "20645      625.0     13.0  \n",
       "20646      348.0     11.0  \n",
       "20647     4716.0     37.0  \n",
       "20648    11595.0     58.0  \n",
       "\n",
       "[20649 rows x 6 columns]"
      ]
     },
     "execution_count": 6,
     "metadata": {},
     "output_type": "execute_result"
    }
   ],
   "source": [
    "data"
   ]
  },
  {
   "cell_type": "code",
   "execution_count": 11,
   "id": "5a8868be",
   "metadata": {},
   "outputs": [
    {
     "name": "stderr",
     "output_type": "stream",
     "text": [
      "/var/folders/sw/rc481v691q5883ld6bm6jzq80000gn/T/ipykernel_69164/2416858570.py:17: DeprecationWarning: find_element_by_* commands are deprecated. Please use find_element() instead\n",
      "  button = driver.find_element_by_id('gsc_bpf_more')\n"
     ]
    },
    {
     "ename": "NoSuchWindowException",
     "evalue": "Message: no such window: window was already closed\n  (Session info: chrome=103.0.5060.134)\nStacktrace:\n0   chromedriver                        0x00000001009cdef9 chromedriver + 4480761\n1   chromedriver                        0x00000001009595d3 chromedriver + 4003283\n2   chromedriver                        0x00000001005ec338 chromedriver + 410424\n3   chromedriver                        0x00000001005dc80f chromedriver + 346127\n4   chromedriver                        0x00000001005ddcb2 chromedriver + 351410\n5   chromedriver                        0x00000001005d64dc chromedriver + 320732\n6   chromedriver                        0x00000001005ed752 chromedriver + 415570\n7   chromedriver                        0x0000000100651bab chromedriver + 826283\n8   chromedriver                        0x000000010063f953 chromedriver + 751955\n9   chromedriver                        0x0000000100615cd5 chromedriver + 580821\n10  chromedriver                        0x0000000100616d25 chromedriver + 584997\n11  chromedriver                        0x000000010099f02d chromedriver + 4288557\n12  chromedriver                        0x00000001009a41b3 chromedriver + 4309427\n13  chromedriver                        0x00000001009a923f chromedriver + 4330047\n14  chromedriver                        0x00000001009a4dfa chromedriver + 4312570\n15  chromedriver                        0x000000010097dfef chromedriver + 4153327\n16  chromedriver                        0x00000001009bed78 chromedriver + 4418936\n17  chromedriver                        0x00000001009beeff chromedriver + 4419327\n18  chromedriver                        0x00000001009d5ab5 chromedriver + 4512437\n19  libsystem_pthread.dylib             0x00007ff808cfc4e1 _pthread_start + 125\n20  libsystem_pthread.dylib             0x00007ff808cf7f6b thread_start + 15\n",
     "output_type": "error",
     "traceback": [
      "\u001b[0;31m---------------------------------------------------------------------------\u001b[0m",
      "\u001b[0;31mNoSuchWindowException\u001b[0m                     Traceback (most recent call last)",
      "Input \u001b[0;32mIn [11]\u001b[0m, in \u001b[0;36m<cell line: 6>\u001b[0;34m()\u001b[0m\n\u001b[1;32m     17\u001b[0m     button \u001b[38;5;241m=\u001b[39m driver\u001b[38;5;241m.\u001b[39mfind_element_by_id(\u001b[38;5;124m'\u001b[39m\u001b[38;5;124mgsc_bpf_more\u001b[39m\u001b[38;5;124m'\u001b[39m)\n\u001b[1;32m     18\u001b[0m     time\u001b[38;5;241m.\u001b[39msleep(\u001b[38;5;241m0.75\u001b[39m)\n\u001b[0;32m---> 19\u001b[0m     \u001b[43mbutton\u001b[49m\u001b[38;5;241;43m.\u001b[39;49m\u001b[43mclick\u001b[49m\u001b[43m(\u001b[49m\u001b[43m)\u001b[49m\n\u001b[1;32m     20\u001b[0m \u001b[38;5;28;01mexcept\u001b[39;00m ElementNotInteractableException:\n\u001b[1;32m     21\u001b[0m     final_text \u001b[38;5;241m=\u001b[39m driver\u001b[38;5;241m.\u001b[39mpage_source\n",
      "File \u001b[0;32m/usr/local/lib/python3.9/site-packages/selenium/webdriver/remote/webelement.py:89\u001b[0m, in \u001b[0;36mWebElement.click\u001b[0;34m(self)\u001b[0m\n\u001b[1;32m     87\u001b[0m \u001b[38;5;28;01mdef\u001b[39;00m \u001b[38;5;21mclick\u001b[39m(\u001b[38;5;28mself\u001b[39m) \u001b[38;5;241m-\u001b[39m\u001b[38;5;241m>\u001b[39m \u001b[38;5;28;01mNone\u001b[39;00m:\n\u001b[1;32m     88\u001b[0m     \u001b[38;5;124;03m\"\"\"Clicks the element.\"\"\"\u001b[39;00m\n\u001b[0;32m---> 89\u001b[0m     \u001b[38;5;28;43mself\u001b[39;49m\u001b[38;5;241;43m.\u001b[39;49m\u001b[43m_execute\u001b[49m\u001b[43m(\u001b[49m\u001b[43mCommand\u001b[49m\u001b[38;5;241;43m.\u001b[39;49m\u001b[43mCLICK_ELEMENT\u001b[49m\u001b[43m)\u001b[49m\n",
      "File \u001b[0;32m/usr/local/lib/python3.9/site-packages/selenium/webdriver/remote/webelement.py:773\u001b[0m, in \u001b[0;36mWebElement._execute\u001b[0;34m(self, command, params)\u001b[0m\n\u001b[1;32m    771\u001b[0m     params \u001b[38;5;241m=\u001b[39m {}\n\u001b[1;32m    772\u001b[0m params[\u001b[38;5;124m'\u001b[39m\u001b[38;5;124mid\u001b[39m\u001b[38;5;124m'\u001b[39m] \u001b[38;5;241m=\u001b[39m \u001b[38;5;28mself\u001b[39m\u001b[38;5;241m.\u001b[39m_id\n\u001b[0;32m--> 773\u001b[0m \u001b[38;5;28;01mreturn\u001b[39;00m \u001b[38;5;28;43mself\u001b[39;49m\u001b[38;5;241;43m.\u001b[39;49m\u001b[43m_parent\u001b[49m\u001b[38;5;241;43m.\u001b[39;49m\u001b[43mexecute\u001b[49m\u001b[43m(\u001b[49m\u001b[43mcommand\u001b[49m\u001b[43m,\u001b[49m\u001b[43m \u001b[49m\u001b[43mparams\u001b[49m\u001b[43m)\u001b[49m\n",
      "File \u001b[0;32m/usr/local/lib/python3.9/site-packages/selenium/webdriver/remote/webdriver.py:430\u001b[0m, in \u001b[0;36mWebDriver.execute\u001b[0;34m(self, driver_command, params)\u001b[0m\n\u001b[1;32m    428\u001b[0m response \u001b[38;5;241m=\u001b[39m \u001b[38;5;28mself\u001b[39m\u001b[38;5;241m.\u001b[39mcommand_executor\u001b[38;5;241m.\u001b[39mexecute(driver_command, params)\n\u001b[1;32m    429\u001b[0m \u001b[38;5;28;01mif\u001b[39;00m response:\n\u001b[0;32m--> 430\u001b[0m     \u001b[38;5;28;43mself\u001b[39;49m\u001b[38;5;241;43m.\u001b[39;49m\u001b[43merror_handler\u001b[49m\u001b[38;5;241;43m.\u001b[39;49m\u001b[43mcheck_response\u001b[49m\u001b[43m(\u001b[49m\u001b[43mresponse\u001b[49m\u001b[43m)\u001b[49m\n\u001b[1;32m    431\u001b[0m     response[\u001b[38;5;124m'\u001b[39m\u001b[38;5;124mvalue\u001b[39m\u001b[38;5;124m'\u001b[39m] \u001b[38;5;241m=\u001b[39m \u001b[38;5;28mself\u001b[39m\u001b[38;5;241m.\u001b[39m_unwrap_value(\n\u001b[1;32m    432\u001b[0m         response\u001b[38;5;241m.\u001b[39mget(\u001b[38;5;124m'\u001b[39m\u001b[38;5;124mvalue\u001b[39m\u001b[38;5;124m'\u001b[39m, \u001b[38;5;28;01mNone\u001b[39;00m))\n\u001b[1;32m    433\u001b[0m     \u001b[38;5;28;01mreturn\u001b[39;00m response\n",
      "File \u001b[0;32m/usr/local/lib/python3.9/site-packages/selenium/webdriver/remote/errorhandler.py:247\u001b[0m, in \u001b[0;36mErrorHandler.check_response\u001b[0;34m(self, response)\u001b[0m\n\u001b[1;32m    245\u001b[0m         alert_text \u001b[38;5;241m=\u001b[39m value[\u001b[38;5;124m'\u001b[39m\u001b[38;5;124malert\u001b[39m\u001b[38;5;124m'\u001b[39m]\u001b[38;5;241m.\u001b[39mget(\u001b[38;5;124m'\u001b[39m\u001b[38;5;124mtext\u001b[39m\u001b[38;5;124m'\u001b[39m)\n\u001b[1;32m    246\u001b[0m     \u001b[38;5;28;01mraise\u001b[39;00m exception_class(message, screen, stacktrace, alert_text)  \u001b[38;5;66;03m# type: ignore[call-arg]  # mypy is not smart enough here\u001b[39;00m\n\u001b[0;32m--> 247\u001b[0m \u001b[38;5;28;01mraise\u001b[39;00m exception_class(message, screen, stacktrace)\n",
      "\u001b[0;31mNoSuchWindowException\u001b[0m: Message: no such window: window was already closed\n  (Session info: chrome=103.0.5060.134)\nStacktrace:\n0   chromedriver                        0x00000001009cdef9 chromedriver + 4480761\n1   chromedriver                        0x00000001009595d3 chromedriver + 4003283\n2   chromedriver                        0x00000001005ec338 chromedriver + 410424\n3   chromedriver                        0x00000001005dc80f chromedriver + 346127\n4   chromedriver                        0x00000001005ddcb2 chromedriver + 351410\n5   chromedriver                        0x00000001005d64dc chromedriver + 320732\n6   chromedriver                        0x00000001005ed752 chromedriver + 415570\n7   chromedriver                        0x0000000100651bab chromedriver + 826283\n8   chromedriver                        0x000000010063f953 chromedriver + 751955\n9   chromedriver                        0x0000000100615cd5 chromedriver + 580821\n10  chromedriver                        0x0000000100616d25 chromedriver + 584997\n11  chromedriver                        0x000000010099f02d chromedriver + 4288557\n12  chromedriver                        0x00000001009a41b3 chromedriver + 4309427\n13  chromedriver                        0x00000001009a923f chromedriver + 4330047\n14  chromedriver                        0x00000001009a4dfa chromedriver + 4312570\n15  chromedriver                        0x000000010097dfef chromedriver + 4153327\n16  chromedriver                        0x00000001009bed78 chromedriver + 4418936\n17  chromedriver                        0x00000001009beeff chromedriver + 4419327\n18  chromedriver                        0x00000001009d5ab5 chromedriver + 4512437\n19  libsystem_pthread.dylib             0x00007ff808cfc4e1 _pthread_start + 125\n20  libsystem_pthread.dylib             0x00007ff808cf7f6b thread_start + 15\n"
     ]
    }
   ],
   "source": [
    "earliest_paper_years = []\n",
    "#total_rows = data.shape[0]\n",
    "test_data = data.head(100)\n",
    "total_test_rows = test_data.shape[0]\n",
    "\n",
    "for i in range(total_test_rows):\n",
    "    s_id = test_data.iloc[i,3]\n",
    "    if not pd.isna(test_data.iloc[i,4]):\n",
    "        html_text = requests.get(f'https://scholar.google.com/citations?hl=en&user={s_id}&view_op=list_works&sortby=pubdate').text\n",
    "        soup = BeautifulSoup(html_text, 'lxml')\n",
    "        values = soup.find_all('button', id = 'gsc_bpf_more')\n",
    "\n",
    "        driver.get(f'https://scholar.google.com/citations?hl=en&user={s_id}&view_op=list_works&sortby=pubdate')\n",
    "        text1 = driver.page_source\n",
    "        while True:\n",
    "            try:\n",
    "                button = driver.find_element_by_id('gsc_bpf_more')\n",
    "                time.sleep(0.75)\n",
    "                button.click()\n",
    "            except ElementNotInteractableException:\n",
    "                final_text = driver.page_source\n",
    "                break\n",
    "            except NoSuchElementException:\n",
    "                driver.get(f'https://scholar.google.com/citations?hl=en&user={s_id}&view_op=list_works&sortby=pubdate')\n",
    "                break\n",
    "            text2=driver.page_source\n",
    "            if text1 == text2:\n",
    "                final_text = text2\n",
    "                break\n",
    "            else:\n",
    "                text1 = text2\n",
    "\n",
    "        final_soup = BeautifulSoup(final_text, 'lxml')\n",
    "        years = final_soup.find_all('td', class_ = 'gsc_a_y')\n",
    "        years_text = []\n",
    "        for year in years:\n",
    "            years_text.append(year.text)\n",
    "\n",
    "        clean_years = [year_text for year_text in years_text if year_text != '']\n",
    "\n",
    "        min_y = int(clean_years[0])\n",
    "        for clean_y in clean_years:\n",
    "            if int(clean_y) < min_y:\n",
    "                min_y = int(clean_y)\n",
    "        earliest_paper_years.append(str(min_y))\n",
    "\n",
    "    else:\n",
    "        earliest_paper_years.append('')"
   ]
  },
  {
   "cell_type": "code",
   "execution_count": 3,
   "id": "022f0602",
   "metadata": {},
   "outputs": [],
   "source": [
    "from selenium import webdriver\n",
    "import webbrowser\n",
    "from selenium.common.exceptions import ElementNotInteractableException\n",
    "from selenium.common.exceptions import NoSuchElementException\n",
    "from selenium.common.exceptions import StaleElementReferenceException\n",
    "from selenium.webdriver.common.by import By\n",
    "from selenium.webdriver.support.ui import WebDriverWait\n",
    "from selenium.webdriver.support import expected_conditions\n",
    "import time\n",
    "from selenium import webdriver\n",
    "from selenium.webdriver.safari.options import Options\n",
    "from fake_useragent import UserAgent"
   ]
  },
  {
   "cell_type": "code",
   "execution_count": 10,
   "id": "69e978d6",
   "metadata": {},
   "outputs": [
    {
     "name": "stdout",
     "output_type": "stream",
     "text": [
      "\n"
     ]
    },
    {
     "name": "stderr",
     "output_type": "stream",
     "text": [
      "[WDM] - ====== WebDriver manager ======\n"
     ]
    },
    {
     "name": "stdout",
     "output_type": "stream",
     "text": [
      "2022-07-20 15:51:27,871 INFO ====== WebDriver manager ======\n"
     ]
    },
    {
     "name": "stderr",
     "output_type": "stream",
     "text": [
      "[WDM] - Current google-chrome version is 103.0.5060\n"
     ]
    },
    {
     "name": "stdout",
     "output_type": "stream",
     "text": [
      "2022-07-20 15:51:28,049 INFO Current google-chrome version is 103.0.5060\n"
     ]
    },
    {
     "name": "stderr",
     "output_type": "stream",
     "text": [
      "[WDM] - Get LATEST chromedriver version for 103.0.5060 google-chrome\n"
     ]
    },
    {
     "name": "stdout",
     "output_type": "stream",
     "text": [
      "2022-07-20 15:51:28,051 INFO Get LATEST chromedriver version for 103.0.5060 google-chrome\n"
     ]
    },
    {
     "name": "stderr",
     "output_type": "stream",
     "text": [
      "[WDM] - Driver [/Users/kevins/.wdm/drivers/chromedriver/mac64/103.0.5060.134/chromedriver] found in cache\n"
     ]
    },
    {
     "name": "stdout",
     "output_type": "stream",
     "text": [
      "2022-07-20 15:51:28,178 INFO Driver [/Users/kevins/.wdm/drivers/chromedriver/mac64/103.0.5060.134/chromedriver] found in cache\n"
     ]
    },
    {
     "name": "stderr",
     "output_type": "stream",
     "text": [
      "/var/folders/sw/rc481v691q5883ld6bm6jzq80000gn/T/ipykernel_69164/2287171904.py:3: DeprecationWarning: executable_path has been deprecated, please pass in a Service object\n",
      "  driver = webdriver.Chrome(ChromeDriverManager().install(), options=options)\n"
     ]
    }
   ],
   "source": [
    "\n",
    "options = webdriver.ChromeOptions()\n",
    "options.add_argument('--disable-blink-features=AutomationControlled')\n",
    "driver = webdriver.Chrome(ChromeDriverManager().install(), options=options)\n",
    "driver.implicitly_wait(random() * 10)"
   ]
  },
  {
   "cell_type": "code",
   "execution_count": 116,
   "id": "88fdefe5",
   "metadata": {},
   "outputs": [
    {
     "name": "stderr",
     "output_type": "stream",
     "text": [
      "/var/folders/sw/rc481v691q5883ld6bm6jzq80000gn/T/ipykernel_89736/623857051.py:14: DeprecationWarning: find_element_by_* commands are deprecated. Please use find_element() instead\n",
      "  button = driver.find_element_by_id('gsc_bpf_more')\n"
     ]
    }
   ],
   "source": [
    "#\n",
    "#\n",
    "#\n",
    "#TEST#####\n",
    "#\n",
    "#\n",
    "\n",
    "#1. get html text, make soup\n",
    "#2. find button\n",
    "#3. check if button is disabled\n",
    "#4a. Yes: find earliest paper\n",
    "#4b No: Click button, go to #3\n",
    "\n",
    "html_text = requests.get('https://scholar.google.com/citations?hl=en&user=C1skWKgAAAAJ&view_op=list_works&sortby=pubdate').text\n",
    "soup = BeautifulSoup(html_text, 'lxml')\n",
    "values = soup.find_all('button', id = 'gsc_bpf_more')\n",
    "\n",
    "driver.get('https://scholar.google.com/citations?hl=en&user=C1skWKgAAAAJ&view_op=list_works&sortby=pubdate')\n",
    "text1 = driver.page_source\n",
    "while True:\n",
    "    button = driver.find_element_by_id('gsc_bpf_more')\n",
    "    button.click()\n",
    "    text2=driver.page_source\n",
    "    if text1 == text2:\n",
    "        final_text = text2\n",
    "        break\n",
    "    else:\n",
    "        text1 = text2\n",
    "        \n",
    "final_soup = BeautifulSoup(final_text, 'lxml')\n",
    "years = final_soup.find_all('td', class_ = 'gsc_a_y')\n",
    "years_text = []\n",
    "for year in years:\n",
    "    years_text.append(year.text)\n",
    "\n",
    "clean_years = [year_text for year_text in years_text if year_text != '']\n",
    "\n",
    "min_y = int(clean_years[0])\n",
    "for clean_y in clean_years:\n",
    "    if int(clean_y) < min_y:\n",
    "        min_y = int(clean_y)\n",
    "\n"
   ]
  },
  {
   "cell_type": "code",
   "execution_count": 12,
   "id": "1d689407",
   "metadata": {},
   "outputs": [
    {
     "name": "stderr",
     "output_type": "stream",
     "text": [
      "Error occurred during loading data. Trying to use cache server https://fake-useragent.herokuapp.com/browsers/0.1.11\n",
      "Traceback (most recent call last):\n",
      "  File \"/usr/local/lib/python3.9/site-packages/fake_useragent/utils.py\", line 154, in load\n",
      "    for item in get_browsers(verify_ssl=verify_ssl):\n",
      "  File \"/usr/local/lib/python3.9/site-packages/fake_useragent/utils.py\", line 99, in get_browsers\n",
      "    html = html.split('<table class=\"w3-table-all notranslate\">')[1]\n",
      "IndexError: list index out of range\n"
     ]
    },
    {
     "ename": "TypeError",
     "evalue": "__init__() got an unexpected keyword argument 'safari_options'",
     "output_type": "error",
     "traceback": [
      "\u001b[0;31m---------------------------------------------------------------------------\u001b[0m",
      "\u001b[0;31mTypeError\u001b[0m                                 Traceback (most recent call last)",
      "Input \u001b[0;32mIn [12]\u001b[0m, in \u001b[0;36m<cell line: 9>\u001b[0;34m()\u001b[0m\n\u001b[1;32m      7\u001b[0m userAgent \u001b[38;5;241m=\u001b[39m ua\u001b[38;5;241m.\u001b[39mrandom\n\u001b[1;32m      8\u001b[0m options\u001b[38;5;241m.\u001b[39madd_argument(\u001b[38;5;124mf\u001b[39m\u001b[38;5;124m'\u001b[39m\u001b[38;5;124muser-agent=\u001b[39m\u001b[38;5;132;01m{\u001b[39;00muserAgent\u001b[38;5;132;01m}\u001b[39;00m\u001b[38;5;124m'\u001b[39m)\n\u001b[0;32m----> 9\u001b[0m driver \u001b[38;5;241m=\u001b[39m \u001b[43mwebdriver\u001b[49m\u001b[38;5;241;43m.\u001b[39;49m\u001b[43mSafari\u001b[49m\u001b[43m(\u001b[49m\u001b[43msafari_options\u001b[49m\u001b[38;5;241;43m=\u001b[39;49m\u001b[43moptions\u001b[49m\u001b[43m)\u001b[49m\n",
      "\u001b[0;31mTypeError\u001b[0m: __init__() got an unexpected keyword argument 'safari_options'"
     ]
    }
   ],
   "source": [
    "from selenium import webdriver\n",
    "from selenium.webdriver.chrome.options import Options\n",
    "from fake_useragent import UserAgent\n",
    "\n",
    "options = Options()\n",
    "ua = UserAgent()\n",
    "userAgent = ua.random\n",
    "options.add_argument(f'user-agent={userAgent}')\n",
    "driver = webdriver.Safari(=options)\n"
   ]
  },
  {
   "cell_type": "code",
   "execution_count": 7,
   "id": "a5cc26b6",
   "metadata": {},
   "outputs": [
    {
     "name": "stdout",
     "output_type": "stream",
     "text": [
      "\u001b[33mDEPRECATION: Configuring installation scheme with distutils config files is deprecated and will no longer work in the near future. If you are using a Homebrew or Linuxbrew Python, please see discussion at https://github.com/Homebrew/homebrew-core/issues/76621\u001b[0m\u001b[33m\n",
      "\u001b[0m\u001b[31mERROR: Could not find a version that satisfies the requirement webdriver (from versions: none)\u001b[0m\u001b[31m\n",
      "\u001b[0m\u001b[31mERROR: No matching distribution found for webdriver\u001b[0m\u001b[31m\n",
      "\u001b[0mNote: you may need to restart the kernel to use updated packages.\n"
     ]
    }
   ],
   "source": [
    "pip install webdriver"
   ]
  },
  {
   "cell_type": "code",
   "execution_count": 9,
   "id": "b252e3b8",
   "metadata": {},
   "outputs": [],
   "source": [
    "from cmath import isnan\n",
    "import os\n",
    "from random import random\n",
    "import time\n",
    "from typing import Any\n",
    "import pandas as pd\n",
    "from selenium import webdriver\n",
    "from webdriver_manager.chrome import ChromeDriverManager\n",
    "from selenium.webdriver.common.keys import Keys\n",
    "from selenium.webdriver.common.by import By\n",
    "from selenium.common.exceptions import NoSuchElementException\n",
    "from csv import writer\n",
    "options = webdriver.ChromeOptions()\n",
    "options.add_argument('--disable-blink-features=AutomationControlled')\n",
    "driver = webdriver.Chrome(ChromeDriverManager().install(), options=options)\n",
    "driver.implicitly_wait(random() * 10)"
   ]
  },
  {
   "cell_type": "code",
   "execution_count": null,
   "id": "5d288177",
   "metadata": {},
   "outputs": [],
   "source": []
  }
 ],
 "metadata": {
  "kernelspec": {
   "display_name": "Python 3 (ipykernel)",
   "language": "python",
   "name": "python3"
  },
  "language_info": {
   "codemirror_mode": {
    "name": "ipython",
    "version": 3
   },
   "file_extension": ".py",
   "mimetype": "text/x-python",
   "name": "python",
   "nbconvert_exporter": "python",
   "pygments_lexer": "ipython3",
   "version": "3.9.12"
  }
 },
 "nbformat": 4,
 "nbformat_minor": 5
}
