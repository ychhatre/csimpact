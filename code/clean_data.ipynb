{
 "cells": [
  {
   "cell_type": "code",
   "execution_count": 1,
   "id": "26cabf5d",
   "metadata": {},
   "outputs": [
    {
     "data": {
      "text/plain": [
       "' \\n1. import data\\n\\n2. remove numbers from names\\n\\n3. remove duplicate rows\\n\\n4. edit names to take out abbreviations\\n\\n5. edit names to split hyphens\\n\\n6. save modified data to spreadsheet\\n'"
      ]
     },
     "execution_count": 1,
     "metadata": {},
     "output_type": "execute_result"
    }
   ],
   "source": [
    "\"\"\" \n",
    "1. import data\n",
    "\n",
    "2. remove numbers from names\n",
    "\n",
    "3. remove duplicate rows\n",
    "\n",
    "4. edit names to take out abbreviations\n",
    "\n",
    "5. edit names to split hyphens\n",
    "\n",
    "6. save modified data to spreadsheet\n",
    "\"\"\""
   ]
  },
  {
   "cell_type": "code",
   "execution_count": 2,
   "id": "cce91f49",
   "metadata": {},
   "outputs": [],
   "source": [
    "import pandas as pd"
   ]
  },
  {
   "cell_type": "code",
   "execution_count": 11,
   "id": "b297ea04",
   "metadata": {},
   "outputs": [],
   "source": [
    "data = pd.read_csv('/Users/kevins/Documents/CSImpact/data/all_prof_data.csv')"
   ]
  },
  {
   "cell_type": "code",
   "execution_count": 4,
   "id": "2fbff07e",
   "metadata": {},
   "outputs": [
    {
     "data": {
      "text/html": [
       "<div>\n",
       "<style scoped>\n",
       "    .dataframe tbody tr th:only-of-type {\n",
       "        vertical-align: middle;\n",
       "    }\n",
       "\n",
       "    .dataframe tbody tr th {\n",
       "        vertical-align: top;\n",
       "    }\n",
       "\n",
       "    .dataframe thead th {\n",
       "        text-align: right;\n",
       "    }\n",
       "</style>\n",
       "<table border=\"1\" class=\"dataframe\">\n",
       "  <thead>\n",
       "    <tr style=\"text-align: right;\">\n",
       "      <th></th>\n",
       "      <th>name</th>\n",
       "      <th>affiliation</th>\n",
       "      <th>homepage</th>\n",
       "      <th>scholarid</th>\n",
       "    </tr>\n",
       "  </thead>\n",
       "  <tbody>\n",
       "    <tr>\n",
       "      <th>0</th>\n",
       "      <td>A Min Tjoa</td>\n",
       "      <td>TU Wien</td>\n",
       "      <td>http://www.ifs.tuwien.ac.at/tjoa</td>\n",
       "      <td>x8qCMhcAAAAJ</td>\n",
       "    </tr>\n",
       "    <tr>\n",
       "      <th>1</th>\n",
       "      <td>A. Akbari Azirani</td>\n",
       "      <td>IUST</td>\n",
       "      <td>http://ce.iust.ac.ir/page.php?slct_pg_id=6537&amp;...</td>\n",
       "      <td>pCil4_cAAAAJ</td>\n",
       "    </tr>\n",
       "    <tr>\n",
       "      <th>2</th>\n",
       "      <td>A. Akbariazirani</td>\n",
       "      <td>IUST</td>\n",
       "      <td>http://ce.iust.ac.ir/page.php?slct_pg_id=6537&amp;...</td>\n",
       "      <td>pCil4_cAAAAJ</td>\n",
       "    </tr>\n",
       "    <tr>\n",
       "      <th>3</th>\n",
       "      <td>A. Aldo Faisal</td>\n",
       "      <td>Imperial College London</td>\n",
       "      <td>https://www.imperial.ac.uk/people/a.faisal</td>\n",
       "      <td>WjHjbrwAAAAJ</td>\n",
       "    </tr>\n",
       "    <tr>\n",
       "      <th>4</th>\n",
       "      <td>A. Antony Franklin</td>\n",
       "      <td>IIT Hyderabad</td>\n",
       "      <td>http://www.iith.ac.in/~antony/index.html</td>\n",
       "      <td>LVfqLuoAAAAJ</td>\n",
       "    </tr>\n",
       "  </tbody>\n",
       "</table>\n",
       "</div>"
      ],
      "text/plain": [
       "                 name              affiliation  \\\n",
       "0          A Min Tjoa                  TU Wien   \n",
       "1   A. Akbari Azirani                     IUST   \n",
       "2    A. Akbariazirani                     IUST   \n",
       "3      A. Aldo Faisal  Imperial College London   \n",
       "4  A. Antony Franklin            IIT Hyderabad   \n",
       "\n",
       "                                            homepage     scholarid  \n",
       "0                   http://www.ifs.tuwien.ac.at/tjoa  x8qCMhcAAAAJ  \n",
       "1  http://ce.iust.ac.ir/page.php?slct_pg_id=6537&...  pCil4_cAAAAJ  \n",
       "2  http://ce.iust.ac.ir/page.php?slct_pg_id=6537&...  pCil4_cAAAAJ  \n",
       "3         https://www.imperial.ac.uk/people/a.faisal  WjHjbrwAAAAJ  \n",
       "4           http://www.iith.ac.in/~antony/index.html  LVfqLuoAAAAJ  "
      ]
     },
     "execution_count": 4,
     "metadata": {},
     "output_type": "execute_result"
    }
   ],
   "source": [
    "data.head()"
   ]
  },
  {
   "cell_type": "code",
   "execution_count": 5,
   "id": "76543ea1",
   "metadata": {},
   "outputs": [],
   "source": [
    "def edit_name(name):\n",
    "    edited_name = ''\n",
    "    name = name.split()\n",
    "    for word in name:\n",
    "        if '.' in word:\n",
    "            name.remove(word)\n",
    "            \n",
    "        if len(name) == 1:\n",
    "            edited_name = name[0]\n",
    "        else:\n",
    "             edited_name = name[0] + ' '+ name[-1]\n",
    "    \n",
    "    return edited_name"
   ]
  },
  {
   "cell_type": "code",
   "execution_count": 7,
   "id": "78175d60",
   "metadata": {},
   "outputs": [
    {
     "data": {
      "text/html": [
       "<div>\n",
       "<style scoped>\n",
       "    .dataframe tbody tr th:only-of-type {\n",
       "        vertical-align: middle;\n",
       "    }\n",
       "\n",
       "    .dataframe tbody tr th {\n",
       "        vertical-align: top;\n",
       "    }\n",
       "\n",
       "    .dataframe thead th {\n",
       "        text-align: right;\n",
       "    }\n",
       "</style>\n",
       "<table border=\"1\" class=\"dataframe\">\n",
       "  <thead>\n",
       "    <tr style=\"text-align: right;\">\n",
       "      <th></th>\n",
       "      <th>name</th>\n",
       "      <th>affiliation</th>\n",
       "      <th>homepage</th>\n",
       "      <th>scholarid</th>\n",
       "    </tr>\n",
       "  </thead>\n",
       "  <tbody>\n",
       "    <tr>\n",
       "      <th>22379</th>\n",
       "      <td>Tong Yang 0003</td>\n",
       "      <td>Peking University</td>\n",
       "      <td>http://net.pku.edu.cn/~yangtong</td>\n",
       "      <td>zYDaX-4AAAAJ</td>\n",
       "    </tr>\n",
       "  </tbody>\n",
       "</table>\n",
       "</div>"
      ],
      "text/plain": [
       "                 name        affiliation                         homepage  \\\n",
       "22379  Tong Yang 0003  Peking University  http://net.pku.edu.cn/~yangtong   \n",
       "\n",
       "          scholarid  \n",
       "22379  zYDaX-4AAAAJ  "
      ]
     },
     "execution_count": 7,
     "metadata": {},
     "output_type": "execute_result"
    }
   ],
   "source": [
    "data.loc[data['name'] == 'Tong Yang 0003']"
   ]
  },
  {
   "cell_type": "code",
   "execution_count": 12,
   "id": "4bb518e9",
   "metadata": {},
   "outputs": [],
   "source": [
    "#remove zeros\n",
    "for i in range(data.shape[0]):\n",
    "    temp = ''\n",
    "    if '0' in data.iloc[i,0]:\n",
    "        data.iloc[i,0] = data.iloc[i,0].split()\n",
    "        data.iloc[i,0].remove(data.iloc[i,0][-1])\n",
    "        data.iloc[i,0] = data.iloc[i,0][0] + ' '+  data.iloc[i,0][-1]"
   ]
  },
  {
   "cell_type": "code",
   "execution_count": 13,
   "id": "8ac45c7b",
   "metadata": {},
   "outputs": [
    {
     "data": {
      "text/html": [
       "<div>\n",
       "<style scoped>\n",
       "    .dataframe tbody tr th:only-of-type {\n",
       "        vertical-align: middle;\n",
       "    }\n",
       "\n",
       "    .dataframe tbody tr th {\n",
       "        vertical-align: top;\n",
       "    }\n",
       "\n",
       "    .dataframe thead th {\n",
       "        text-align: right;\n",
       "    }\n",
       "</style>\n",
       "<table border=\"1\" class=\"dataframe\">\n",
       "  <thead>\n",
       "    <tr style=\"text-align: right;\">\n",
       "      <th></th>\n",
       "      <th>name</th>\n",
       "      <th>affiliation</th>\n",
       "      <th>homepage</th>\n",
       "      <th>scholarid</th>\n",
       "    </tr>\n",
       "  </thead>\n",
       "  <tbody>\n",
       "  </tbody>\n",
       "</table>\n",
       "</div>"
      ],
      "text/plain": [
       "Empty DataFrame\n",
       "Columns: [name, affiliation, homepage, scholarid]\n",
       "Index: []"
      ]
     },
     "execution_count": 13,
     "metadata": {},
     "output_type": "execute_result"
    }
   ],
   "source": [
    "data.loc[data['name'] == 'Tong Yang 0003']"
   ]
  },
  {
   "cell_type": "code",
   "execution_count": 14,
   "id": "c98cc3d8",
   "metadata": {},
   "outputs": [
    {
     "data": {
      "text/html": [
       "<div>\n",
       "<style scoped>\n",
       "    .dataframe tbody tr th:only-of-type {\n",
       "        vertical-align: middle;\n",
       "    }\n",
       "\n",
       "    .dataframe tbody tr th {\n",
       "        vertical-align: top;\n",
       "    }\n",
       "\n",
       "    .dataframe thead th {\n",
       "        text-align: right;\n",
       "    }\n",
       "</style>\n",
       "<table border=\"1\" class=\"dataframe\">\n",
       "  <thead>\n",
       "    <tr style=\"text-align: right;\">\n",
       "      <th></th>\n",
       "      <th>name</th>\n",
       "      <th>affiliation</th>\n",
       "      <th>homepage</th>\n",
       "      <th>scholarid</th>\n",
       "    </tr>\n",
       "  </thead>\n",
       "  <tbody>\n",
       "    <tr>\n",
       "      <th>22379</th>\n",
       "      <td>Tong Yang</td>\n",
       "      <td>Peking University</td>\n",
       "      <td>http://net.pku.edu.cn/~yangtong</td>\n",
       "      <td>zYDaX-4AAAAJ</td>\n",
       "    </tr>\n",
       "  </tbody>\n",
       "</table>\n",
       "</div>"
      ],
      "text/plain": [
       "            name        affiliation                         homepage  \\\n",
       "22379  Tong Yang  Peking University  http://net.pku.edu.cn/~yangtong   \n",
       "\n",
       "          scholarid  \n",
       "22379  zYDaX-4AAAAJ  "
      ]
     },
     "execution_count": 14,
     "metadata": {},
     "output_type": "execute_result"
    }
   ],
   "source": [
    "data.loc[data['name'] == 'Tong Yang']"
   ]
  },
  {
   "cell_type": "code",
   "execution_count": 15,
   "id": "b768bba5",
   "metadata": {},
   "outputs": [],
   "source": [
    "#Remove abbreviations\n",
    "for i in range(data.shape[0]):\n",
    "    data.iloc[i,0] = edit_name(data.iloc[i,0])"
   ]
  },
  {
   "cell_type": "code",
   "execution_count": 34,
   "id": "9df8bd09",
   "metadata": {},
   "outputs": [],
   "source": [
    "data =data.drop_duplicates()"
   ]
  },
  {
   "cell_type": "code",
   "execution_count": 35,
   "id": "4f0b5f1e",
   "metadata": {},
   "outputs": [],
   "source": [
    "data = data.reset_index(drop = True)"
   ]
  },
  {
   "cell_type": "code",
   "execution_count": 37,
   "id": "94f858fc",
   "metadata": {},
   "outputs": [
    {
     "data": {
      "text/html": [
       "<div>\n",
       "<style scoped>\n",
       "    .dataframe tbody tr th:only-of-type {\n",
       "        vertical-align: middle;\n",
       "    }\n",
       "\n",
       "    .dataframe tbody tr th {\n",
       "        vertical-align: top;\n",
       "    }\n",
       "\n",
       "    .dataframe thead th {\n",
       "        text-align: right;\n",
       "    }\n",
       "</style>\n",
       "<table border=\"1\" class=\"dataframe\">\n",
       "  <thead>\n",
       "    <tr style=\"text-align: right;\">\n",
       "      <th></th>\n",
       "      <th>name</th>\n",
       "      <th>affiliation</th>\n",
       "      <th>homepage</th>\n",
       "      <th>scholarid</th>\n",
       "    </tr>\n",
       "  </thead>\n",
       "  <tbody>\n",
       "    <tr>\n",
       "      <th>0</th>\n",
       "      <td>A Tjoa</td>\n",
       "      <td>TU Wien</td>\n",
       "      <td>http://www.ifs.tuwien.ac.at/tjoa</td>\n",
       "      <td>x8qCMhcAAAAJ</td>\n",
       "    </tr>\n",
       "    <tr>\n",
       "      <th>1</th>\n",
       "      <td>Akbari Azirani</td>\n",
       "      <td>IUST</td>\n",
       "      <td>http://ce.iust.ac.ir/page.php?slct_pg_id=6537&amp;...</td>\n",
       "      <td>pCil4_cAAAAJ</td>\n",
       "    </tr>\n",
       "    <tr>\n",
       "      <th>2</th>\n",
       "      <td>Akbariazirani</td>\n",
       "      <td>IUST</td>\n",
       "      <td>http://ce.iust.ac.ir/page.php?slct_pg_id=6537&amp;...</td>\n",
       "      <td>pCil4_cAAAAJ</td>\n",
       "    </tr>\n",
       "    <tr>\n",
       "      <th>3</th>\n",
       "      <td>Aldo Faisal</td>\n",
       "      <td>Imperial College London</td>\n",
       "      <td>https://www.imperial.ac.uk/people/a.faisal</td>\n",
       "      <td>WjHjbrwAAAAJ</td>\n",
       "    </tr>\n",
       "    <tr>\n",
       "      <th>4</th>\n",
       "      <td>Antony Franklin</td>\n",
       "      <td>IIT Hyderabad</td>\n",
       "      <td>http://www.iith.ac.in/~antony/index.html</td>\n",
       "      <td>LVfqLuoAAAAJ</td>\n",
       "    </tr>\n",
       "    <tr>\n",
       "      <th>...</th>\n",
       "      <td>...</td>\n",
       "      <td>...</td>\n",
       "      <td>...</td>\n",
       "      <td>...</td>\n",
       "    </tr>\n",
       "    <tr>\n",
       "      <th>22712</th>\n",
       "      <td>Zvi Galil</td>\n",
       "      <td>Georgia Institute of Technology</td>\n",
       "      <td>http://www.cc.gatech.edu/people/zvi-galil</td>\n",
       "      <td>NOSCHOLARPAGE</td>\n",
       "    </tr>\n",
       "    <tr>\n",
       "      <th>22713</th>\n",
       "      <td>Zvi Kedem</td>\n",
       "      <td>New York University</td>\n",
       "      <td>http://cs.nyu.edu/kedem</td>\n",
       "      <td>NOSCHOLARPAGE</td>\n",
       "    </tr>\n",
       "    <tr>\n",
       "      <th>22714</th>\n",
       "      <td>Zvika Brakerski</td>\n",
       "      <td>Weizmann Institute of Science</td>\n",
       "      <td>https://www.weizmann.ac.il/pages/search/people...</td>\n",
       "      <td>l0CjtK4AAAAJ</td>\n",
       "    </tr>\n",
       "    <tr>\n",
       "      <th>22715</th>\n",
       "      <td>Zvonimir Rakamaric</td>\n",
       "      <td>University of Utah</td>\n",
       "      <td>http://www.zvonimir.info</td>\n",
       "      <td>Ui1q1jkAAAAJ</td>\n",
       "    </tr>\n",
       "    <tr>\n",
       "      <th>22716</th>\n",
       "      <td>Zygmunt Haas</td>\n",
       "      <td>University of Texas at Dallas</td>\n",
       "      <td>http://www.utdallas.edu/~zjh130030</td>\n",
       "      <td>tk8qFe0AAAAJ</td>\n",
       "    </tr>\n",
       "  </tbody>\n",
       "</table>\n",
       "<p>22717 rows × 4 columns</p>\n",
       "</div>"
      ],
      "text/plain": [
       "                     name                      affiliation  \\\n",
       "0                  A Tjoa                          TU Wien   \n",
       "1          Akbari Azirani                             IUST   \n",
       "2           Akbariazirani                             IUST   \n",
       "3             Aldo Faisal          Imperial College London   \n",
       "4         Antony Franklin                    IIT Hyderabad   \n",
       "...                   ...                              ...   \n",
       "22712           Zvi Galil  Georgia Institute of Technology   \n",
       "22713           Zvi Kedem              New York University   \n",
       "22714     Zvika Brakerski    Weizmann Institute of Science   \n",
       "22715  Zvonimir Rakamaric               University of Utah   \n",
       "22716        Zygmunt Haas    University of Texas at Dallas   \n",
       "\n",
       "                                                homepage      scholarid  \n",
       "0                       http://www.ifs.tuwien.ac.at/tjoa   x8qCMhcAAAAJ  \n",
       "1      http://ce.iust.ac.ir/page.php?slct_pg_id=6537&...   pCil4_cAAAAJ  \n",
       "2      http://ce.iust.ac.ir/page.php?slct_pg_id=6537&...   pCil4_cAAAAJ  \n",
       "3             https://www.imperial.ac.uk/people/a.faisal   WjHjbrwAAAAJ  \n",
       "4               http://www.iith.ac.in/~antony/index.html   LVfqLuoAAAAJ  \n",
       "...                                                  ...            ...  \n",
       "22712          http://www.cc.gatech.edu/people/zvi-galil  NOSCHOLARPAGE  \n",
       "22713                            http://cs.nyu.edu/kedem  NOSCHOLARPAGE  \n",
       "22714  https://www.weizmann.ac.il/pages/search/people...   l0CjtK4AAAAJ  \n",
       "22715                           http://www.zvonimir.info   Ui1q1jkAAAAJ  \n",
       "22716                 http://www.utdallas.edu/~zjh130030   tk8qFe0AAAAJ  \n",
       "\n",
       "[22717 rows x 4 columns]"
      ]
     },
     "execution_count": 37,
     "metadata": {},
     "output_type": "execute_result"
    }
   ],
   "source": [
    "data"
   ]
  },
  {
   "cell_type": "code",
   "execution_count": 58,
   "id": "bba3a394",
   "metadata": {},
   "outputs": [],
   "source": [
    "#eliminate hyphens\n",
    "for i in range(data.shape[0]):\n",
    "    name = data.iloc[i,0]\n",
    "    if '-' in name:\n",
    "        data.iloc[i,0] = name[0:name.index('-')] + ' ' + name[(name.index('-') +1):(len(name))]"
   ]
  },
  {
   "cell_type": "code",
   "execution_count": 64,
   "id": "862787ec",
   "metadata": {},
   "outputs": [],
   "source": [
    "data.to_csv('cleaned_prof_data.xlsx')"
   ]
  },
  {
   "cell_type": "code",
   "execution_count": null,
   "id": "f111d687",
   "metadata": {},
   "outputs": [],
   "source": []
  }
 ],
 "metadata": {
  "kernelspec": {
   "display_name": "Python 3 (ipykernel)",
   "language": "python",
   "name": "python3"
  },
  "language_info": {
   "codemirror_mode": {
    "name": "ipython",
    "version": 3
   },
   "file_extension": ".py",
   "mimetype": "text/x-python",
   "name": "python",
   "nbconvert_exporter": "python",
   "pygments_lexer": "ipython3",
   "version": "3.9.12"
  }
 },
 "nbformat": 4,
 "nbformat_minor": 5
}
